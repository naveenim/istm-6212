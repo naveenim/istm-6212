{
 "cells": [
  {
   "cell_type": "markdown",
   "metadata": {},
   "source": [
    "# Federal Contracts FY2016\n",
    "\n",
    "#### Team Members:\n",
    "* Kelly Berdelle\n",
    "* Daniel Chen\n",
    "* Kevin Fitzgerald\n",
    "* Naveen Ithikkat\n",
    "\n",
    "Attestation: All team members contributed substantially to this final product. At every stage -- from selecting a dataset to reporting results -- one of us took the lead and the others consulted.\n"
   ]
  },
  {
   "cell_type": "markdown",
   "metadata": {},
   "source": [
    "## Executive Summary\n",
    "### Selection\n",
    "We wanted to work with a large data set. We spent nearly a week considering scores of datasets ranging from climate data through Kaggle competitions. We settled on federal contracts from usaspending.gov (see Introduction - data selection). It is the first dataset of transactional grain that we all liked. If we looked at a full fiscal year we could avoid seasonality and have a plenty large dataset. Initial exploration clarified our key questions. We wanted to follow the money. We wanted to determine which agencies were letting the most contracts and for the largest total amounts (and which vendors were getting them). While the data did exhibit some small imperfections, it generally appeared very clean. So we did not need to clean the data as these small imperfections would not alter any of the high level results we were after. The only real challenge would be to reliably process such a large dataset in a replicable notebook.\n",
    "### Wrangling\n",
    "Our inital dataset (4.2M records with 225 variables) immediately hit storage and processing limits on datanotebook.org. So we dropped all but 28 variables. But the data was still too large to handle. So we took a 1/16 sample. These two steps (taking a subset and taking a sample) take 8-10 minutes total to complete (the longest steps in this notebook). But they yield a dataset that can be loaded into a database. All steps are documented in 'Data acquisition and exploration'.\n",
    "\n",
    "The data is then loaded into a database in a star schema with 3 dimension tables. At every stage in its design we take care to ensure all data is loaded and there are no orphaned records. All steps are documented in 'Load data into database'.\n",
    "### Analysis\n",
    "Here we follow the money. We see that most of the top ten agencies and all of the top ten contracts are in the defense industry. More specifically, the highest value contracts procure aircraft. We were surpised to see that the signing of federal contracts is generally evenly distributed throughout the fiscal year (initial exploration indicated that as any as half of all contracts were signed in the first two months of the fiscal year). Our summary analysis indicates that the federal government is spending a great deal of contract money on equipment to be used by the Department of Defense.\n"
   ]
  },
  {
   "cell_type": "markdown",
   "metadata": {},
   "source": [
    "## Outline\n",
    "* Introduction - data selection\n",
    "* Loading the Data\n",
    "    Data acquisition and exploration\n",
    "    Load data into database\n",
    "* Analyzing the Data\n",
    "* Conclusion\n"
   ]
  },
  {
   "cell_type": "markdown",
   "metadata": {},
   "source": [
    "## Introduction - data selection\n",
    "\n",
    "We took a look at dozens of data sets for this project. We wanted to work with a large data set with a transactional grain. There is no shortage of data to examine. We briefly considered genomic data, web-scraped click-through data, meteorological and climate change data, data from Kaggle competitions, etc. Daniel suggested we look at federal contracts data. We all liked the idea. We shared the objective of simply summarizing the data to determine where the federal contracting dollars were going and what they were buying. It met all our requirements. It has a transactional grain, we could avoid seasonality (if any) by looking at an entire fiscal year and the dataset was large.\n",
    "\n",
    "For this project, we studied US federal contracts from fiscal year 2016, beginning October 1, 2015. Our data is from usaspending.gov, a public website that displays data \"to give the American public access to information on how their tax dollars are being spent.\" While federal spending includes grants, loans, and other financial assistance, we focus on federal contracts, since federal contracting is a field we may enter upon graduation from GWSB. \n",
    "\n",
    "The overview chart below shows that contracts are a relatively small part of overall federal payments. More than USD 425b in contract payments were made in FY2016. This sounds like a lot of money. And it is. But it's quite small compared to grants (USD 654b) and other (USD 1.7t includes: social security, medicare, medicaid, etc.)."
   ]
  },
  {
   "cell_type": "markdown",
   "metadata": {},
   "source": [
    "![](https://docs.google.com/drawings/d/1tucW-QQ8VDZU3BTlR9ic1WeyciMzqOd9oWzi0d_Q_yo/pub?w=957&h=593)"
   ]
  },
  {
   "cell_type": "markdown",
   "metadata": {},
   "source": [
    "## Loading the Data\n",
    "We examine data on federal contracts during Fiscal Year 2016 (November 2015 through October 2016). This dataset has approximately 4.2 million records, so we will need to use special techniques to process this data on datanotebook.org."
   ]
  },
  {
   "cell_type": "markdown",
   "metadata": {},
   "source": [
    "### Data acquisition and exploration"
   ]
  },
  {
   "cell_type": "code",
   "execution_count": 1,
   "metadata": {},
   "outputs": [],
   "source": [
    "!wget \"http://download.usaspending.gov/data_archives/201611/csv/2016_All_Contracts_Full_20161115.csv.zip\""
   ]
  },
  {
   "cell_type": "markdown",
   "metadata": {},
   "source": [
    "Our initial data file contains 4.2 million transactions and 225 variables. It is 969MB zipped and nearly 9GB expanded. Datanotebook.org allocates ~4GB of working storage. As such, a full fiscal year of federal contracts is simply too large for our workspace. So we begin by extracting 28 variables of interest. Expect this extraction cell to take 6-8 minutes to complete on datanotebook.org. "
   ]
  },
  {
   "cell_type": "code",
   "execution_count": 2,
   "metadata": {},
   "outputs": [],
   "source": [
    "!zcat '2016_All_Contracts_Full_20161115.csv.zip' | csvcut -c 1,3,4,5,6,9,10,14,15,16,17,44,56,57,58,59,65,66,71,81,84,120,121,129,130,137,143,145 > first_cut.csv"
   ]
  },
  {
   "cell_type": "markdown",
   "metadata": {},
   "source": [
    "Because we're concerned about space, we compress our data at all times."
   ]
  },
  {
   "cell_type": "code",
   "execution_count": 3,
   "metadata": {},
   "outputs": [],
   "source": [
    "!gzip first_cut.csv"
   ]
  },
  {
   "cell_type": "markdown",
   "metadata": {},
   "source": [
    "This 'first_cut' subset of 28 variables is 1.8GB but compresses to 328MB when zipped."
   ]
  },
  {
   "cell_type": "code",
   "execution_count": 4,
   "metadata": {},
   "outputs": [
    {
     "name": "stdout",
     "output_type": "stream",
     "text": [
      "total 1.3G\r\n",
      "drwxr-xr-x  3 jovyan users  151 Dec  6 22:29 .\r\n",
      "drwxr-xr-x 11 jovyan users 4.0K Sep 28 20:02 ..\r\n",
      "-rw-r--r--  1 jovyan users 969M Nov 21 04:55 2016_All_Contracts_Full_20161115.csv.zip\r\n",
      "-rw-r--r--  1 jovyan users  46K Dec  6 22:28 FederalContracts9.ipynb\r\n",
      "-rw-r--r--  1 jovyan users 328M Dec  6 22:28 first_cut.csv.gz\r\n",
      "drwxr-xr-x  2 jovyan users   47 Dec  6 22:21 .ipynb_checkpoints\r\n",
      "-rw-r--r--  1 root   root  1.4K Oct  7 00:17 .nbgrader.log\r\n"
     ]
    }
   ],
   "source": [
    "!ls -lah"
   ]
  },
  {
   "cell_type": "code",
   "execution_count": 5,
   "metadata": {},
   "outputs": [
    {
     "name": "stdout",
     "output_type": "stream",
     "text": [
      "4202303\r\n"
     ]
    }
   ],
   "source": [
    "!zcat 'first_cut.csv' | wc -l"
   ]
  },
  {
   "cell_type": "markdown",
   "metadata": {},
   "source": [
    "Even so the 28 variable subset is still unwieldy. With 4.2 million records all attempts to report descriptive statistics (csvstat) on even one variable are immediately killed. "
   ]
  },
  {
   "cell_type": "code",
   "execution_count": 6,
   "metadata": {},
   "outputs": [
    {
     "name": "stdout",
     "output_type": "stream",
     "text": [
      "Killed\r\n",
      "\r\n",
      "gzip: stdout: Broken pipe\r\n"
     ]
    }
   ],
   "source": [
    "!zcat 'first_cut.csv' | csvstat -c 2"
   ]
  },
  {
   "cell_type": "markdown",
   "metadata": {},
   "source": [
    "So we must work with a sample. We could use !shuf to draw a sample, but it may not complete and will not be replicable unless a seed is specified. We were unable to make it work here. Instead, we use csvgrep on unique_transaction_ID (a unique 32 character hexadecimal (0-f) string) to draw a 1/16 sample. We select every observation with a specified first character (in this case '0')."
   ]
  },
  {
   "cell_type": "code",
   "execution_count": 7,
   "metadata": {},
   "outputs": [],
   "source": [
    "!zcat 'first_cut.csv' | csvgrep -c 1 -r \"^0\" > Sample.csv"
   ]
  },
  {
   "cell_type": "code",
   "execution_count": 8,
   "metadata": {},
   "outputs": [
    {
     "name": "stdout",
     "output_type": "stream",
     "text": [
      "263230 Sample.csv\r\n"
     ]
    }
   ],
   "source": [
    "!wc -l Sample.csv"
   ]
  },
  {
   "cell_type": "code",
   "execution_count": 9,
   "metadata": {
    "collapsed": true
   },
   "outputs": [],
   "source": [
    "!gzip Sample.csv"
   ]
  },
  {
   "cell_type": "code",
   "execution_count": 10,
   "metadata": {},
   "outputs": [
    {
     "name": "stdout",
     "output_type": "stream",
     "text": [
      "No errors.\r\n"
     ]
    }
   ],
   "source": [
    "!zcat 'Sample.csv' | csvclean"
   ]
  },
  {
   "cell_type": "code",
   "execution_count": 11,
   "metadata": {},
   "outputs": [
    {
     "name": "stdout",
     "output_type": "stream",
     "text": [
      "total 1.4G\r\n",
      "drwxr-xr-x  3 jovyan users 4.0K Dec  6 22:30 .\r\n",
      "drwxr-xr-x 11 jovyan users 4.0K Sep 28 20:02 ..\r\n",
      "-rw-r--r--  1 jovyan users 969M Nov 21 04:55 2016_All_Contracts_Full_20161115.csv.zip\r\n",
      "-rw-r--r--  1 jovyan users  47K Dec  6 22:30 FederalContracts9.ipynb\r\n",
      "-rw-r--r--  1 jovyan users 328M Dec  6 22:28 first_cut.csv.gz\r\n",
      "drwxr-xr-x  2 jovyan users   47 Dec  6 22:21 .ipynb_checkpoints\r\n",
      "-rw-r--r--  1 root   root  1.4K Oct  7 00:17 .nbgrader.log\r\n",
      "-rw-r--r--  1 jovyan users  23M Dec  6 22:30 Sample.csv.gz\r\n",
      "-rw-r--r--  1 jovyan users 110M Dec  6 22:31 <stdin>_out.csv\r\n"
     ]
    }
   ],
   "source": [
    "!ls -lah"
   ]
  },
  {
   "cell_type": "markdown",
   "metadata": {},
   "source": [
    "The resulting 'Sample' dataset has ~263,000 observations and requires only 23MB of storage space. So now we have a dataset that can be handled within the working storage on datanotebook.org. The extracted variables and brief descriptions of each (from the data dictionary) are provided below. (The data dictionary for the original dataset is also included in the submitted zip file.)"
   ]
  },
  {
   "cell_type": "code",
   "execution_count": 12,
   "metadata": {},
   "outputs": [
    {
     "name": "stdout",
     "output_type": "stream",
     "text": [
      "  1: unique_transaction_id\n",
      "  2: dollarsobligated\n",
      "  3: baseandexercisedoptionsvalue\n",
      "  4: baseandalloptionsvalue\n",
      "  5: maj_agency_cat\n",
      "  6: contractingofficeagencyid\n",
      "  7: contractingofficeid\n",
      "  8: signeddate\n",
      "  9: effectivedate\n",
      " 10: currentcompletiondate\n",
      " 11: ultimatecompletiondate\n",
      " 12: vendorname\n",
      " 13: city\n",
      " 14: state\n",
      " 15: zipcode\n",
      " 16: vendorcountrycode\n",
      " 17: dunsnumber\n",
      " 18: parentdunsnumber\n",
      " 19: mod_parent\n",
      " 20: productorservicecode\n",
      " 21: principalnaicscode\n",
      " 22: numberofemployees\n",
      " 23: annualrevenue\n",
      " 24: womenownedflag\n",
      " 25: veteranownedflag\n",
      " 26: minorityownedbusinessflag\n",
      " 27: nonprofitorganizationflag\n",
      " 28: isforprofitorganization\n",
      "\n",
      "gzip: stdout: Broken pipe\n"
     ]
    }
   ],
   "source": [
    "!zcat 'Sample.csv' | csvcut -n"
   ]
  },
  {
   "cell_type": "markdown",
   "metadata": {},
   "source": [
    "### Brief description of each variable\n",
    "\n",
    "1: unique_transaction_id -- The unique identifying record id.\n",
    "\n",
    "2: dollarsobligated -- The net dollar amount that is obligated or deobligated by this transaction.\n",
    "\n",
    "3: baseandalloptionsvalue -- Mutually agreed total contract or order value including all options (if any).\n",
    "\n",
    "4: baseandexercisedoptionsvalue -- The contract value for the base contract and any options that have been exercised.\n",
    "\n",
    "5: maj_agency_cat -- Major federal organization, department and its description.\n",
    "\n",
    "6: contractingofficeagencyid -- Code for agency or bureau that is responsible for the transaction. \n",
    "\n",
    "7: contractingofficeid -- Code for the contracting office that executes the transaction. \n",
    "\n",
    "8: signeddate -- The date signed by the Contracting Officer or the Contractor, whichever is later. \n",
    "\n",
    "9: effectivedate -- The date that the parties agree will be the starting date for the contract's requirements. \n",
    "\n",
    "10: currentcompletiondate -- The current expected or scheduled contract completion date. \n",
    "\n",
    "11: ultimatecompletiondate -- The estimated or scheduled completion date including all options (if any). \n",
    "\n",
    "12: vendorname -- The name of the vendor awarded the contract as it appears in Central Contractor Registry (CCR). \n",
    "\n",
    "13: city -- The city of the contractor address. \n",
    "\n",
    "14: state -- The state in the contractor address. \n",
    "\n",
    "15: zipcode -- The zip code in the contractor address. \n",
    "\n",
    "16: vendorcountrycode -- The country code in the contractor address. \n",
    "\n",
    "17: dunsnumber -- The Dun & Bradstreet number of the vendor - used to link to the CCR. \n",
    "\n",
    "18: parentdunsnumber -- The Dun & Bradstreet number of the vendor's parent company. \n",
    "\n",
    "19: mod_parent -- The parent company for the vendor, as provided by D&B. \n",
    "\n",
    "20: productorservicecode -- The code that best identifies the product or service procured. \n",
    "\n",
    "21: principalnaicscode -- The principal North American Industry Classification System (NAICS) code. \n",
    "\n",
    "22: numberofemployees -- The contractor's business size in terms of number of employees. \n",
    "\n",
    "23: annualrevenue -- The contractor's annual gross revenue, taken from an average of the last three years.  \n",
    "\n",
    "24: womenownedflag -- Indicates whether the vendor is a Woman Owned Business. \n",
    "\n",
    "25: veteranownedflag -- Indicates whether the vendor is a Veteran Owned Business. \n",
    "\n",
    "26: minorityownedbusinessflag -- Indicates whether the vendor is a Minority Owned Business. \n",
    "\n",
    "27: nonprofitorganizationflag -- Indicates whether the vendor is a Nonprofit Organization. \n",
    "\n",
    "28: isforprofitorganization -- Indicates whether the vendor is a Profit Organization or not. \n"
   ]
  },
  {
   "cell_type": "markdown",
   "metadata": {},
   "source": [
    ".\n",
    "\n",
    "Next we generate descriptive statistics. To save time we limit csvstat to the first 50,000 records."
   ]
  },
  {
   "cell_type": "code",
   "execution_count": 13,
   "metadata": {},
   "outputs": [
    {
     "name": "stdout",
     "output_type": "stream",
     "text": [
      "\n",
      "gzip: stdout: Broken pipe\n",
      "  1. unique_transaction_id\n",
      "\t<class 'str'>\n",
      "\tNulls: False\n",
      "\tUnique values: 49997\n",
      "\tMax length: 32\n",
      "  2. dollarsobligated\n",
      "\t<class 'float'>\n",
      "\tNulls: False\n",
      "\tMin: -24000000.0\n",
      "\tMax: 252000000.0\n",
      "\tSum: 5180707430.349998\n",
      "\tMean: 103620.36582894971\n",
      "\tMedian: 768.87\n",
      "\tStandard Deviation: 2271200.586516295\n",
      "\tUnique values: 33118\n",
      "\t5 most frequent values:\n",
      "\t\t0.0:\t8687\n",
      "\t\t5000.0:\t79\n",
      "\t\t10000.0:\t66\n",
      "\t\t25000.0:\t51\n",
      "\t\t100000.0:\t49\n",
      "  3. baseandexercisedoptionsvalue\n",
      "\t<class 'float'>\n",
      "\tNulls: False\n",
      "\tMin: -77842422.0\n",
      "\tMax: 700000000.0\n",
      "\tSum: 5106615969.099995\n",
      "\tMean: 102138.44768886123\n",
      "\tMedian: 600.51\n",
      "\tStandard Deviation: 3838225.2046538806\n",
      "\tUnique values: 32242\n",
      "\t5 most frequent values:\n",
      "\t\t0.0:\t9940\n",
      "\t\t5000.0:\t76\n",
      "\t\t10000.0:\t59\n",
      "\t\t400.28:\t47\n",
      "\t\t6.23:\t47\n",
      "  4. baseandalloptionsvalue\n",
      "\t<class 'float'>\n",
      "\tNulls: False\n",
      "\tMin: -98909671.03\n",
      "\tMax: 22300000000.0\n",
      "\tSum: 45049208919.46999\n",
      "\tMean: 901038.2406838409\n",
      "\tMedian: 567.0\n",
      "\tStandard Deviation: 117877206.05804636\n",
      "\tUnique values: 32022\n",
      "\t5 most frequent values:\n",
      "\t\t0.0:\t10041\n",
      "\t\t5000.0:\t75\n",
      "\t\t25000.0:\t59\n",
      "\t\t10000.0:\t59\n",
      "\t\t2500.0:\t49\n",
      "  5. maj_agency_cat\n",
      "\t<class 'str'>\n",
      "\tNulls: False\n",
      "\tUnique values: 51\n",
      "\t5 most frequent values:\n",
      "\t\t9700: Department of Defense:\t28277\n",
      "\t\t3600: Department of Veterans Affairs:\t4875\n",
      "\t\t4700: General Services Administration:\t3304\n",
      "\t\t1500: Department of Justice:\t2894\n",
      "\t\t7000: Department of Homeland Security:\t1471\n",
      "\tMax length: 81\n",
      "  6. contractingofficeagencyid\n",
      "\t<class 'str'>\n",
      "\tNulls: False\n",
      "\tUnique values: 148\n",
      "\t5 most frequent values:\n",
      "\t\t97AS: DEFENSE LOGISTICS AGENCY:\t22674\n",
      "\t\t3600: VETERANS AFFAIRS, DEPARTMENT OF:\t4875\n",
      "\t\t4732: FEDERAL ACQUISITION SERVICE:\t2844\n",
      "\t\t1700: DEPT OF THE NAVY:\t2037\n",
      "\t\t2100: DEPT OF THE ARMY:\t1695\n",
      "\tMax length: 69\n",
      "  7. contractingofficeid\n",
      "\t<class 'str'>\n",
      "\tNulls: False\n",
      "\tUnique values: 2198\n",
      "\t5 most frequent values:\n",
      "\t\tSPM200: DLA TROOP SUPPORT:\t3404\n",
      "\t\tSPE7M1: DLA LAND AND MARITIME:\t3018\n",
      "\t\tSPE2DX: DLA TROOP SUPPORT:\t2757\n",
      "\t\tSPM2DE: DLA TROOP SUPPORT:\t1409\n",
      "\t\tBX000: GSA/FAS AUTOMOTIVE CENTER:\t869\n",
      "\tMax length: 75\n",
      "  8. signeddate\n",
      "\t<class 'datetime.date'>\n",
      "\tNulls: False\n",
      "\tMin: 2015-10-01\n",
      "\tMax: 2016-03-09\n",
      "\tUnique values: 160\n",
      "\t5 most frequent values:\n",
      "\t\t2015-10-01:\t1837\n",
      "\t\t2015-11-10:\t953\n",
      "\t\t2015-11-23:\t916\n",
      "\t\t2015-10-28:\t883\n",
      "\t\t2015-11-30:\t872\n",
      "  9. effectivedate\n",
      "\t<class 'datetime.date'>\n",
      "\tNulls: False\n",
      "\tMin: 2005-10-30\n",
      "\tMax: 2019-08-17\n",
      "\tUnique values: 479\n",
      "\t5 most frequent values:\n",
      "\t\t2015-10-01:\t2303\n",
      "\t\t2015-12-01:\t960\n",
      "\t\t2015-11-10:\t905\n",
      "\t\t2015-11-23:\t870\n",
      "\t\t2015-11-05:\t866\n",
      " 10. currentcompletiondate\n",
      "\t<class 'datetime.date'>\n",
      "\tNulls: True\n",
      "\tMin: 2000-03-31\n",
      "\tMax: 2103-11-02\n",
      "\tUnique values: 1928\n",
      "\t5 most frequent values:\n",
      "\t\t2016-09-30:\t2549\n",
      "\t\t2015-11-30:\t1088\n",
      "\t\t2015-12-31:\t853\n",
      "\t\t2015-11-23:\t705\n",
      "\t\t2015-11-16:\t617\n",
      " 11. ultimatecompletiondate\n",
      "\t<class 'datetime.date'>\n",
      "\tNulls: True\n",
      "\tMin: 2000-12-08\n",
      "\tMax: 2106-01-29\n",
      "\tUnique values: 2226\n",
      "\t5 most frequent values:\n",
      "\t\t2016-09-30:\t2032\n",
      "\t\t2015-11-30:\t1075\n",
      "\t\t2015-12-31:\t804\n",
      "\t\t2015-11-23:\t692\n",
      "\t\t2015-11-16:\t603\n",
      " 12. vendorname\n",
      "\t<class 'str'>\n",
      "\tNulls: True\n",
      "\tUnique values: 15393\n",
      "\t5 most frequent values:\n",
      "\t\tAMERISOURCEBERGEN DRUG CORPORATION:\t2784\n",
      "\t\tCARDINAL HEALTH 200, LLC:\t2326\n",
      "\t\tLOCKHEED MARTIN CORPORATION:\t1285\n",
      "\t\tOWENS & MINOR DISTRIBUTION, INC.:\t1150\n",
      "\t\tMISCELLANEOUS FOREIGN AWARDEES:\t1021\n",
      "\tMax length: 90\n",
      " 13. city\n",
      "\t<class 'str'>\n",
      "\tNulls: True\n",
      "\tUnique values: 3669\n",
      "\t5 most frequent values:\n",
      "\t\tCHESTERBROOK:\t2785\n",
      "\t\tWAUKEGAN:\t2343\n",
      "\t\tWASHINGTON:\t1733\n",
      "\t\tMOORESTOWN:\t1170\n",
      "\t\tMECHANICSVILLE:\t1154\n",
      "\tMax length: 27\n",
      " 14. state\n",
      "\t<class 'str'>\n",
      "\tNulls: True\n",
      "\tUnique values: 175\n",
      "\t5 most frequent values:\n",
      "\t\tVA:\t5370\n",
      "\t\tPA:\t5025\n",
      "\t\tIL:\t4521\n",
      "\t\tCA:\t4341\n",
      "\t\tNJ:\t3306\n",
      "\tMax length: 19\n",
      " 15. zipcode\n",
      "\t<class 'str'>\n",
      "\tNulls: True\n",
      "\tUnique values: 6889\n",
      "\t5 most frequent values:\n",
      "\t\t19087:\t2799\n",
      "\t\t60085:\t2343\n",
      "\t\t08057:\t1170\n",
      "\t\t23116:\t1153\n",
      "\t\t20405:\t1082\n",
      "\tMax length: 5\n",
      " 16. vendorcountrycode\n",
      "\t<class 'str'>\n",
      "\tNulls: True\n",
      "\tUnique values: 79\n",
      "\t5 most frequent values:\n",
      "\t\tUSA: UNITED STATES OF AMERICA:\t48998\n",
      "\t\tCAN: CANADA:\t146\n",
      "\t\tJPN: JAPAN:\t126\n",
      "\t\tARE: UNITED ARAB EMIRATES:\t96\n",
      "\t\tDEU: GERMANY:\t87\n",
      "\tMax length: 50\n",
      " 17. dunsnumber\n",
      "\t<class 'str'>\n",
      "\tNulls: False\n",
      "\tUnique values: 15359\n",
      "\t5 most frequent values:\n",
      "\t\t007914906:\t2785\n",
      "\t\t961027315:\t2339\n",
      "\t\t848028494:\t1156\n",
      "\t\t007941230:\t1150\n",
      "\t\t123456787:\t1033\n",
      "\tMax length: 9\n",
      " 18. parentdunsnumber\n",
      "\t<class 'str'>\n",
      "\tNulls: True\n",
      "\tUnique values: 13566\n",
      "\t5 most frequent values:\n",
      "\t\t039277590:\t2801\n",
      "\t\t097537435:\t2358\n",
      "\t\t834951691:\t1342\n",
      "\t\t847412269:\t1150\n",
      "\t\t123456787:\t1033\n",
      "\tMax length: 9\n",
      " 19. mod_parent\n",
      "\t<class 'str'>\n",
      "\tNulls: True\n",
      "\tUnique values: 13610\n",
      "\t5 most frequent values:\n",
      "\t\tAMERISOURCEBERGEN CORPORATION:\t2801\n",
      "\t\tCARDINAL HEALTH, INC.:\t2358\n",
      "\t\tLOCKHEED MARTIN CORPORATION:\t1342\n",
      "\t\tOWENS & MINOR  INC.:\t1150\n",
      "\t\tMISCELLANEOUS FOREIGN AWARDEES:\t1033\n",
      "\tMax length: 92\n",
      " 20. productorservicecode\n",
      "\t<class 'str'>\n",
      "\tNulls: False\n",
      "\tUnique values: 1486\n",
      "\t5 most frequent values:\n",
      "\t\t6515: MEDICAL AND SURGICAL INSTRUMENTS, EQUIPMENT, AND SUPPLIES:\t6328\n",
      "\t\t6505: DRUGS AND BIOLOGICALS:\t3698\n",
      "\t\t6640: LABORATORY EQUIPMENT AND SUPPLIES:\t1763\n",
      "\t\t5340: HARDWARE, COMMERCIAL:\t1560\n",
      "\t\tR499: SUPPORT- PROFESSIONAL: OTHER:\t1107\n",
      "\tMax length: 106\n",
      " 21. principalnaicscode\n",
      "\t<class 'str'>\n",
      "\tNulls: False\n",
      "\tUnique values: 873\n",
      "\t5 most frequent values:\n",
      "\t\t423450: MEDICAL, DENTAL, AND HOSPITAL EQUIPMENT AND SUPPLIES MERCHANT WHOLESALERS:\t5187\n",
      "\t\t325411: MEDICINAL AND BOTANICAL MANUFACTURING:\t1882\n",
      "\t\t339113: SURGICAL APPLIANCE AND SUPPLIES MANUFACTURING:\t1681\n",
      "\t\t424210: DRUGS AND DRUGGISTS' SUNDRIES MERCHANT WHOLESALERS:\t1660\n",
      "\t\t332710: MACHINE SHOPS:\t1173\n",
      "\tMax length: 126\n",
      " 22. numberofemployees\n",
      "\t<class 'str'>\n",
      "\tNulls: True\n",
      "\tUnique values: 2011\n",
      "\t5 most frequent values:\n",
      "\t\t10000:\t2877\n",
      "\t\t3000:\t2456\n",
      "\t\t1:\t1437\n",
      "\t\t0:\t1247\n",
      "\t\t115000:\t1165\n",
      "\tMax length: 28\n",
      " 23. annualrevenue\n",
      "\t<class 'int'>\n",
      "\tNulls: True\n",
      "\tMin: 0\n",
      "\tMax: 46900000000000\n",
      "\tSum: 982438445425889\n",
      "\tMean: 19650340935.792645\n",
      "\tMedian: 75000000.0\n",
      "\tStandard Deviation: 448856369052.31067\n",
      "\tUnique values: 6897\n",
      "\t5 most frequent values:\n",
      "\t\t70000001024:\t2786\n",
      "\t\t73999998976:\t2218\n",
      "\t\t0:\t1340\n",
      "\t\t46345998336:\t1160\n",
      "\t\t100000000:\t1016\n",
      " 24. womenownedflag\n",
      "\t<class 'str'>\n",
      "\tNulls: False\n",
      "\tValues: Y, 960000, N\n",
      " 25. veteranownedflag\n",
      "\t<class 'bool'>\n",
      "\tNulls: False\n",
      "\tUnique values: 2\n",
      "\t5 most frequent values:\n",
      "\t\tFalse:\t46329\n",
      "\t\tTrue:\t3668\n",
      " 26. minorityownedbusinessflag\n",
      "\t<class 'bool'>\n",
      "\tNulls: False\n",
      "\tUnique values: 2\n",
      "\t5 most frequent values:\n",
      "\t\tFalse:\t45467\n",
      "\t\tTrue:\t4530\n",
      " 27. nonprofitorganizationflag\n",
      "\t<class 'bool'>\n",
      "\tNulls: False\n",
      "\tUnique values: 2\n",
      "\t5 most frequent values:\n",
      "\t\tFalse:\t48505\n",
      "\t\tTrue:\t1492\n",
      " 28. isforprofitorganization\n",
      "\t<class 'bool'>\n",
      "\tNulls: False\n",
      "\tUnique values: 2\n",
      "\t5 most frequent values:\n",
      "\t\tTrue:\t44647\n",
      "\t\tFalse:\t5350\n",
      "\n",
      "Row count: 49997\n"
     ]
    }
   ],
   "source": [
    "!zcat 'Sample.csv' | head -n 50000 | csvstat"
   ]
  },
  {
   "cell_type": "markdown",
   "metadata": {},
   "source": [
    ".\n",
    "\n",
    "There is clearly some noise in the data. See values for 'womenownedbusiness' and only 49,997 cases are reported where 50,000 were specified. However, we expect these imperfections in a few cases will not alter the high-level results we seek to report. As such they are not worth cleaning. So after an initial look at the some actual transaction data below, we will proceed to load the data into a database.\n",
    "\n",
    "Here is a look at some of the values in the first ten records."
   ]
  },
  {
   "cell_type": "code",
   "execution_count": 14,
   "metadata": {},
   "outputs": [
    {
     "name": "stdout",
     "output_type": "stream",
     "text": [
      "\r\n",
      "gzip: stdout: Broken pipe\r\n",
      "|-----------------------------------+------------------+------------------------------+-------------------------|\r\n",
      "|  unique_transaction_id            | dollarsobligated | baseandexercisedoptionsvalue | baseandalloptionsvalue  |\r\n",
      "|-----------------------------------+------------------+------------------------------+-------------------------|\r\n",
      "|  0203984a0b5149ebad327fae72a8debc | 3958.00          | 3958.00                      | 3958.00                 |\r\n",
      "|  0d6caed974b14c87a146f9cb8c22130b | 4484.00          | 4484.00                      | 4484.00                 |\r\n",
      "|  0b952febb54d4d4cb974a21c133dbab3 | 31079.84         | 31079.84                     | 31079.84                |\r\n",
      "|  0c0c27904bbd467aa90b1a8cf76fdfa3 | 0.00             | 0.00                         | 0.00                    |\r\n",
      "|  0e94dae69f4a4193934876819e316aff | 15000.00         | 15000.00                     | 15000.00                |\r\n",
      "|  0731e224233444ca9aaa3ce492b1cc3d | 3443.30          | 3443.30                      | 3443.30                 |\r\n",
      "|  0efcc14d61ca4878bd421f630a930015 | 3900.08          | 3900.08                      | 3900.08                 |\r\n",
      "|  04681eda2f964dc38d76479d95384994 | 30000.00         | 30000.00                     | 30000.00                |\r\n",
      "|  0e48028067e042aba5cb3403946f1a90 | 0.00             | 0.00                         | 5600.00                 |\r\n",
      "|-----------------------------------+------------------+------------------------------+-------------------------|\r\n"
     ]
    }
   ],
   "source": [
    "!zcat 'Sample.csv' | csvcut -c 1:4 | head -n 10 | csvlook"
   ]
  },
  {
   "cell_type": "markdown",
   "metadata": {},
   "source": [
    "Note: Our examination of these three contract amount variables show that 'dollarsobligated' is the most consistent of the three. As such, we interpret 'dollarsobligated' as representing the dollar amount of each unique contract in the dataset. According to the definition 'baseandexercisedoptionsvalue' might be more accurate. But in this dataset it is not as consistently reported as is 'dollarsobligated'."
   ]
  },
  {
   "cell_type": "code",
   "execution_count": 15,
   "metadata": {},
   "outputs": [
    {
     "name": "stdout",
     "output_type": "stream",
     "text": [
      "\n",
      "gzip: stdout: Broken pipe\n",
      "|---------------------------------------+---------------------------------------------+-------------|\n",
      "|  contractingofficeagencyid            | contractingofficeid                         | signeddate  |\n",
      "|---------------------------------------+---------------------------------------------+-------------|\n",
      "|  1540: FEDERAL PRISON SYSTEM          | 30303: EDGEFIELD, FCI                       | 10/01/2015  |\n",
      "|  1540: FEDERAL PRISON SYSTEM          | 50302: BIG SPRING, FCI                      | 10/01/2015  |\n",
      "|  1540: FEDERAL PRISON SYSTEM          | 30902: MIAMI, FCI                           | 10/01/2015  |\n",
      "|  1448: U.S. FISH AND WILDLIFE SERVICE | 00001: CONTRACTING AND GENERAL SERVICES DIV | 10/01/2015  |\n",
      "|  1501: OFFICES, BOARDS AND DIVISIONS  | CIV01: CIVIL DIVISION                       | 10/01/2015  |\n",
      "|  1540: FEDERAL PRISON SYSTEM          | 41407: SPRINGFIELD, USMCFP                  | 10/01/2015  |\n",
      "|  1540: FEDERAL PRISON SYSTEM          | 30902: MIAMI, FCI                           | 10/01/2015  |\n",
      "|  1540: FEDERAL PRISON SYSTEM          | 41502: WASECA, FCI                          | 10/01/2015  |\n",
      "|  1544: U.S. MARSHALS SERVICE          | MS085: EASTERN DISTRICT OF WASHINGTON       | 10/01/2015  |\n",
      "|---------------------------------------+---------------------------------------------+-------------|\n"
     ]
    }
   ],
   "source": [
    "!zcat 'Sample.csv' | csvcut -c 6:8 | head -n 10 | csvlook"
   ]
  },
  {
   "cell_type": "code",
   "execution_count": 16,
   "metadata": {},
   "outputs": [
    {
     "name": "stdout",
     "output_type": "stream",
     "text": [
      "|---------------------------------------+--------------+-------+---------+--------------------------------|\r\n",
      "|  vendorname                           | city         | state | zipcode | vendorcountrycode              |\r\n",
      "|---------------------------------------+--------------+-------+---------+--------------------------------|\r\n",
      "|  CLARK'S TRADING CO.                  | MUKWONAGO    | WI    | 53149   | USA: UNITED STATES OF AMERICA  |\r\n",
      "|  FLAVORPROS, LLC                      | ALLENTOWN    | PA    | 18102   | USA: UNITED STATES OF AMERICA  |\r\n",
      "|  BORDEN DAIRY COMPANY OF FLORIDA, LLC | WINTER HAVEN | FL    | 33880   | USA: UNITED STATES OF AMERICA  |\r\n",
      "|  UNITED STATES POSTAL SERVICE         | SAINT PAUL   | MN    | 55121   | USA: UNITED STATES OF AMERICA  |\r\n",
      "|  R & R CONSULTING                     | NEW YORK     | NY    | 10017   | USA: UNITED STATES OF AMERICA  |\r\n",
      "|  BENJAMIN FOODS L.L.C.                | HATBORO      | PA    | 19040   | USA: UNITED STATES OF AMERICA  |\r\n",
      "|  EPTA SOLUTIONS, LLC                  | MIAMI        | FL    | 33132   | USA: UNITED STATES OF AMERICA  |\r\n",
      "|  NORTHERN STATES POWER COMPANY        | MINNEAPOLIS  | MN    | 55401   | USA: UNITED STATES OF AMERICA  |\r\n",
      "|  DOMESTIC AWARDEES (UNDISCLOSED)      | WASHINGTON   | DC    | 20405   | USA: UNITED STATES OF AMERICA  |\r\n",
      "|---------------------------------------+--------------+-------+---------+--------------------------------|\r\n",
      "\r\n",
      "gzip: stdout: Broken pipe\r\n"
     ]
    }
   ],
   "source": [
    "!zcat 'Sample.csv' | csvcut -c 12:16 | head -n 10 | csvlook"
   ]
  },
  {
   "cell_type": "markdown",
   "metadata": {},
   "source": [
    "We're using 1.4GB of storage space (out of roughly ~ 4GB available) to store our original data (969MB), a first_cut (328MB) and this Sample (23MB) all in compressed format. We may delete the raw data and the first_cut if space is needed to load the data into a SQL database. "
   ]
  },
  {
   "cell_type": "code",
   "execution_count": 17,
   "metadata": {},
   "outputs": [
    {
     "name": "stdout",
     "output_type": "stream",
     "text": [
      "total 1.4G\r\n",
      "drwxr-xr-x  3 jovyan users 4.0K Dec  6 22:30 .\r\n",
      "drwxr-xr-x 11 jovyan users 4.0K Sep 28 20:02 ..\r\n",
      "-rw-r--r--  1 jovyan users 969M Nov 21 04:55 2016_All_Contracts_Full_20161115.csv.zip\r\n",
      "-rw-r--r--  1 jovyan users  47K Dec  6 22:30 FederalContracts9.ipynb\r\n",
      "-rw-r--r--  1 jovyan users 328M Dec  6 22:28 first_cut.csv.gz\r\n",
      "drwxr-xr-x  2 jovyan users   47 Dec  6 22:21 .ipynb_checkpoints\r\n",
      "-rw-r--r--  1 root   root  1.4K Oct  7 00:17 .nbgrader.log\r\n",
      "-rw-r--r--  1 jovyan users  23M Dec  6 22:30 Sample.csv.gz\r\n",
      "-rw-r--r--  1 jovyan users 110M Dec  6 22:31 <stdin>_out.csv\r\n"
     ]
    }
   ],
   "source": [
    "!ls -lah"
   ]
  },
  {
   "cell_type": "markdown",
   "metadata": {},
   "source": [
    "### Load Data into Database"
   ]
  },
  {
   "cell_type": "markdown",
   "metadata": {},
   "source": [
    "We will first connect to postgreSQL database USGovContracts in order to create a master table to contain our data."
   ]
  },
  {
   "cell_type": "code",
   "execution_count": 18,
   "metadata": {},
   "outputs": [
    {
     "name": "stderr",
     "output_type": "stream",
     "text": [
      "/opt/conda/lib/python3.5/site-packages/IPython/config.py:13: ShimWarning: The `IPython.config` package has been deprecated. You should import from traitlets.config instead.\n",
      "  \"You should import from traitlets.config instead.\", ShimWarning)\n",
      "/opt/conda/lib/python3.5/site-packages/IPython/utils/traitlets.py:5: UserWarning: IPython.utils.traitlets has moved to a top-level traitlets package.\n",
      "  warn(\"IPython.utils.traitlets has moved to a top-level traitlets package.\")\n"
     ]
    },
    {
     "name": "stdout",
     "output_type": "stream",
     "text": [
      "[sudo] password for jovyan: Restarting PostgreSQL 9.5 database server: main.\n"
     ]
    },
    {
     "data": {
      "text/plain": [
       "'Connected: dbuser@USGovContracts'"
      ]
     },
     "execution_count": 18,
     "metadata": {},
     "output_type": "execute_result"
    }
   ],
   "source": [
    "%load_ext sql\n",
    "!echo 'redspot' | sudo -S service postgresql restart\n",
    "!createdb -U dbuser USGovContracts\n",
    "%sql postgresql://dbuser@localhost:5432/USGovContracts"
   ]
  },
  {
   "cell_type": "markdown",
   "metadata": {},
   "source": [
    "Next, we create our master table and load the data."
   ]
  },
  {
   "cell_type": "code",
   "execution_count": 19,
   "metadata": {},
   "outputs": [
    {
     "name": "stdout",
     "output_type": "stream",
     "text": [
      "Done.\n",
      "Done.\n"
     ]
    },
    {
     "data": {
      "text/plain": [
       "[]"
      ]
     },
     "execution_count": 19,
     "metadata": {},
     "output_type": "execute_result"
    }
   ],
   "source": [
    "%%sql\n",
    "DROP TABLE IF EXISTS Master;\n",
    "CREATE TABLE Master (\n",
    "    unique_transaction_id CHAR(32),\n",
    "    dollarsobligated REAL,\n",
    "    baseandexercisedoptionsvalue REAL,\n",
    "    baseandalloptionsvalue REAL,\n",
    "    maj_agency_cat CHAR (165),\n",
    "    contractingofficeagencyid CHAR (75),\n",
    "    contractingofficeid CHAR (75),\n",
    "    signeddate TIMESTAMP,\n",
    "    effectivedate TIMESTAMP,\n",
    "    currentcompletiondate TIMESTAMP,\n",
    "    ultimatecompletiondate TIMESTAMP,\n",
    "    vendorname CHAR (255),\n",
    "    city CHAR (80),\n",
    "    state CHAR (40),\n",
    "    zipcode CHAR(5),\n",
    "    vendorcountrycode VARCHAR (50),\n",
    "    dunsnumber INTEGER,\n",
    "    parentdunsnumber INTEGER,\n",
    "    mod_parent CHAR (120),\n",
    "    productorservicecode CHAR (255),\n",
    "    principalnaicscode CHAR (255),\n",
    "    numberofemployees REAL,\n",
    "    annualrevenue REAL,\n",
    "    womenownedflag BOOLEAN,\n",
    "    veteranownedflag BOOLEAN,\n",
    "    minorityownedbusinessflag BOOLEAN,\n",
    "    nonprofitorganizationflag BOOLEAN,\n",
    "    isforprofitorganization BOOLEAN\n",
    ");"
   ]
  },
  {
   "cell_type": "code",
   "execution_count": 20,
   "metadata": {},
   "outputs": [],
   "source": [
    "!gunzip Sample.csv"
   ]
  },
  {
   "cell_type": "code",
   "execution_count": 21,
   "metadata": {},
   "outputs": [
    {
     "name": "stdout",
     "output_type": "stream",
     "text": [
      "263225 rows affected.\n"
     ]
    },
    {
     "data": {
      "text/plain": [
       "[]"
      ]
     },
     "execution_count": 21,
     "metadata": {},
     "output_type": "execute_result"
    }
   ],
   "source": [
    "%%sql\n",
    "COPY Master FROM '/home/jovyan/work/Sample.csv'\n",
    "CSV\n",
    "HEADER\n",
    "QUOTE '\"'\n",
    "DELIMITER ',';"
   ]
  },
  {
   "cell_type": "markdown",
   "metadata": {},
   "source": [
    "**Delete Inital & Intermediate Files**\n",
    "\n",
    "To save space, we will delete the files we no longer need. We could use the rm command, but instead we choose to use another technique for the sake of learning multiple methods to perform tasks."
   ]
  },
  {
   "cell_type": "code",
   "execution_count": 22,
   "metadata": {
    "collapsed": true
   },
   "outputs": [],
   "source": [
    "import os\n",
    "os.remove('Sample.csv')\n",
    "os.remove('first_cut.csv.gz')\n",
    "os.remove('2016_All_Contracts_Full_20161115.csv.zip')"
   ]
  },
  {
   "cell_type": "markdown",
   "metadata": {},
   "source": [
    "**Create Dissociated Date Fields**\n",
    "\n",
    "Now, we want to separate the date value into several columns so that we will be able to easily analyze our data by year, month, or day."
   ]
  },
  {
   "cell_type": "code",
   "execution_count": 23,
   "metadata": {},
   "outputs": [
    {
     "name": "stdout",
     "output_type": "stream",
     "text": [
      "Done.\n"
     ]
    },
    {
     "data": {
      "text/plain": [
       "[]"
      ]
     },
     "execution_count": 23,
     "metadata": {},
     "output_type": "execute_result"
    }
   ],
   "source": [
    "%%sql\n",
    "ALTER TABLE Master\n",
    "ADD COLUMN signed_yr NUMERIC,\n",
    "ADD COLUMN signed_mth NUMERIC,\n",
    "ADD COLUMN signed_day NUMERIC,\n",
    "ADD COLUMN eff_yr NUMERIC,\n",
    "ADD COLUMN eff_mth NUMERIC,\n",
    "ADD COLUMN eff_day NUMERIC,\n",
    "ADD COLUMN currentcompletion_yr NUMERIC,\n",
    "ADD COLUMN currentcompletion_mth NUMERIC,\n",
    "ADD COLUMN currentcompletion_day NUMERIC,\n",
    "ADD COLUMN ultimatecompletion_yr NUMERIC,\n",
    "ADD COLUMN ultimatecompletion_mth NUMERIC,\n",
    "ADD COLUMN ultimatecompletion_day NUMERIC\n",
    ";"
   ]
  },
  {
   "cell_type": "code",
   "execution_count": 24,
   "metadata": {},
   "outputs": [
    {
     "name": "stdout",
     "output_type": "stream",
     "text": [
      "263225 rows affected.\n"
     ]
    },
    {
     "data": {
      "text/plain": [
       "[]"
      ]
     },
     "execution_count": 24,
     "metadata": {},
     "output_type": "execute_result"
    }
   ],
   "source": [
    "%%sql\n",
    "UPDATE Master\n",
    "SET signed_yr = EXTRACT(YEAR FROM signeddate), \n",
    "    signed_mth = EXTRACT(MONTH FROM signeddate),\n",
    "    signed_day = EXTRACT(DAY FROM signeddate),\n",
    "    eff_yr = EXTRACT(YEAR FROM effectivedate),\n",
    "    eff_mth = EXTRACT(MONTH FROM effectivedate),\n",
    "    eff_day = EXTRACT(DAY FROM effectivedate),\n",
    "    currentcompletion_yr = EXTRACT(YEAR FROM currentcompletiondate),\n",
    "    currentcompletion_mth = EXTRACT(MONTH FROM currentcompletiondate),\n",
    "    currentcompletion_day = EXTRACT(DAY FROM currentcompletiondate),\n",
    "    ultimatecompletion_yr = EXTRACT(YEAR FROM ultimatecompletiondate),\n",
    "    ultimatecompletion_mth = EXTRACT(MONTH FROM ultimatecompletiondate),\n",
    "    ultimatecompletion_day = EXTRACT(DAY FROM ultimatecompletiondate)\n",
    ";"
   ]
  },
  {
   "cell_type": "code",
   "execution_count": 25,
   "metadata": {},
   "outputs": [
    {
     "name": "stdout",
     "output_type": "stream",
     "text": [
      "5 rows affected.\n"
     ]
    },
    {
     "data": {
      "text/html": [
       "<table>\n",
       "    <tr>\n",
       "        <th>signeddate</th>\n",
       "        <th>signed_yr</th>\n",
       "        <th>signed_mth</th>\n",
       "        <th>signed_day</th>\n",
       "    </tr>\n",
       "    <tr>\n",
       "        <td>2015-10-01 00:00:00</td>\n",
       "        <td>2015</td>\n",
       "        <td>10</td>\n",
       "        <td>1</td>\n",
       "    </tr>\n",
       "    <tr>\n",
       "        <td>2015-10-01 00:00:00</td>\n",
       "        <td>2015</td>\n",
       "        <td>10</td>\n",
       "        <td>1</td>\n",
       "    </tr>\n",
       "    <tr>\n",
       "        <td>2015-10-01 00:00:00</td>\n",
       "        <td>2015</td>\n",
       "        <td>10</td>\n",
       "        <td>1</td>\n",
       "    </tr>\n",
       "    <tr>\n",
       "        <td>2015-10-01 00:00:00</td>\n",
       "        <td>2015</td>\n",
       "        <td>10</td>\n",
       "        <td>1</td>\n",
       "    </tr>\n",
       "    <tr>\n",
       "        <td>2015-10-01 00:00:00</td>\n",
       "        <td>2015</td>\n",
       "        <td>10</td>\n",
       "        <td>1</td>\n",
       "    </tr>\n",
       "</table>"
      ],
      "text/plain": [
       "[(datetime.datetime(2015, 10, 1, 0, 0), Decimal('2015'), Decimal('10'), Decimal('1')),\n",
       " (datetime.datetime(2015, 10, 1, 0, 0), Decimal('2015'), Decimal('10'), Decimal('1')),\n",
       " (datetime.datetime(2015, 10, 1, 0, 0), Decimal('2015'), Decimal('10'), Decimal('1')),\n",
       " (datetime.datetime(2015, 10, 1, 0, 0), Decimal('2015'), Decimal('10'), Decimal('1')),\n",
       " (datetime.datetime(2015, 10, 1, 0, 0), Decimal('2015'), Decimal('10'), Decimal('1'))]"
      ]
     },
     "execution_count": 25,
     "metadata": {},
     "output_type": "execute_result"
    }
   ],
   "source": [
    "%%sql\n",
    "SELECT signeddate,signed_yr,signed_mth,signed_day\n",
    "FROM Master\n",
    "LIMIT 5;"
   ]
  },
  {
   "cell_type": "code",
   "execution_count": 26,
   "metadata": {},
   "outputs": [
    {
     "name": "stdout",
     "output_type": "stream",
     "text": [
      "5 rows affected.\n"
     ]
    },
    {
     "data": {
      "text/html": [
       "<table>\n",
       "    <tr>\n",
       "        <th>effectivedate</th>\n",
       "        <th>eff_yr</th>\n",
       "        <th>eff_mth</th>\n",
       "        <th>eff_day</th>\n",
       "    </tr>\n",
       "    <tr>\n",
       "        <td>2015-10-01 00:00:00</td>\n",
       "        <td>2015</td>\n",
       "        <td>10</td>\n",
       "        <td>1</td>\n",
       "    </tr>\n",
       "    <tr>\n",
       "        <td>2015-10-01 00:00:00</td>\n",
       "        <td>2015</td>\n",
       "        <td>10</td>\n",
       "        <td>1</td>\n",
       "    </tr>\n",
       "    <tr>\n",
       "        <td>2015-10-01 00:00:00</td>\n",
       "        <td>2015</td>\n",
       "        <td>10</td>\n",
       "        <td>1</td>\n",
       "    </tr>\n",
       "    <tr>\n",
       "        <td>2015-10-01 00:00:00</td>\n",
       "        <td>2015</td>\n",
       "        <td>10</td>\n",
       "        <td>1</td>\n",
       "    </tr>\n",
       "    <tr>\n",
       "        <td>2015-10-01 00:00:00</td>\n",
       "        <td>2015</td>\n",
       "        <td>10</td>\n",
       "        <td>1</td>\n",
       "    </tr>\n",
       "</table>"
      ],
      "text/plain": [
       "[(datetime.datetime(2015, 10, 1, 0, 0), Decimal('2015'), Decimal('10'), Decimal('1')),\n",
       " (datetime.datetime(2015, 10, 1, 0, 0), Decimal('2015'), Decimal('10'), Decimal('1')),\n",
       " (datetime.datetime(2015, 10, 1, 0, 0), Decimal('2015'), Decimal('10'), Decimal('1')),\n",
       " (datetime.datetime(2015, 10, 1, 0, 0), Decimal('2015'), Decimal('10'), Decimal('1')),\n",
       " (datetime.datetime(2015, 10, 1, 0, 0), Decimal('2015'), Decimal('10'), Decimal('1'))]"
      ]
     },
     "execution_count": 26,
     "metadata": {},
     "output_type": "execute_result"
    }
   ],
   "source": [
    "%%sql\n",
    "SELECT effectivedate,eff_yr,eff_mth,eff_day\n",
    "FROM Master\n",
    "LIMIT 5;"
   ]
  },
  {
   "cell_type": "code",
   "execution_count": 27,
   "metadata": {},
   "outputs": [
    {
     "name": "stdout",
     "output_type": "stream",
     "text": [
      "5 rows affected.\n"
     ]
    },
    {
     "data": {
      "text/html": [
       "<table>\n",
       "    <tr>\n",
       "        <th>currentcompletiondate</th>\n",
       "        <th>currentcompletion_yr</th>\n",
       "        <th>currentcompletion_mth</th>\n",
       "        <th>currentcompletion_day</th>\n",
       "    </tr>\n",
       "    <tr>\n",
       "        <td>2015-12-31 00:00:00</td>\n",
       "        <td>2015</td>\n",
       "        <td>12</td>\n",
       "        <td>31</td>\n",
       "    </tr>\n",
       "    <tr>\n",
       "        <td>2015-10-01 00:00:00</td>\n",
       "        <td>2015</td>\n",
       "        <td>10</td>\n",
       "        <td>1</td>\n",
       "    </tr>\n",
       "    <tr>\n",
       "        <td>2015-12-31 00:00:00</td>\n",
       "        <td>2015</td>\n",
       "        <td>12</td>\n",
       "        <td>31</td>\n",
       "    </tr>\n",
       "    <tr>\n",
       "        <td>2015-09-30 00:00:00</td>\n",
       "        <td>2015</td>\n",
       "        <td>9</td>\n",
       "        <td>30</td>\n",
       "    </tr>\n",
       "    <tr>\n",
       "        <td>2015-12-03 00:00:00</td>\n",
       "        <td>2015</td>\n",
       "        <td>12</td>\n",
       "        <td>3</td>\n",
       "    </tr>\n",
       "</table>"
      ],
      "text/plain": [
       "[(datetime.datetime(2015, 12, 31, 0, 0), Decimal('2015'), Decimal('12'), Decimal('31')),\n",
       " (datetime.datetime(2015, 10, 1, 0, 0), Decimal('2015'), Decimal('10'), Decimal('1')),\n",
       " (datetime.datetime(2015, 12, 31, 0, 0), Decimal('2015'), Decimal('12'), Decimal('31')),\n",
       " (datetime.datetime(2015, 9, 30, 0, 0), Decimal('2015'), Decimal('9'), Decimal('30')),\n",
       " (datetime.datetime(2015, 12, 3, 0, 0), Decimal('2015'), Decimal('12'), Decimal('3'))]"
      ]
     },
     "execution_count": 27,
     "metadata": {},
     "output_type": "execute_result"
    }
   ],
   "source": [
    "%%sql\n",
    "SELECT currentcompletiondate,currentcompletion_yr,currentcompletion_mth,currentcompletion_day\n",
    "FROM Master\n",
    "LIMIT 5;"
   ]
  },
  {
   "cell_type": "code",
   "execution_count": 28,
   "metadata": {},
   "outputs": [
    {
     "name": "stdout",
     "output_type": "stream",
     "text": [
      "5 rows affected.\n"
     ]
    },
    {
     "data": {
      "text/html": [
       "<table>\n",
       "    <tr>\n",
       "        <th>ultimatecompletiondate</th>\n",
       "        <th>ultimatecompletion_yr</th>\n",
       "        <th>ultimatecompletion_mth</th>\n",
       "        <th>ultimatecompletion_day</th>\n",
       "    </tr>\n",
       "    <tr>\n",
       "        <td>2015-12-31 00:00:00</td>\n",
       "        <td>2015</td>\n",
       "        <td>12</td>\n",
       "        <td>31</td>\n",
       "    </tr>\n",
       "    <tr>\n",
       "        <td>2015-10-01 00:00:00</td>\n",
       "        <td>2015</td>\n",
       "        <td>10</td>\n",
       "        <td>1</td>\n",
       "    </tr>\n",
       "    <tr>\n",
       "        <td>2015-12-31 00:00:00</td>\n",
       "        <td>2015</td>\n",
       "        <td>12</td>\n",
       "        <td>31</td>\n",
       "    </tr>\n",
       "    <tr>\n",
       "        <td>2015-09-30 00:00:00</td>\n",
       "        <td>2015</td>\n",
       "        <td>9</td>\n",
       "        <td>30</td>\n",
       "    </tr>\n",
       "    <tr>\n",
       "        <td>2015-12-03 00:00:00</td>\n",
       "        <td>2015</td>\n",
       "        <td>12</td>\n",
       "        <td>3</td>\n",
       "    </tr>\n",
       "</table>"
      ],
      "text/plain": [
       "[(datetime.datetime(2015, 12, 31, 0, 0), Decimal('2015'), Decimal('12'), Decimal('31')),\n",
       " (datetime.datetime(2015, 10, 1, 0, 0), Decimal('2015'), Decimal('10'), Decimal('1')),\n",
       " (datetime.datetime(2015, 12, 31, 0, 0), Decimal('2015'), Decimal('12'), Decimal('31')),\n",
       " (datetime.datetime(2015, 9, 30, 0, 0), Decimal('2015'), Decimal('9'), Decimal('30')),\n",
       " (datetime.datetime(2015, 12, 3, 0, 0), Decimal('2015'), Decimal('12'), Decimal('3'))]"
      ]
     },
     "execution_count": 28,
     "metadata": {},
     "output_type": "execute_result"
    }
   ],
   "source": [
    "%%sql\n",
    "SELECT ultimatecompletiondate,ultimatecompletion_yr,ultimatecompletion_mth,ultimatecompletion_day\n",
    "FROM Master\n",
    "LIMIT 5;"
   ]
  },
  {
   "cell_type": "markdown",
   "metadata": {},
   "source": [
    "**Star Schema in ERD**"
   ]
  },
  {
   "cell_type": "markdown",
   "metadata": {},
   "source": [
    "![](https://docs.google.com/drawings/d/1XRwazHEYNEsNQ4A1PQz82CY6P0tI3ZLTNBZSvMWqNEM/pub?w=1301&h=711)"
   ]
  },
  {
   "cell_type": "markdown",
   "metadata": {},
   "source": [
    "**Define and Populate Star Schema**\n",
    "    Dimension Table 1:  gov_agency_dimension"
   ]
  },
  {
   "cell_type": "code",
   "execution_count": 29,
   "metadata": {},
   "outputs": [
    {
     "name": "stdout",
     "output_type": "stream",
     "text": [
      "Done.\n",
      "4514 rows affected.\n"
     ]
    },
    {
     "data": {
      "text/plain": [
       "[]"
      ]
     },
     "execution_count": 29,
     "metadata": {},
     "output_type": "execute_result"
    }
   ],
   "source": [
    "%%sql\n",
    "DROP TABLE IF EXISTS gov_agency_dimension;\n",
    "CREATE TABLE gov_agency_dimension as (\n",
    "SELECT distinct\n",
    "    maj_agency_cat,\n",
    "    contractingofficeagencyid,\n",
    "    contractingofficeid\n",
    "FROM Master\n",
    "ORDER BY 1, 2, 3\n",
    ");"
   ]
  },
  {
   "cell_type": "code",
   "execution_count": 30,
   "metadata": {},
   "outputs": [
    {
     "name": "stdout",
     "output_type": "stream",
     "text": [
      "Done.\n"
     ]
    },
    {
     "data": {
      "text/plain": [
       "[]"
      ]
     },
     "execution_count": 30,
     "metadata": {},
     "output_type": "execute_result"
    }
   ],
   "source": [
    "%%sql\n",
    "ALTER TABLE gov_agency_dimension\n",
    "ADD COLUMN gov_agency_key SERIAL;"
   ]
  },
  {
   "cell_type": "code",
   "execution_count": 31,
   "metadata": {},
   "outputs": [
    {
     "name": "stdout",
     "output_type": "stream",
     "text": [
      "Done.\n"
     ]
    },
    {
     "data": {
      "text/plain": [
       "[]"
      ]
     },
     "execution_count": 31,
     "metadata": {},
     "output_type": "execute_result"
    }
   ],
   "source": [
    "%%sql\n",
    "ALTER TABLE gov_agency_dimension\n",
    "ADD PRIMARY KEY (gov_agency_key);"
   ]
  },
  {
   "cell_type": "code",
   "execution_count": 32,
   "metadata": {},
   "outputs": [
    {
     "name": "stdout",
     "output_type": "stream",
     "text": [
      "5 rows affected.\n"
     ]
    },
    {
     "data": {
      "text/html": [
       "<table>\n",
       "    <tr>\n",
       "        <th>maj_agency_cat</th>\n",
       "        <th>contractingofficeagencyid</th>\n",
       "        <th>contractingofficeid</th>\n",
       "        <th>gov_agency_key</th>\n",
       "    </tr>\n",
       "    <tr>\n",
       "        <td>0500: Government Accountability Office                                                                                                                               </td>\n",
       "        <td>0559: GAO, EXCEPT COMPTROLLER GENERAL                                      </td>\n",
       "        <td>050001: US GAO OI TEAM                                                     </td>\n",
       "        <td>1</td>\n",
       "    </tr>\n",
       "    <tr>\n",
       "        <td>0500: Government Accountability Office                                                                                                                               </td>\n",
       "        <td>0559: GAO, EXCEPT COMPTROLLER GENERAL                                      </td>\n",
       "        <td>050ARM: US GAO ARM TEAM                                                    </td>\n",
       "        <td>2</td>\n",
       "    </tr>\n",
       "    <tr>\n",
       "        <td>0500: Government Accountability Office                                                                                                                               </td>\n",
       "        <td>0559: GAO, EXCEPT COMPTROLLER GENERAL                                      </td>\n",
       "        <td>05GA0A: US GAO ACQUISITION MANAGEMENT                                      </td>\n",
       "        <td>3</td>\n",
       "    </tr>\n",
       "    <tr>\n",
       "        <td>0500: Government Accountability Office                                                                                                                               </td>\n",
       "        <td>0559: GAO, EXCEPT COMPTROLLER GENERAL                                      </td>\n",
       "        <td>GAO AM: GAO ACQUISITION MANAGEMENT                                         </td>\n",
       "        <td>4</td>\n",
       "    </tr>\n",
       "    <tr>\n",
       "        <td>1100: Executive Office of the President                                                                                                                              </td>\n",
       "        <td>1100: EXECUTIVE OFFICE OF THE PRESIDENT                                    </td>\n",
       "        <td>113160: EOP - OFFICE OF ADMINISTRATION                                     </td>\n",
       "        <td>5</td>\n",
       "    </tr>\n",
       "</table>"
      ],
      "text/plain": [
       "[('0500: Government Accountability Office                                                                                                                               ', '0559: GAO, EXCEPT COMPTROLLER GENERAL                                      ', '050001: US GAO OI TEAM                                                     ', 1),\n",
       " ('0500: Government Accountability Office                                                                                                                               ', '0559: GAO, EXCEPT COMPTROLLER GENERAL                                      ', '050ARM: US GAO ARM TEAM                                                    ', 2),\n",
       " ('0500: Government Accountability Office                                                                                                                               ', '0559: GAO, EXCEPT COMPTROLLER GENERAL                                      ', '05GA0A: US GAO ACQUISITION MANAGEMENT                                      ', 3),\n",
       " ('0500: Government Accountability Office                                                                                                                               ', '0559: GAO, EXCEPT COMPTROLLER GENERAL                                      ', 'GAO AM: GAO ACQUISITION MANAGEMENT                                         ', 4),\n",
       " ('1100: Executive Office of the President                                                                                                                              ', '1100: EXECUTIVE OFFICE OF THE PRESIDENT                                    ', '113160: EOP - OFFICE OF ADMINISTRATION                                     ', 5)]"
      ]
     },
     "execution_count": 32,
     "metadata": {},
     "output_type": "execute_result"
    }
   ],
   "source": [
    "%%sql\n",
    "SELECT *\n",
    "FROM gov_agency_dimension\n",
    "ORDER BY 1, 2, 3, 4\n",
    "LIMIT 5;"
   ]
  },
  {
   "cell_type": "markdown",
   "metadata": {},
   "source": [
    "**Define and Populate Star Schema**\n",
    "    Dimension Table 2:  vendor_dimension"
   ]
  },
  {
   "cell_type": "code",
   "execution_count": 33,
   "metadata": {},
   "outputs": [
    {
     "name": "stdout",
     "output_type": "stream",
     "text": [
      "Done.\n",
      "87388 rows affected.\n"
     ]
    },
    {
     "data": {
      "text/plain": [
       "[]"
      ]
     },
     "execution_count": 33,
     "metadata": {},
     "output_type": "execute_result"
    }
   ],
   "source": [
    "%%sql\n",
    "DROP TABLE IF EXISTS vendor_dimension;\n",
    "CREATE TABLE vendor_dimension as (\n",
    "SELECT distinct\n",
    "    dunsnumber,\n",
    "    vendorname,\n",
    "    city,\n",
    "    state,\n",
    "    zipcode,\n",
    "    vendorcountrycode,\n",
    "    parentdunsnumber,\n",
    "    mod_parent,\n",
    "    productorservicecode,\n",
    "    principalnaicscode,\n",
    "    numberofemployees,\n",
    "    annualrevenue,\n",
    "    womenownedflag,\n",
    "    veteranownedflag,\n",
    "    minorityownedbusinessflag,\n",
    "    nonprofitorganizationflag,\n",
    "    isforprofitorganization\n",
    "FROM Master\n",
    "ORDER BY 1, 2, 7\n",
    ");"
   ]
  },
  {
   "cell_type": "code",
   "execution_count": 34,
   "metadata": {},
   "outputs": [
    {
     "name": "stdout",
     "output_type": "stream",
     "text": [
      "Done.\n"
     ]
    },
    {
     "data": {
      "text/plain": [
       "[]"
      ]
     },
     "execution_count": 34,
     "metadata": {},
     "output_type": "execute_result"
    }
   ],
   "source": [
    "%%sql\n",
    "ALTER TABLE vendor_dimension\n",
    "ADD COLUMN vendor_key SERIAL;"
   ]
  },
  {
   "cell_type": "code",
   "execution_count": 35,
   "metadata": {},
   "outputs": [
    {
     "name": "stdout",
     "output_type": "stream",
     "text": [
      "Done.\n"
     ]
    },
    {
     "data": {
      "text/plain": [
       "[]"
      ]
     },
     "execution_count": 35,
     "metadata": {},
     "output_type": "execute_result"
    }
   ],
   "source": [
    "%%sql\n",
    "ALTER TABLE vendor_dimension\n",
    "ADD PRIMARY KEY (vendor_key);"
   ]
  },
  {
   "cell_type": "code",
   "execution_count": 36,
   "metadata": {},
   "outputs": [
    {
     "name": "stdout",
     "output_type": "stream",
     "text": [
      "5 rows affected.\n"
     ]
    },
    {
     "data": {
      "text/html": [
       "<table>\n",
       "    <tr>\n",
       "        <th>dunsnumber</th>\n",
       "        <th>vendorname</th>\n",
       "        <th>city</th>\n",
       "        <th>state</th>\n",
       "        <th>zipcode</th>\n",
       "        <th>vendorcountrycode</th>\n",
       "        <th>parentdunsnumber</th>\n",
       "        <th>mod_parent</th>\n",
       "        <th>productorservicecode</th>\n",
       "        <th>principalnaicscode</th>\n",
       "        <th>numberofemployees</th>\n",
       "        <th>annualrevenue</th>\n",
       "        <th>womenownedflag</th>\n",
       "        <th>veteranownedflag</th>\n",
       "        <th>minorityownedbusinessflag</th>\n",
       "        <th>nonprofitorganizationflag</th>\n",
       "        <th>isforprofitorganization</th>\n",
       "        <th>vendor_key</th>\n",
       "    </tr>\n",
       "    <tr>\n",
       "        <td>1000363</td>\n",
       "        <td>LOUIS M GERSON COMPANY INCORPORATED                                                                                                                                                                                                                            </td>\n",
       "        <td>MIDDLEBORO                                                                      </td>\n",
       "        <td>MA                                      </td>\n",
       "        <td>02346</td>\n",
       "        <td>USA: UNITED STATES OF AMERICA</td>\n",
       "        <td>1000363</td>\n",
       "        <td>LOUIS M. GERSON CO., INC.                                                                                               </td>\n",
       "        <td>4240: SAFETY AND RESCUE EQUIPMENT                                                                                                                                                                                                                              </td>\n",
       "        <td>315999: OTHER APPAREL ACCESSORIES AND OTHER APPAREL MANUFACTURING                                                                                                                                                                                              </td>\n",
       "        <td>160.0</td>\n",
       "        <td>17000000.0</td>\n",
       "        <td>False</td>\n",
       "        <td>False</td>\n",
       "        <td>False</td>\n",
       "        <td>False</td>\n",
       "        <td>False</td>\n",
       "        <td>1</td>\n",
       "    </tr>\n",
       "    <tr>\n",
       "        <td>1000363</td>\n",
       "        <td>LOUIS M. GERSON CO., INC.                                                                                                                                                                                                                                      </td>\n",
       "        <td>MIDDLEBORO                                                                      </td>\n",
       "        <td>MA                                      </td>\n",
       "        <td>02346</td>\n",
       "        <td>USA: UNITED STATES OF AMERICA</td>\n",
       "        <td>1000363</td>\n",
       "        <td>LOUIS M. GERSON CO., INC.                                                                                               </td>\n",
       "        <td>4240: SAFETY AND RESCUE EQUIPMENT                                                                                                                                                                                                                              </td>\n",
       "        <td>336611: SHIP BUILDING AND REPAIRING                                                                                                                                                                                                                            </td>\n",
       "        <td>52.0</td>\n",
       "        <td>20000000.0</td>\n",
       "        <td>False</td>\n",
       "        <td>False</td>\n",
       "        <td>False</td>\n",
       "        <td>False</td>\n",
       "        <td>True</td>\n",
       "        <td>3</td>\n",
       "    </tr>\n",
       "    <tr>\n",
       "        <td>1000363</td>\n",
       "        <td>LOUIS M. GERSON CO., INC.                                                                                                                                                                                                                                      </td>\n",
       "        <td>MIDDLEBORO                                                                      </td>\n",
       "        <td>MA                                      </td>\n",
       "        <td>02346</td>\n",
       "        <td>USA: UNITED STATES OF AMERICA</td>\n",
       "        <td>1000363</td>\n",
       "        <td>LOUIS M. GERSON CO., INC                                                                                                </td>\n",
       "        <td>4240: SAFETY AND RESCUE EQUIPMENT                                                                                                                                                                                                                              </td>\n",
       "        <td>336611: SHIP BUILDING AND REPAIRING                                                                                                                                                                                                                            </td>\n",
       "        <td>52.0</td>\n",
       "        <td>20000000.0</td>\n",
       "        <td>False</td>\n",
       "        <td>False</td>\n",
       "        <td>False</td>\n",
       "        <td>False</td>\n",
       "        <td>True</td>\n",
       "        <td>2</td>\n",
       "    </tr>\n",
       "    <tr>\n",
       "        <td>1003748</td>\n",
       "        <td>STERLINGWEAR OF BOSTON, INC.                                                                                                                                                                                                                                   </td>\n",
       "        <td>BOSTON                                                                          </td>\n",
       "        <td>MA                                      </td>\n",
       "        <td>02128</td>\n",
       "        <td>USA: UNITED STATES OF AMERICA</td>\n",
       "        <td>1003748</td>\n",
       "        <td>STERLINGWEAR OF BOSTON, INC.                                                                                            </td>\n",
       "        <td>8410: OUTERWEAR, WOMEN&#x27;S                                                                                                                                                                                                                                       </td>\n",
       "        <td>315240: WOMEN&#x27;S, GIRLS&#x27;, AND INFANTS&#x27; CUT AND SEW APPAREL MANUFACTURING                                                                                                                                                                                        </td>\n",
       "        <td>286.0</td>\n",
       "        <td>20000000.0</td>\n",
       "        <td>False</td>\n",
       "        <td>True</td>\n",
       "        <td>False</td>\n",
       "        <td>False</td>\n",
       "        <td>True</td>\n",
       "        <td>5</td>\n",
       "    </tr>\n",
       "    <tr>\n",
       "        <td>1003748</td>\n",
       "        <td>STERLINGWEAR OF BOSTON, INC.                                                                                                                                                                                                                                   </td>\n",
       "        <td>BOSTON                                                                          </td>\n",
       "        <td>MA                                      </td>\n",
       "        <td>02128</td>\n",
       "        <td>USA: UNITED STATES OF AMERICA</td>\n",
       "        <td>1003748</td>\n",
       "        <td>STERLINGWEAR OF BOSTON, INC.                                                                                            </td>\n",
       "        <td>8405: OUTERWEAR, MEN&#x27;S                                                                                                                                                                                                                                         </td>\n",
       "        <td>315240: WOMEN&#x27;S, GIRLS&#x27;, AND INFANTS&#x27; CUT AND SEW APPAREL MANUFACTURING                                                                                                                                                                                        </td>\n",
       "        <td>286.0</td>\n",
       "        <td>20000000.0</td>\n",
       "        <td>False</td>\n",
       "        <td>True</td>\n",
       "        <td>False</td>\n",
       "        <td>False</td>\n",
       "        <td>True</td>\n",
       "        <td>4</td>\n",
       "    </tr>\n",
       "</table>"
      ],
      "text/plain": [
       "[(1000363, 'LOUIS M GERSON COMPANY INCORPORATED                                                                                                                                                                                                                            ', 'MIDDLEBORO                                                                      ', 'MA                                      ', '02346', 'USA: UNITED STATES OF AMERICA', 1000363, 'LOUIS M. GERSON CO., INC.                                                                                               ', '4240: SAFETY AND RESCUE EQUIPMENT                                                                                                                                                                                                                              ', '315999: OTHER APPAREL ACCESSORIES AND OTHER APPAREL MANUFACTURING                                                                                                                                                                                              ', 160.0, 17000000.0, False, False, False, False, False, 1),\n",
       " (1000363, 'LOUIS M. GERSON CO., INC.                                                                                                                                                                                                                                      ', 'MIDDLEBORO                                                                      ', 'MA                                      ', '02346', 'USA: UNITED STATES OF AMERICA', 1000363, 'LOUIS M. GERSON CO., INC.                                                                                               ', '4240: SAFETY AND RESCUE EQUIPMENT                                                                                                                                                                                                                              ', '336611: SHIP BUILDING AND REPAIRING                                                                                                                                                                                                                            ', 52.0, 20000000.0, False, False, False, False, True, 3),\n",
       " (1000363, 'LOUIS M. GERSON CO., INC.                                                                                                                                                                                                                                      ', 'MIDDLEBORO                                                                      ', 'MA                                      ', '02346', 'USA: UNITED STATES OF AMERICA', 1000363, 'LOUIS M. GERSON CO., INC                                                                                                ', '4240: SAFETY AND RESCUE EQUIPMENT                                                                                                                                                                                                                              ', '336611: SHIP BUILDING AND REPAIRING                                                                                                                                                                                                                            ', 52.0, 20000000.0, False, False, False, False, True, 2),\n",
       " (1003748, 'STERLINGWEAR OF BOSTON, INC.                                                                                                                                                                                                                                   ', 'BOSTON                                                                          ', 'MA                                      ', '02128', 'USA: UNITED STATES OF AMERICA', 1003748, 'STERLINGWEAR OF BOSTON, INC.                                                                                            ', \"8410: OUTERWEAR, WOMEN'S                                                                                                                                                                                                                                       \", \"315240: WOMEN'S, GIRLS', AND INFANTS' CUT AND SEW APPAREL MANUFACTURING                                                                                                                                                                                        \", 286.0, 20000000.0, False, True, False, False, True, 5),\n",
       " (1003748, 'STERLINGWEAR OF BOSTON, INC.                                                                                                                                                                                                                                   ', 'BOSTON                                                                          ', 'MA                                      ', '02128', 'USA: UNITED STATES OF AMERICA', 1003748, 'STERLINGWEAR OF BOSTON, INC.                                                                                            ', \"8405: OUTERWEAR, MEN'S                                                                                                                                                                                                                                         \", \"315240: WOMEN'S, GIRLS', AND INFANTS' CUT AND SEW APPAREL MANUFACTURING                                                                                                                                                                                        \", 286.0, 20000000.0, False, True, False, False, True, 4)]"
      ]
     },
     "execution_count": 36,
     "metadata": {},
     "output_type": "execute_result"
    }
   ],
   "source": [
    "%%sql\n",
    "SELECT *\n",
    "FROM vendor_dimension\n",
    "ORDER BY 1, 2, 7\n",
    "LIMIT 5;"
   ]
  },
  {
   "cell_type": "markdown",
   "metadata": {},
   "source": [
    "**Define and Populate Star Schema**\n",
    "    Dimension Table 3:  contract_date_dimension"
   ]
  },
  {
   "cell_type": "code",
   "execution_count": 37,
   "metadata": {},
   "outputs": [
    {
     "name": "stdout",
     "output_type": "stream",
     "text": [
      "Done.\n",
      "79504 rows affected.\n"
     ]
    },
    {
     "data": {
      "text/plain": [
       "[]"
      ]
     },
     "execution_count": 37,
     "metadata": {},
     "output_type": "execute_result"
    }
   ],
   "source": [
    "%%sql\n",
    "DROP TABLE IF EXISTS contract_date_dimension;\n",
    "CREATE TABLE contract_date_dimension as (\n",
    "SELECT distinct\n",
    "        signed_yr,\n",
    "        signed_mth,\n",
    "        signed_day,\n",
    "        eff_yr,\n",
    "        eff_mth,\n",
    "        eff_day,\n",
    "        currentcompletion_yr,\n",
    "        currentcompletion_mth,\n",
    "        currentcompletion_day,\n",
    "        ultimatecompletion_yr,\n",
    "        ultimatecompletion_mth,\n",
    "        ultimatecompletion_day\n",
    "FROM Master\n",
    "ORDER BY 1, 2, 3\n",
    ");"
   ]
  },
  {
   "cell_type": "code",
   "execution_count": 38,
   "metadata": {},
   "outputs": [
    {
     "name": "stdout",
     "output_type": "stream",
     "text": [
      "Done.\n"
     ]
    },
    {
     "data": {
      "text/plain": [
       "[]"
      ]
     },
     "execution_count": 38,
     "metadata": {},
     "output_type": "execute_result"
    }
   ],
   "source": [
    "%%sql\n",
    "ALTER TABLE contract_date_dimension\n",
    "ADD COLUMN contract_date_key SERIAL;"
   ]
  },
  {
   "cell_type": "code",
   "execution_count": 39,
   "metadata": {},
   "outputs": [
    {
     "name": "stdout",
     "output_type": "stream",
     "text": [
      "Done.\n"
     ]
    },
    {
     "data": {
      "text/plain": [
       "[]"
      ]
     },
     "execution_count": 39,
     "metadata": {},
     "output_type": "execute_result"
    }
   ],
   "source": [
    "%%sql\n",
    "ALTER TABLE contract_date_dimension\n",
    "ADD PRIMARY KEY (contract_date_key);"
   ]
  },
  {
   "cell_type": "code",
   "execution_count": 40,
   "metadata": {},
   "outputs": [
    {
     "name": "stdout",
     "output_type": "stream",
     "text": [
      "5 rows affected.\n"
     ]
    },
    {
     "data": {
      "text/html": [
       "<table>\n",
       "    <tr>\n",
       "        <th>signed_yr</th>\n",
       "        <th>signed_mth</th>\n",
       "        <th>signed_day</th>\n",
       "        <th>eff_yr</th>\n",
       "        <th>eff_mth</th>\n",
       "        <th>eff_day</th>\n",
       "        <th>currentcompletion_yr</th>\n",
       "        <th>currentcompletion_mth</th>\n",
       "        <th>currentcompletion_day</th>\n",
       "        <th>ultimatecompletion_yr</th>\n",
       "        <th>ultimatecompletion_mth</th>\n",
       "        <th>ultimatecompletion_day</th>\n",
       "        <th>contract_date_key</th>\n",
       "    </tr>\n",
       "    <tr>\n",
       "        <td>2015</td>\n",
       "        <td>10</td>\n",
       "        <td>1</td>\n",
       "        <td>2009</td>\n",
       "        <td>12</td>\n",
       "        <td>10</td>\n",
       "        <td>2015</td>\n",
       "        <td>5</td>\n",
       "        <td>31</td>\n",
       "        <td>2015</td>\n",
       "        <td>5</td>\n",
       "        <td>31</td>\n",
       "        <td>2</td>\n",
       "    </tr>\n",
       "    <tr>\n",
       "        <td>2015</td>\n",
       "        <td>10</td>\n",
       "        <td>1</td>\n",
       "        <td>2013</td>\n",
       "        <td>6</td>\n",
       "        <td>12</td>\n",
       "        <td>2014</td>\n",
       "        <td>4</td>\n",
       "        <td>6</td>\n",
       "        <td>2014</td>\n",
       "        <td>4</td>\n",
       "        <td>6</td>\n",
       "        <td>3</td>\n",
       "    </tr>\n",
       "    <tr>\n",
       "        <td>2015</td>\n",
       "        <td>10</td>\n",
       "        <td>1</td>\n",
       "        <td>2013</td>\n",
       "        <td>9</td>\n",
       "        <td>16</td>\n",
       "        <td>2017</td>\n",
       "        <td>5</td>\n",
       "        <td>30</td>\n",
       "        <td>2017</td>\n",
       "        <td>5</td>\n",
       "        <td>30</td>\n",
       "        <td>4</td>\n",
       "    </tr>\n",
       "    <tr>\n",
       "        <td>2015</td>\n",
       "        <td>10</td>\n",
       "        <td>1</td>\n",
       "        <td>2013</td>\n",
       "        <td>11</td>\n",
       "        <td>21</td>\n",
       "        <td>2015</td>\n",
       "        <td>11</td>\n",
       "        <td>21</td>\n",
       "        <td>2017</td>\n",
       "        <td>11</td>\n",
       "        <td>21</td>\n",
       "        <td>5</td>\n",
       "    </tr>\n",
       "    <tr>\n",
       "        <td>2015</td>\n",
       "        <td>10</td>\n",
       "        <td>1</td>\n",
       "        <td>2005</td>\n",
       "        <td>10</td>\n",
       "        <td>1</td>\n",
       "        <td>2016</td>\n",
       "        <td>9</td>\n",
       "        <td>30</td>\n",
       "        <td>2016</td>\n",
       "        <td>9</td>\n",
       "        <td>30</td>\n",
       "        <td>1</td>\n",
       "    </tr>\n",
       "</table>"
      ],
      "text/plain": [
       "[(Decimal('2015'), Decimal('10'), Decimal('1'), Decimal('2009'), Decimal('12'), Decimal('10'), Decimal('2015'), Decimal('5'), Decimal('31'), Decimal('2015'), Decimal('5'), Decimal('31'), 2),\n",
       " (Decimal('2015'), Decimal('10'), Decimal('1'), Decimal('2013'), Decimal('6'), Decimal('12'), Decimal('2014'), Decimal('4'), Decimal('6'), Decimal('2014'), Decimal('4'), Decimal('6'), 3),\n",
       " (Decimal('2015'), Decimal('10'), Decimal('1'), Decimal('2013'), Decimal('9'), Decimal('16'), Decimal('2017'), Decimal('5'), Decimal('30'), Decimal('2017'), Decimal('5'), Decimal('30'), 4),\n",
       " (Decimal('2015'), Decimal('10'), Decimal('1'), Decimal('2013'), Decimal('11'), Decimal('21'), Decimal('2015'), Decimal('11'), Decimal('21'), Decimal('2017'), Decimal('11'), Decimal('21'), 5),\n",
       " (Decimal('2015'), Decimal('10'), Decimal('1'), Decimal('2005'), Decimal('10'), Decimal('1'), Decimal('2016'), Decimal('9'), Decimal('30'), Decimal('2016'), Decimal('9'), Decimal('30'), 1)]"
      ]
     },
     "execution_count": 40,
     "metadata": {},
     "output_type": "execute_result"
    }
   ],
   "source": [
    "%%sql\n",
    "SELECT *\n",
    "FROM contract_date_dimension\n",
    "ORDER BY 1, 2, 3\n",
    "LIMIT 5;"
   ]
  },
  {
   "cell_type": "markdown",
   "metadata": {},
   "source": [
    "**Define and Populate Star Schema**\n",
    "    Fact Table:  gov_contract_fact"
   ]
  },
  {
   "cell_type": "code",
   "execution_count": 41,
   "metadata": {},
   "outputs": [
    {
     "name": "stdout",
     "output_type": "stream",
     "text": [
      "Done.\n",
      "263225 rows affected.\n"
     ]
    },
    {
     "data": {
      "text/plain": [
       "[]"
      ]
     },
     "execution_count": 41,
     "metadata": {},
     "output_type": "execute_result"
    }
   ],
   "source": [
    "%%sql\n",
    "DROP TABLE IF EXISTS gov_contract_fact;\n",
    "CREATE TABLE gov_contract_fact as (\n",
    "SELECT distinct\n",
    "        unique_transaction_id,\n",
    "        dollarsobligated,\n",
    "        baseandexercisedoptionsvalue,\n",
    "        baseandalloptionsvalue,\n",
    "        maj_agency_cat,\n",
    "        contractingofficeagencyid,\n",
    "        contractingofficeid,\n",
    "        dunsnumber,\n",
    "        vendorname,\n",
    "        principalnaicscode,\n",
    "        signed_yr, \n",
    "        signed_mth,\n",
    "        signed_day,\n",
    "        eff_yr,\n",
    "        eff_mth,\n",
    "        eff_day,\n",
    "        currentcompletion_yr,\n",
    "        currentcompletion_mth,\n",
    "        currentcompletion_day,\n",
    "        ultimatecompletion_yr,\n",
    "        ultimatecompletion_mth,\n",
    "        ultimatecompletion_day\n",
    "FROM Master\n",
    "ORDER BY 1\n",
    ");"
   ]
  },
  {
   "cell_type": "code",
   "execution_count": 42,
   "metadata": {},
   "outputs": [
    {
     "name": "stdout",
     "output_type": "stream",
     "text": [
      "Done.\n"
     ]
    },
    {
     "data": {
      "text/plain": [
       "[]"
      ]
     },
     "execution_count": 42,
     "metadata": {},
     "output_type": "execute_result"
    }
   ],
   "source": [
    "%%sql\n",
    "ALTER TABLE gov_contract_fact\n",
    "ADD COLUMN gov_agency_key INTEGER;"
   ]
  },
  {
   "cell_type": "code",
   "execution_count": 43,
   "metadata": {},
   "outputs": [
    {
     "name": "stdout",
     "output_type": "stream",
     "text": [
      "263225 rows affected.\n"
     ]
    },
    {
     "data": {
      "text/plain": [
       "[]"
      ]
     },
     "execution_count": 43,
     "metadata": {},
     "output_type": "execute_result"
    }
   ],
   "source": [
    "%%sql\n",
    "UPDATE gov_contract_fact\n",
    "SET gov_agency_key = a.gov_agency_key\n",
    "FROM gov_agency_dimension a\n",
    "WHERE gov_contract_fact.maj_agency_cat = a.maj_agency_cat\n",
    "AND gov_contract_fact.contractingofficeagencyid = a.contractingofficeagencyid\n",
    "AND gov_contract_fact.contractingofficeid = a.contractingofficeid;"
   ]
  },
  {
   "cell_type": "code",
   "execution_count": 44,
   "metadata": {},
   "outputs": [
    {
     "name": "stdout",
     "output_type": "stream",
     "text": [
      "Done.\n"
     ]
    },
    {
     "data": {
      "text/plain": [
       "[]"
      ]
     },
     "execution_count": 44,
     "metadata": {},
     "output_type": "execute_result"
    }
   ],
   "source": [
    "%%sql\n",
    "ALTER TABLE gov_contract_fact\n",
    "ADD COLUMN vendor_key INTEGER;"
   ]
  },
  {
   "cell_type": "code",
   "execution_count": 45,
   "metadata": {},
   "outputs": [
    {
     "name": "stdout",
     "output_type": "stream",
     "text": [
      "263218 rows affected.\n"
     ]
    },
    {
     "data": {
      "text/plain": [
       "[]"
      ]
     },
     "execution_count": 45,
     "metadata": {},
     "output_type": "execute_result"
    }
   ],
   "source": [
    "%%sql\n",
    "UPDATE gov_contract_fact\n",
    "SET vendor_key = b.vendor_key\n",
    "FROM vendor_dimension b\n",
    "WHERE gov_contract_fact.dunsnumber = b.dunsnumber\n",
    "AND gov_contract_fact.vendorname = b.vendorname\n",
    "AND gov_contract_fact.principalnaicscode = b.principalnaicscode;"
   ]
  },
  {
   "cell_type": "code",
   "execution_count": 46,
   "metadata": {},
   "outputs": [
    {
     "name": "stdout",
     "output_type": "stream",
     "text": [
      "Done.\n"
     ]
    },
    {
     "data": {
      "text/plain": [
       "[]"
      ]
     },
     "execution_count": 46,
     "metadata": {},
     "output_type": "execute_result"
    }
   ],
   "source": [
    "%%sql\n",
    "ALTER TABLE gov_contract_fact\n",
    "ADD COLUMN contract_date_key INTEGER;"
   ]
  },
  {
   "cell_type": "code",
   "execution_count": 47,
   "metadata": {},
   "outputs": [
    {
     "name": "stdout",
     "output_type": "stream",
     "text": [
      "251608 rows affected.\n"
     ]
    },
    {
     "data": {
      "text/plain": [
       "[]"
      ]
     },
     "execution_count": 47,
     "metadata": {},
     "output_type": "execute_result"
    }
   ],
   "source": [
    "%%sql\n",
    "UPDATE gov_contract_fact\n",
    "SET contract_date_key = c.contract_date_key\n",
    "FROM contract_date_dimension c\n",
    "WHERE gov_contract_fact.signed_yr = c.signed_yr\n",
    "AND gov_contract_fact.signed_mth = c.signed_mth\n",
    "AND gov_contract_fact.signed_day = c.signed_day\n",
    "AND gov_contract_fact.eff_yr = c.eff_yr\n",
    "AND gov_contract_fact.eff_mth = c.eff_mth\n",
    "AND gov_contract_fact.eff_day = c.eff_day\n",
    "AND gov_contract_fact.currentcompletion_yr = c.currentcompletion_yr\n",
    "AND gov_contract_fact.currentcompletion_mth = c.currentcompletion_mth\n",
    "AND gov_contract_fact.currentcompletion_day = c.currentcompletion_day\n",
    "AND gov_contract_fact.ultimatecompletion_yr = c.ultimatecompletion_yr\n",
    "AND gov_contract_fact.ultimatecompletion_mth = c.ultimatecompletion_mth\n",
    "AND gov_contract_fact.ultimatecompletion_day = c.ultimatecompletion_day;"
   ]
  },
  {
   "cell_type": "markdown",
   "metadata": {},
   "source": [
    "**Define and Populate Star Schema**\n",
    "    Fact Table:  Add Primary Key; Set Foreign Keys; Remove Extraneous Fields\n",
    "    \n",
    "We use constraints to ensure the quality of our data and ensure that there are no orphaned links between our tables."
   ]
  },
  {
   "cell_type": "code",
   "execution_count": 48,
   "metadata": {},
   "outputs": [
    {
     "name": "stdout",
     "output_type": "stream",
     "text": [
      "Done.\n",
      "Done.\n",
      "Done.\n",
      "Done.\n",
      "Done.\n",
      "Done.\n",
      "Done.\n",
      "Done.\n",
      "Done.\n",
      "Done.\n",
      "Done.\n",
      "Done.\n",
      "Done.\n",
      "Done.\n",
      "Done.\n",
      "Done.\n",
      "Done.\n",
      "Done.\n"
     ]
    },
    {
     "data": {
      "text/plain": [
       "[]"
      ]
     },
     "execution_count": 48,
     "metadata": {},
     "output_type": "execute_result"
    }
   ],
   "source": [
    "%%sql\n",
    "ALTER TABLE gov_contract_fact\n",
    "DROP COLUMN maj_agency_cat;\n",
    "\n",
    "ALTER TABLE gov_contract_fact\n",
    "DROP COLUMN contractingofficeagencyid;\n",
    "\n",
    "ALTER TABLE gov_contract_fact\n",
    "DROP COLUMN contractingofficeid;\n",
    "\n",
    "ALTER TABLE gov_contract_fact\n",
    "DROP COLUMN dunsnumber;\n",
    "\n",
    "ALTER TABLE gov_contract_fact\n",
    "DROP COLUMN vendorname;\n",
    "\n",
    "ALTER TABLE gov_contract_fact\n",
    "DROP COLUMN principalnaicscode;\n",
    "\n",
    "ALTER TABLE gov_contract_fact\n",
    "DROP COLUMN signed_yr;\n",
    "\n",
    "ALTER TABLE gov_contract_fact\n",
    "DROP COLUMN signed_mth;\n",
    "\n",
    "ALTER TABLE gov_contract_fact\n",
    "DROP COLUMN signed_day;\n",
    "\n",
    "ALTER TABLE gov_contract_fact\n",
    "DROP COLUMN eff_yr;\n",
    "\n",
    "ALTER TABLE gov_contract_fact\n",
    "DROP COLUMN eff_mth;\n",
    "\n",
    "ALTER TABLE gov_contract_fact\n",
    "DROP COLUMN eff_day;\n",
    "\n",
    "ALTER TABLE gov_contract_fact\n",
    "DROP COLUMN currentcompletion_yr;\n",
    "\n",
    "ALTER TABLE gov_contract_fact\n",
    "DROP COLUMN currentcompletion_mth;\n",
    "\n",
    "ALTER TABLE gov_contract_fact\n",
    "DROP COLUMN currentcompletion_day;\n",
    "\n",
    "ALTER TABLE gov_contract_fact\n",
    "DROP COLUMN ultimatecompletion_yr;\n",
    "\n",
    "ALTER TABLE gov_contract_fact\n",
    "DROP COLUMN ultimatecompletion_mth;\n",
    "\n",
    "ALTER TABLE gov_contract_fact\n",
    "DROP COLUMN ultimatecompletion_day;"
   ]
  },
  {
   "cell_type": "code",
   "execution_count": 49,
   "metadata": {},
   "outputs": [
    {
     "name": "stdout",
     "output_type": "stream",
     "text": [
      "Done.\n"
     ]
    },
    {
     "data": {
      "text/plain": [
       "[]"
      ]
     },
     "execution_count": 49,
     "metadata": {},
     "output_type": "execute_result"
    }
   ],
   "source": [
    "%%sql\n",
    "ALTER TABLE gov_contract_fact ADD PRIMARY KEY (unique_transaction_id);"
   ]
  },
  {
   "cell_type": "markdown",
   "metadata": {},
   "source": [
    "we add constraints to ensure the integrity of the star schema tables."
   ]
  },
  {
   "cell_type": "code",
   "execution_count": 50,
   "metadata": {},
   "outputs": [
    {
     "name": "stdout",
     "output_type": "stream",
     "text": [
      "Done.\n",
      "Done.\n",
      "Done.\n"
     ]
    },
    {
     "data": {
      "text/plain": [
       "[]"
      ]
     },
     "execution_count": 50,
     "metadata": {},
     "output_type": "execute_result"
    }
   ],
   "source": [
    "%%sql\n",
    "ALTER TABLE gov_contract_fact ADD CONSTRAINT agencyfk FOREIGN KEY (gov_agency_key) REFERENCES gov_agency_dimension(gov_agency_key);\n",
    "ALTER TABLE gov_contract_fact ADD CONSTRAINT datefk FOREIGN KEY (contract_date_key) REFERENCES contract_date_dimension(contract_date_key);\n",
    "ALTER TABLE gov_contract_fact ADD CONSTRAINT vendorfk FOREIGN KEY (vendor_key) REFERENCES vendor_dimension(vendor_key);"
   ]
  },
  {
   "cell_type": "markdown",
   "metadata": {},
   "source": [
    "**Define and Populate Star Schema**\n",
    "    Verification of Star Schema against Original Table"
   ]
  },
  {
   "cell_type": "code",
   "execution_count": 51,
   "metadata": {},
   "outputs": [
    {
     "name": "stdout",
     "output_type": "stream",
     "text": [
      "1 rows affected.\n"
     ]
    },
    {
     "data": {
      "text/html": [
       "<table>\n",
       "    <tr>\n",
       "        <th>unique_transaction_id</th>\n",
       "        <th>dollarsobligated</th>\n",
       "        <th>baseandexercisedoptionsvalue</th>\n",
       "        <th>baseandalloptionsvalue</th>\n",
       "        <th>maj_agency_cat</th>\n",
       "        <th>contractingofficeagencyid</th>\n",
       "        <th>contractingofficeid</th>\n",
       "        <th>signeddate</th>\n",
       "        <th>effectivedate</th>\n",
       "        <th>currentcompletiondate</th>\n",
       "        <th>ultimatecompletiondate</th>\n",
       "        <th>vendorname</th>\n",
       "        <th>city</th>\n",
       "        <th>state</th>\n",
       "        <th>zipcode</th>\n",
       "        <th>vendorcountrycode</th>\n",
       "        <th>dunsnumber</th>\n",
       "        <th>parentdunsnumber</th>\n",
       "        <th>mod_parent</th>\n",
       "        <th>productorservicecode</th>\n",
       "        <th>principalnaicscode</th>\n",
       "        <th>numberofemployees</th>\n",
       "        <th>annualrevenue</th>\n",
       "        <th>womenownedflag</th>\n",
       "        <th>veteranownedflag</th>\n",
       "        <th>minorityownedbusinessflag</th>\n",
       "        <th>nonprofitorganizationflag</th>\n",
       "        <th>isforprofitorganization</th>\n",
       "        <th>signed_yr</th>\n",
       "        <th>signed_mth</th>\n",
       "        <th>signed_day</th>\n",
       "        <th>eff_yr</th>\n",
       "        <th>eff_mth</th>\n",
       "        <th>eff_day</th>\n",
       "        <th>currentcompletion_yr</th>\n",
       "        <th>currentcompletion_mth</th>\n",
       "        <th>currentcompletion_day</th>\n",
       "        <th>ultimatecompletion_yr</th>\n",
       "        <th>ultimatecompletion_mth</th>\n",
       "        <th>ultimatecompletion_day</th>\n",
       "    </tr>\n",
       "    <tr>\n",
       "        <td>09a99bdd21584a60a91df58048bac6b8</td>\n",
       "        <td>23000.0</td>\n",
       "        <td>23000.0</td>\n",
       "        <td>23000.0</td>\n",
       "        <td>1500: Department of Justice                                                                                                                                          </td>\n",
       "        <td>1540: FEDERAL PRISON SYSTEM                                                </td>\n",
       "        <td>31402: TALLAHASSEE, FCI                                                    </td>\n",
       "        <td>2015-10-01 00:00:00</td>\n",
       "        <td>2015-10-01 00:00:00</td>\n",
       "        <td>2015-11-30 00:00:00</td>\n",
       "        <td>2015-11-30 00:00:00</td>\n",
       "        <td>NAPHCARE, INC.                                                                                                                                                                                                                                                 </td>\n",
       "        <td>BIRMINGHAM                                                                      </td>\n",
       "        <td>AL                                      </td>\n",
       "        <td>35203</td>\n",
       "        <td>USA: UNITED STATES OF AMERICA</td>\n",
       "        <td>4677399</td>\n",
       "        <td>4677399</td>\n",
       "        <td>NAPHCARE, INC.                                                                                                          </td>\n",
       "        <td>Q201: MEDICAL- GENERAL HEALTH CARE                                                                                                                                                                                                                             </td>\n",
       "        <td>622110: GENERAL MEDICAL AND SURGICAL HOSPITALS                                                                                                                                                                                                                 </td>\n",
       "        <td>690.0</td>\n",
       "        <td>97000000.0</td>\n",
       "        <td>False</td>\n",
       "        <td>False</td>\n",
       "        <td>False</td>\n",
       "        <td>False</td>\n",
       "        <td>True</td>\n",
       "        <td>2015</td>\n",
       "        <td>10</td>\n",
       "        <td>1</td>\n",
       "        <td>2015</td>\n",
       "        <td>10</td>\n",
       "        <td>1</td>\n",
       "        <td>2015</td>\n",
       "        <td>11</td>\n",
       "        <td>30</td>\n",
       "        <td>2015</td>\n",
       "        <td>11</td>\n",
       "        <td>30</td>\n",
       "    </tr>\n",
       "</table>"
      ],
      "text/plain": [
       "[('09a99bdd21584a60a91df58048bac6b8', 23000.0, 23000.0, 23000.0, '1500: Department of Justice                                                                                                                                          ', '1540: FEDERAL PRISON SYSTEM                                                ', '31402: TALLAHASSEE, FCI                                                    ', datetime.datetime(2015, 10, 1, 0, 0), datetime.datetime(2015, 10, 1, 0, 0), datetime.datetime(2015, 11, 30, 0, 0), datetime.datetime(2015, 11, 30, 0, 0), 'NAPHCARE, INC.                                                                                                                                                                                                                                                 ', 'BIRMINGHAM                                                                      ', 'AL                                      ', '35203', 'USA: UNITED STATES OF AMERICA', 4677399, 4677399, 'NAPHCARE, INC.                                                                                                          ', 'Q201: MEDICAL- GENERAL HEALTH CARE                                                                                                                                                                                                                             ', '622110: GENERAL MEDICAL AND SURGICAL HOSPITALS                                                                                                                                                                                                                 ', 690.0, 97000000.0, False, False, False, False, True, Decimal('2015'), Decimal('10'), Decimal('1'), Decimal('2015'), Decimal('10'), Decimal('1'), Decimal('2015'), Decimal('11'), Decimal('30'), Decimal('2015'), Decimal('11'), Decimal('30'))]"
      ]
     },
     "execution_count": 51,
     "metadata": {},
     "output_type": "execute_result"
    }
   ],
   "source": [
    "%%sql\n",
    "SELECT *\n",
    "FROM Master\n",
    "WHERE unique_transaction_id = '09a99bdd21584a60a91df58048bac6b8';"
   ]
  },
  {
   "cell_type": "code",
   "execution_count": 52,
   "metadata": {},
   "outputs": [
    {
     "name": "stdout",
     "output_type": "stream",
     "text": [
      "1 rows affected.\n"
     ]
    },
    {
     "data": {
      "text/html": [
       "<table>\n",
       "    <tr>\n",
       "        <th>unique_transaction_id</th>\n",
       "        <th>dollarsobligated</th>\n",
       "        <th>baseandexercisedoptionsvalue</th>\n",
       "        <th>baseandalloptionsvalue</th>\n",
       "        <th>maj_agency_cat</th>\n",
       "        <th>contractingofficeagencyid</th>\n",
       "        <th>contractingofficeid</th>\n",
       "        <th>signed_day</th>\n",
       "        <th>eff_day</th>\n",
       "        <th>currentcompletion_day</th>\n",
       "        <th>ultimatecompletion_day</th>\n",
       "        <th>vendorname</th>\n",
       "        <th>city</th>\n",
       "        <th>state</th>\n",
       "        <th>zipcode</th>\n",
       "        <th>vendorcountrycode</th>\n",
       "        <th>dunsnumber</th>\n",
       "        <th>parentdunsnumber</th>\n",
       "        <th>mod_parent</th>\n",
       "        <th>productorservicecode</th>\n",
       "        <th>principalnaicscode</th>\n",
       "        <th>numberofemployees</th>\n",
       "        <th>annualrevenue</th>\n",
       "        <th>womenownedflag</th>\n",
       "        <th>veteranownedflag</th>\n",
       "        <th>minorityownedbusinessflag</th>\n",
       "        <th>nonprofitorganizationflag</th>\n",
       "        <th>isforprofitorganization</th>\n",
       "    </tr>\n",
       "    <tr>\n",
       "        <td>09a99bdd21584a60a91df58048bac6b8</td>\n",
       "        <td>23000.0</td>\n",
       "        <td>23000.0</td>\n",
       "        <td>23000.0</td>\n",
       "        <td>1500: Department of Justice                                                                                                                                          </td>\n",
       "        <td>1540: FEDERAL PRISON SYSTEM                                                </td>\n",
       "        <td>31402: TALLAHASSEE, FCI                                                    </td>\n",
       "        <td>1</td>\n",
       "        <td>1</td>\n",
       "        <td>30</td>\n",
       "        <td>30</td>\n",
       "        <td>NAPHCARE, INC.                                                                                                                                                                                                                                                 </td>\n",
       "        <td>BIRMINGHAM                                                                      </td>\n",
       "        <td>AL                                      </td>\n",
       "        <td>35216</td>\n",
       "        <td>USA: UNITED STATES OF AMERICA</td>\n",
       "        <td>4677399</td>\n",
       "        <td>4677399</td>\n",
       "        <td>None</td>\n",
       "        <td>Q201: MEDICAL- GENERAL HEALTH CARE                                                                                                                                                                                                                             </td>\n",
       "        <td>622110: GENERAL MEDICAL AND SURGICAL HOSPITALS                                                                                                                                                                                                                 </td>\n",
       "        <td>1515.0</td>\n",
       "        <td>152040000.0</td>\n",
       "        <td>False</td>\n",
       "        <td>False</td>\n",
       "        <td>False</td>\n",
       "        <td>False</td>\n",
       "        <td>True</td>\n",
       "    </tr>\n",
       "</table>"
      ],
      "text/plain": [
       "[('09a99bdd21584a60a91df58048bac6b8', 23000.0, 23000.0, 23000.0, '1500: Department of Justice                                                                                                                                          ', '1540: FEDERAL PRISON SYSTEM                                                ', '31402: TALLAHASSEE, FCI                                                    ', Decimal('1'), Decimal('1'), Decimal('30'), Decimal('30'), 'NAPHCARE, INC.                                                                                                                                                                                                                                                 ', 'BIRMINGHAM                                                                      ', 'AL                                      ', '35216', 'USA: UNITED STATES OF AMERICA', 4677399, 4677399, None, 'Q201: MEDICAL- GENERAL HEALTH CARE                                                                                                                                                                                                                             ', '622110: GENERAL MEDICAL AND SURGICAL HOSPITALS                                                                                                                                                                                                                 ', 1515.0, 152040000.0, False, False, False, False, True)]"
      ]
     },
     "execution_count": 52,
     "metadata": {},
     "output_type": "execute_result"
    }
   ],
   "source": [
    "%%sql\n",
    "SELECT \n",
    "    a.unique_transaction_id,\n",
    "    a.dollarsobligated,\n",
    "    a.baseandexercisedoptionsvalue,\n",
    "    a.baseandalloptionsvalue,\n",
    "    b.maj_agency_cat,\n",
    "    b.contractingofficeagencyid,\n",
    "    b.contractingofficeid,\n",
    "    d.signed_day,\n",
    "    d.eff_day,\n",
    "    d.currentcompletion_day,\n",
    "    d.ultimatecompletion_day,\n",
    "    c.vendorname,\n",
    "    c.city,\n",
    "    c.state,\n",
    "    c.zipcode,\n",
    "    c.vendorcountrycode,\n",
    "    c.dunsnumber,\n",
    "    c.parentdunsnumber,\n",
    "    c.mod_parent,\n",
    "    c.productorservicecode,\n",
    "    c.principalnaicscode,\n",
    "    c.numberofemployees,\n",
    "    c.annualrevenue,\n",
    "    c.womenownedflag,\n",
    "    c.veteranownedflag,\n",
    "    c.minorityownedbusinessflag,\n",
    "    c.nonprofitorganizationflag,\n",
    "    c.isforprofitorganization\n",
    "FROM gov_contract_fact a\n",
    "JOIN gov_agency_dimension b ON a.gov_agency_key = b.gov_agency_key\n",
    "JOIN vendor_dimension c ON a.vendor_key = c.vendor_key\n",
    "JOIN contract_date_dimension d ON a.contract_date_key = d.contract_date_key\n",
    "WHERE unique_transaction_id = '09a99bdd21584a60a91df58048bac6b8';"
   ]
  },
  {
   "cell_type": "markdown",
   "metadata": {},
   "source": [
    "## Analyzing the Data"
   ]
  },
  {
   "cell_type": "markdown",
   "metadata": {},
   "source": [
    "** Analyze in Star Schema **\n",
    "Now we can answer our original questions. We start with counting how many records we have, finding the total value and the average value."
   ]
  },
  {
   "cell_type": "code",
   "execution_count": 53,
   "metadata": {},
   "outputs": [
    {
     "name": "stdout",
     "output_type": "stream",
     "text": [
      "1 rows affected.\n"
     ]
    },
    {
     "data": {
      "text/html": [
       "<table>\n",
       "    <tr>\n",
       "        <th>count</th>\n",
       "    </tr>\n",
       "    <tr>\n",
       "        <td>263225</td>\n",
       "    </tr>\n",
       "</table>"
      ],
      "text/plain": [
       "[(263225,)]"
      ]
     },
     "execution_count": 53,
     "metadata": {},
     "output_type": "execute_result"
    }
   ],
   "source": [
    "%%sql\n",
    "SELECT \n",
    "    COUNT(*)\n",
    "FROM gov_contract_fact a;"
   ]
  },
  {
   "cell_type": "code",
   "execution_count": 54,
   "metadata": {},
   "outputs": [
    {
     "name": "stdout",
     "output_type": "stream",
     "text": [
      "1 rows affected.\n"
     ]
    },
    {
     "data": {
      "text/html": [
       "<table>\n",
       "    <tr>\n",
       "        <th>sum</th>\n",
       "    </tr>\n",
       "    <tr>\n",
       "        <td>31738700000.0</td>\n",
       "    </tr>\n",
       "</table>"
      ],
      "text/plain": [
       "[(31738700000.0,)]"
      ]
     },
     "execution_count": 54,
     "metadata": {},
     "output_type": "execute_result"
    }
   ],
   "source": [
    "%%sql\n",
    "SELECT \n",
    "    SUM(a.dollarsobligated)\n",
    "FROM gov_contract_fact a;"
   ]
  },
  {
   "cell_type": "code",
   "execution_count": 55,
   "metadata": {},
   "outputs": [
    {
     "name": "stdout",
     "output_type": "stream",
     "text": [
      "1 rows affected.\n"
     ]
    },
    {
     "data": {
      "text/html": [
       "<table>\n",
       "    <tr>\n",
       "        <th>mean_contract_value</th>\n",
       "    </tr>\n",
       "    <tr>\n",
       "        <td>120576.288847944</td>\n",
       "    </tr>\n",
       "</table>"
      ],
      "text/plain": [
       "[(120576.288847944,)]"
      ]
     },
     "execution_count": 55,
     "metadata": {},
     "output_type": "execute_result"
    }
   ],
   "source": [
    "%%sql\n",
    "SELECT \n",
    "    SUM(a.dollarsobligated) / COUNT(*) AS mean_contract_value\n",
    "FROM gov_contract_fact a;"
   ]
  },
  {
   "cell_type": "markdown",
   "metadata": {},
   "source": [
    "Now we have a frame of reference to which we can compare our further analyses. Note th total value of transactions (contracts) in our sample is $31.7387 billion."
   ]
  },
  {
   "cell_type": "markdown",
   "metadata": {},
   "source": [
    "** Analyze in Star Schema **\n",
    "Which vendors have the most contracts?"
   ]
  },
  {
   "cell_type": "code",
   "execution_count": 56,
   "metadata": {},
   "outputs": [
    {
     "name": "stdout",
     "output_type": "stream",
     "text": [
      "20 rows affected.\n"
     ]
    },
    {
     "data": {
      "text/html": [
       "<table>\n",
       "    <tr>\n",
       "        <th>vendorname</th>\n",
       "        <th>count</th>\n",
       "    </tr>\n",
       "    <tr>\n",
       "        <td>AMERISOURCEBERGEN DRUG CORPORATION                                                                                                                                                                                                                             </td>\n",
       "        <td>16866</td>\n",
       "    </tr>\n",
       "    <tr>\n",
       "        <td>CARDINAL HEALTH 200, LLC                                                                                                                                                                                                                                       </td>\n",
       "        <td>15592</td>\n",
       "    </tr>\n",
       "    <tr>\n",
       "        <td>OWENS &amp; MINOR DISTRIBUTION, INC.                                                                                                                                                                                                                               </td>\n",
       "        <td>6873</td>\n",
       "    </tr>\n",
       "    <tr>\n",
       "        <td>LOCKHEED MARTIN CORPORATION                                                                                                                                                                                                                                    </td>\n",
       "        <td>6786</td>\n",
       "    </tr>\n",
       "    <tr>\n",
       "        <td>SCIENCE APPLICATIONS INTERNATIONAL CORPORATION                                                                                                                                                                                                                 </td>\n",
       "        <td>4623</td>\n",
       "    </tr>\n",
       "    <tr>\n",
       "        <td>SUPPLYCORE INC.                                                                                                                                                                                                                                                </td>\n",
       "        <td>3923</td>\n",
       "    </tr>\n",
       "    <tr>\n",
       "        <td>MISCELLANEOUS FOREIGN AWARDEES                                                                                                                                                                                                                                 </td>\n",
       "        <td>3300</td>\n",
       "    </tr>\n",
       "    <tr>\n",
       "        <td>MCKESSON CORPORATION                                                                                                                                                                                                                                           </td>\n",
       "        <td>3158</td>\n",
       "    </tr>\n",
       "    <tr>\n",
       "        <td>HENRY SCHEIN, INC.                                                                                                                                                                                                                                             </td>\n",
       "        <td>2652</td>\n",
       "    </tr>\n",
       "    <tr>\n",
       "        <td>CATERPILLAR INC.                                                                                                                                                                                                                                               </td>\n",
       "        <td>2225</td>\n",
       "    </tr>\n",
       "    <tr>\n",
       "        <td>EASTERN CAROLINA VOCATIONAL CENTER, INC.                                                                                                                                                                                                                       </td>\n",
       "        <td>2217</td>\n",
       "    </tr>\n",
       "    <tr>\n",
       "        <td>ATLANTIC DIVING SUPPLY, INC.                                                                                                                                                                                                                                   </td>\n",
       "        <td>1769</td>\n",
       "    </tr>\n",
       "    <tr>\n",
       "        <td>US FOODS, INC.                                                                                                                                                                                                                                                 </td>\n",
       "        <td>1769</td>\n",
       "    </tr>\n",
       "    <tr>\n",
       "        <td>FISHER SCIENTIFIC COMPANY L.L.C.                                                                                                                                                                                                                               </td>\n",
       "        <td>1311</td>\n",
       "    </tr>\n",
       "    <tr>\n",
       "        <td>JROTC DOG TAGS, INC.                                                                                                                                                                                                                                           </td>\n",
       "        <td>1164</td>\n",
       "    </tr>\n",
       "    <tr>\n",
       "        <td>OSHKOSH DEFENSE, LLC                                                                                                                                                                                                                                           </td>\n",
       "        <td>1088</td>\n",
       "    </tr>\n",
       "    <tr>\n",
       "        <td>ANHAM FZCO                                                                                                                                                                                                                                                     </td>\n",
       "        <td>1087</td>\n",
       "    </tr>\n",
       "    <tr>\n",
       "        <td>AVFUEL CORPORATION                                                                                                                                                                                                                                             </td>\n",
       "        <td>1082</td>\n",
       "    </tr>\n",
       "    <tr>\n",
       "        <td>THE OFFICE GROUP INC                                                                                                                                                                                                                                           </td>\n",
       "        <td>1013</td>\n",
       "    </tr>\n",
       "    <tr>\n",
       "        <td>SIKORSKY AIRCRAFT CORPORATION                                                                                                                                                                                                                                  </td>\n",
       "        <td>992</td>\n",
       "    </tr>\n",
       "</table>"
      ],
      "text/plain": [
       "[('AMERISOURCEBERGEN DRUG CORPORATION                                                                                                                                                                                                                             ', 16866),\n",
       " ('CARDINAL HEALTH 200, LLC                                                                                                                                                                                                                                       ', 15592),\n",
       " ('OWENS & MINOR DISTRIBUTION, INC.                                                                                                                                                                                                                               ', 6873),\n",
       " ('LOCKHEED MARTIN CORPORATION                                                                                                                                                                                                                                    ', 6786),\n",
       " ('SCIENCE APPLICATIONS INTERNATIONAL CORPORATION                                                                                                                                                                                                                 ', 4623),\n",
       " ('SUPPLYCORE INC.                                                                                                                                                                                                                                                ', 3923),\n",
       " ('MISCELLANEOUS FOREIGN AWARDEES                                                                                                                                                                                                                                 ', 3300),\n",
       " ('MCKESSON CORPORATION                                                                                                                                                                                                                                           ', 3158),\n",
       " ('HENRY SCHEIN, INC.                                                                                                                                                                                                                                             ', 2652),\n",
       " ('CATERPILLAR INC.                                                                                                                                                                                                                                               ', 2225),\n",
       " ('EASTERN CAROLINA VOCATIONAL CENTER, INC.                                                                                                                                                                                                                       ', 2217),\n",
       " ('ATLANTIC DIVING SUPPLY, INC.                                                                                                                                                                                                                                   ', 1769),\n",
       " ('US FOODS, INC.                                                                                                                                                                                                                                                 ', 1769),\n",
       " ('FISHER SCIENTIFIC COMPANY L.L.C.                                                                                                                                                                                                                               ', 1311),\n",
       " ('JROTC DOG TAGS, INC.                                                                                                                                                                                                                                           ', 1164),\n",
       " ('OSHKOSH DEFENSE, LLC                                                                                                                                                                                                                                           ', 1088),\n",
       " ('ANHAM FZCO                                                                                                                                                                                                                                                     ', 1087),\n",
       " ('AVFUEL CORPORATION                                                                                                                                                                                                                                             ', 1082),\n",
       " ('THE OFFICE GROUP INC                                                                                                                                                                                                                                           ', 1013),\n",
       " ('SIKORSKY AIRCRAFT CORPORATION                                                                                                                                                                                                                                  ', 992)]"
      ]
     },
     "execution_count": 56,
     "metadata": {},
     "output_type": "execute_result"
    }
   ],
   "source": [
    "%%sql\n",
    "SELECT \n",
    "    c.vendorname,\n",
    "    COUNT(*)\n",
    "FROM gov_contract_fact a\n",
    "JOIN vendor_dimension c ON a.vendor_key = c.vendor_key\n",
    "GROUP BY c.vendorname\n",
    "ORDER BY COUNT DESC\n",
    "LIMIT 20;"
   ]
  },
  {
   "cell_type": "code",
   "execution_count": 57,
   "metadata": {},
   "outputs": [
    {
     "name": "stdout",
     "output_type": "stream",
     "text": [
      "10 rows affected.\n"
     ]
    },
    {
     "data": {
      "text/html": [
       "<table>\n",
       "    <tr>\n",
       "        <th>vendorname</th>\n",
       "        <th>total_obligated</th>\n",
       "    </tr>\n",
       "    <tr>\n",
       "        <td>THE BOEING COMPANY                                                                                                                                                                                                                                             </td>\n",
       "        <td>3856710000.0</td>\n",
       "    </tr>\n",
       "    <tr>\n",
       "        <td>LOCKHEED MARTIN CORPORATION                                                                                                                                                                                                                                    </td>\n",
       "        <td>3634190000.0</td>\n",
       "    </tr>\n",
       "    <tr>\n",
       "        <td>NORTHROP GRUMMAN SYSTEMS CORPORATION                                                                                                                                                                                                                           </td>\n",
       "        <td>1203800000.0</td>\n",
       "    </tr>\n",
       "    <tr>\n",
       "        <td>UNITEDHEALTH MILITARY &amp; VETERANS SERVICES, LLC                                                                                                                                                                                                                 </td>\n",
       "        <td>684714000.0</td>\n",
       "    </tr>\n",
       "    <tr>\n",
       "        <td>MCKESSON CORPORATION                                                                                                                                                                                                                                           </td>\n",
       "        <td>589392000.0</td>\n",
       "    </tr>\n",
       "    <tr>\n",
       "        <td>RAYTHEON COMPANY                                                                                                                                                                                                                                               </td>\n",
       "        <td>546681000.0</td>\n",
       "    </tr>\n",
       "    <tr>\n",
       "        <td>HUMANA MILITARY HEALTHCARE SERVICES, INC.                                                                                                                                                                                                                      </td>\n",
       "        <td>539328000.0</td>\n",
       "    </tr>\n",
       "    <tr>\n",
       "        <td>GENERAL ATOMICS AERONAUTICAL SYSTEMS, INC.                                                                                                                                                                                                                     </td>\n",
       "        <td>363389000.0</td>\n",
       "    </tr>\n",
       "    <tr>\n",
       "        <td>BOEING COMPANY, THE                                                                                                                                                                                                                                            </td>\n",
       "        <td>329762000.0</td>\n",
       "    </tr>\n",
       "    <tr>\n",
       "        <td>OSHKOSH DEFENSE, LLC                                                                                                                                                                                                                                           </td>\n",
       "        <td>328672000.0</td>\n",
       "    </tr>\n",
       "</table>"
      ],
      "text/plain": [
       "[('THE BOEING COMPANY                                                                                                                                                                                                                                             ', 3856710000.0),\n",
       " ('LOCKHEED MARTIN CORPORATION                                                                                                                                                                                                                                    ', 3634190000.0),\n",
       " ('NORTHROP GRUMMAN SYSTEMS CORPORATION                                                                                                                                                                                                                           ', 1203800000.0),\n",
       " ('UNITEDHEALTH MILITARY & VETERANS SERVICES, LLC                                                                                                                                                                                                                 ', 684714000.0),\n",
       " ('MCKESSON CORPORATION                                                                                                                                                                                                                                           ', 589392000.0),\n",
       " ('RAYTHEON COMPANY                                                                                                                                                                                                                                               ', 546681000.0),\n",
       " ('HUMANA MILITARY HEALTHCARE SERVICES, INC.                                                                                                                                                                                                                      ', 539328000.0),\n",
       " ('GENERAL ATOMICS AERONAUTICAL SYSTEMS, INC.                                                                                                                                                                                                                     ', 363389000.0),\n",
       " ('BOEING COMPANY, THE                                                                                                                                                                                                                                            ', 329762000.0),\n",
       " ('OSHKOSH DEFENSE, LLC                                                                                                                                                                                                                                           ', 328672000.0)]"
      ]
     },
     "execution_count": 57,
     "metadata": {},
     "output_type": "execute_result"
    }
   ],
   "source": [
    "%%sql\n",
    "SELECT \n",
    "    c.vendorname,\n",
    "    SUM(a.dollarsobligated) AS Total_Obligated\n",
    "FROM gov_contract_fact a\n",
    "JOIN vendor_dimension c ON a.vendor_key = c.vendor_key\n",
    "GROUP BY c.vendorname\n",
    "ORDER BY SUM(a.dollarsobligated) DESC\n",
    "LIMIT 10;"
   ]
  },
  {
   "cell_type": "code",
   "execution_count": 58,
   "metadata": {},
   "outputs": [
    {
     "name": "stderr",
     "output_type": "stream",
     "text": [
      "/opt/conda/lib/python3.5/site-packages/matplotlib/font_manager.py:273: UserWarning: Matplotlib is building the font cache using fc-list. This may take a moment.\n",
      "  warnings.warn('Matplotlib is building the font cache using fc-list. This may take a moment.')\n",
      "/opt/conda/lib/python3.5/site-packages/matplotlib/font_manager.py:273: UserWarning: Matplotlib is building the font cache using fc-list. This may take a moment.\n",
      "  warnings.warn('Matplotlib is building the font cache using fc-list. This may take a moment.')\n"
     ]
    },
    {
     "name": "stdout",
     "output_type": "stream",
     "text": [
      "Total value of contracts by Vendor\r\n"
     ]
    },
    {
     "data": {
      "image/png": "[encoded data removed]",
      "text/plain": [
       "<matplotlib.figure.Figure at 0x7f2785993a90>"
      ]
     },
     "metadata": {},
     "output_type": "display_data"
    }
   ],
   "source": [
    "%matplotlib inline\n",
    "results = _\n",
    "results.bar()\n",
    "!echo 'Total value of contracts by Vendor'"
   ]
  },
  {
   "cell_type": "markdown",
   "metadata": {},
   "source": [
    "Based on our sample, Boeing and Lockheed Martin earned a great deal of money from 2016 Federal Contracts. Each company earns more than 10% of total contracted dollars in FY2016 (~$32b)."
   ]
  },
  {
   "cell_type": "markdown",
   "metadata": {},
   "source": [
    "** Analyze in Star Schema **\n",
    "Which non-US countries have the most contract-awarded vendors?"
   ]
  },
  {
   "cell_type": "code",
   "execution_count": 59,
   "metadata": {},
   "outputs": [
    {
     "name": "stdout",
     "output_type": "stream",
     "text": [
      "20 rows affected.\n"
     ]
    },
    {
     "data": {
      "text/html": [
       "<table>\n",
       "    <tr>\n",
       "        <th>vendorcountrycode</th>\n",
       "        <th>count</th>\n",
       "    </tr>\n",
       "    <tr>\n",
       "        <td>ARE: UNITED ARAB EMIRATES</td>\n",
       "        <td>2472</td>\n",
       "    </tr>\n",
       "    <tr>\n",
       "        <td>DEU: GERMANY</td>\n",
       "        <td>1105</td>\n",
       "    </tr>\n",
       "    <tr>\n",
       "        <td>JPN: JAPAN</td>\n",
       "        <td>781</td>\n",
       "    </tr>\n",
       "    <tr>\n",
       "        <td>CAN: CANADA</td>\n",
       "        <td>551</td>\n",
       "    </tr>\n",
       "    <tr>\n",
       "        <td>GBR: UNITED KINGDOM OF GREAT BRITAIN AND NORTHERN </td>\n",
       "        <td>534</td>\n",
       "    </tr>\n",
       "    <tr>\n",
       "        <td>DNK: DENMARK</td>\n",
       "        <td>407</td>\n",
       "    </tr>\n",
       "    <tr>\n",
       "        <td>KOR: KOREA, REPUBLIC OF</td>\n",
       "        <td>363</td>\n",
       "    </tr>\n",
       "    <tr>\n",
       "        <td>ITA: ITALY</td>\n",
       "        <td>278</td>\n",
       "    </tr>\n",
       "    <tr>\n",
       "        <td>CHE: SWITZERLAND</td>\n",
       "        <td>205</td>\n",
       "    </tr>\n",
       "    <tr>\n",
       "        <td>MLT: MALTA</td>\n",
       "        <td>182</td>\n",
       "    </tr>\n",
       "    <tr>\n",
       "        <td>PHL: PHILIPPINES</td>\n",
       "        <td>153</td>\n",
       "    </tr>\n",
       "    <tr>\n",
       "        <td>SGP: SINGAPORE</td>\n",
       "        <td>151</td>\n",
       "    </tr>\n",
       "    <tr>\n",
       "        <td>AFG: AFGHANISTAN</td>\n",
       "        <td>140</td>\n",
       "    </tr>\n",
       "    <tr>\n",
       "        <td>TUR: TURKEY</td>\n",
       "        <td>125</td>\n",
       "    </tr>\n",
       "    <tr>\n",
       "        <td>FRA: FRANCE</td>\n",
       "        <td>124</td>\n",
       "    </tr>\n",
       "    <tr>\n",
       "        <td>KWT: KUWAIT</td>\n",
       "        <td>113</td>\n",
       "    </tr>\n",
       "    <tr>\n",
       "        <td>THA: THAILAND</td>\n",
       "        <td>112</td>\n",
       "    </tr>\n",
       "    <tr>\n",
       "        <td>ESP: SPAIN</td>\n",
       "        <td>103</td>\n",
       "    </tr>\n",
       "    <tr>\n",
       "        <td>BHR: BAHRAIN</td>\n",
       "        <td>64</td>\n",
       "    </tr>\n",
       "    <tr>\n",
       "        <td>SAU: SAUDI ARABIA</td>\n",
       "        <td>51</td>\n",
       "    </tr>\n",
       "</table>"
      ],
      "text/plain": [
       "[('ARE: UNITED ARAB EMIRATES', 2472),\n",
       " ('DEU: GERMANY', 1105),\n",
       " ('JPN: JAPAN', 781),\n",
       " ('CAN: CANADA', 551),\n",
       " ('GBR: UNITED KINGDOM OF GREAT BRITAIN AND NORTHERN ', 534),\n",
       " ('DNK: DENMARK', 407),\n",
       " ('KOR: KOREA, REPUBLIC OF', 363),\n",
       " ('ITA: ITALY', 278),\n",
       " ('CHE: SWITZERLAND', 205),\n",
       " ('MLT: MALTA', 182),\n",
       " ('PHL: PHILIPPINES', 153),\n",
       " ('SGP: SINGAPORE', 151),\n",
       " ('AFG: AFGHANISTAN', 140),\n",
       " ('TUR: TURKEY', 125),\n",
       " ('FRA: FRANCE', 124),\n",
       " ('KWT: KUWAIT', 113),\n",
       " ('THA: THAILAND', 112),\n",
       " ('ESP: SPAIN', 103),\n",
       " ('BHR: BAHRAIN', 64),\n",
       " ('SAU: SAUDI ARABIA', 51)]"
      ]
     },
     "execution_count": 59,
     "metadata": {},
     "output_type": "execute_result"
    }
   ],
   "source": [
    "%%sql\n",
    "SELECT \n",
    "    c.vendorcountrycode,\n",
    "    COUNT(*)\n",
    "FROM gov_contract_fact a\n",
    "JOIN gov_agency_dimension b ON a.gov_agency_key = b.gov_agency_key\n",
    "JOIN vendor_dimension c ON a.vendor_key = c.vendor_key\n",
    "JOIN contract_date_dimension d ON a.contract_date_key = d.contract_date_key\n",
    "WHERE c.vendorcountrycode != 'USA: UNITED STATES OF AMERICA'\n",
    "GROUP BY c.vendorcountrycode\n",
    "ORDER BY COUNT DESC\n",
    "LIMIT 20;"
   ]
  },
  {
   "cell_type": "code",
   "execution_count": 60,
   "metadata": {},
   "outputs": [
    {
     "name": "stdout",
     "output_type": "stream",
     "text": [
      "20 rows affected.\n"
     ]
    },
    {
     "data": {
      "text/html": [
       "<table>\n",
       "    <tr>\n",
       "        <th>vendorcountrycode</th>\n",
       "        <th>total_obligated</th>\n",
       "        <th>total_baseandexercisedopt</th>\n",
       "        <th>total_baseandallopt</th>\n",
       "    </tr>\n",
       "    <tr>\n",
       "        <td>SAU: SAUDI ARABIA</td>\n",
       "        <td>91137200.0</td>\n",
       "        <td>57900000.0</td>\n",
       "        <td>60028000.0</td>\n",
       "    </tr>\n",
       "    <tr>\n",
       "        <td>JPN: JAPAN</td>\n",
       "        <td>89786300.0</td>\n",
       "        <td>89905500.0</td>\n",
       "        <td>209006000.0</td>\n",
       "    </tr>\n",
       "    <tr>\n",
       "        <td>ARE: UNITED ARAB EMIRATES</td>\n",
       "        <td>78472500.0</td>\n",
       "        <td>80277400.0</td>\n",
       "        <td>80927400.0</td>\n",
       "    </tr>\n",
       "    <tr>\n",
       "        <td>CAN: CANADA</td>\n",
       "        <td>54430600.0</td>\n",
       "        <td>53564700.0</td>\n",
       "        <td>70558100.0</td>\n",
       "    </tr>\n",
       "    <tr>\n",
       "        <td>KOR: KOREA, REPUBLIC OF</td>\n",
       "        <td>42458600.0</td>\n",
       "        <td>256689000.0</td>\n",
       "        <td>413913000.0</td>\n",
       "    </tr>\n",
       "    <tr>\n",
       "        <td>ESP: SPAIN</td>\n",
       "        <td>38336900.0</td>\n",
       "        <td>38376300.0</td>\n",
       "        <td>38686900.0</td>\n",
       "    </tr>\n",
       "    <tr>\n",
       "        <td>DNK: DENMARK</td>\n",
       "        <td>32560000.0</td>\n",
       "        <td>165097000.0</td>\n",
       "        <td>166631000.0</td>\n",
       "    </tr>\n",
       "    <tr>\n",
       "        <td>DEU: GERMANY</td>\n",
       "        <td>27705200.0</td>\n",
       "        <td>25553100.0</td>\n",
       "        <td>81762000.0</td>\n",
       "    </tr>\n",
       "    <tr>\n",
       "        <td>BHR: BAHRAIN</td>\n",
       "        <td>24218500.0</td>\n",
       "        <td>22226900.0</td>\n",
       "        <td>777025000.0</td>\n",
       "    </tr>\n",
       "    <tr>\n",
       "        <td>GBR: UNITED KINGDOM OF GREAT BRITAIN AND NORTHERN </td>\n",
       "        <td>22854000.0</td>\n",
       "        <td>28773900.0</td>\n",
       "        <td>41616000.0</td>\n",
       "    </tr>\n",
       "    <tr>\n",
       "        <td>GRC: GREECE</td>\n",
       "        <td>19984400.0</td>\n",
       "        <td>19984400.0</td>\n",
       "        <td>19984400.0</td>\n",
       "    </tr>\n",
       "    <tr>\n",
       "        <td>FRA: FRANCE</td>\n",
       "        <td>11874000.0</td>\n",
       "        <td>11874000.0</td>\n",
       "        <td>11529400.0</td>\n",
       "    </tr>\n",
       "    <tr>\n",
       "        <td>BMU: BERMUDA</td>\n",
       "        <td>11638100.0</td>\n",
       "        <td>-2402160.0</td>\n",
       "        <td>0.0</td>\n",
       "    </tr>\n",
       "    <tr>\n",
       "        <td>NLD: NETHERLANDS</td>\n",
       "        <td>6027230.0</td>\n",
       "        <td>27027200.0</td>\n",
       "        <td>24537800.0</td>\n",
       "    </tr>\n",
       "    <tr>\n",
       "        <td>MLT: MALTA</td>\n",
       "        <td>5699510.0</td>\n",
       "        <td>5699510.0</td>\n",
       "        <td>58672500.0</td>\n",
       "    </tr>\n",
       "    <tr>\n",
       "        <td>JOR: JORDAN</td>\n",
       "        <td>5613800.0</td>\n",
       "        <td>5358800.0</td>\n",
       "        <td>10103500.0</td>\n",
       "    </tr>\n",
       "    <tr>\n",
       "        <td>SWE: SWEDEN</td>\n",
       "        <td>5496660.0</td>\n",
       "        <td>5496660.0</td>\n",
       "        <td>5496660.0</td>\n",
       "    </tr>\n",
       "    <tr>\n",
       "        <td>AFG: AFGHANISTAN</td>\n",
       "        <td>5362330.0</td>\n",
       "        <td>5362330.0</td>\n",
       "        <td>80403900.0</td>\n",
       "    </tr>\n",
       "    <tr>\n",
       "        <td>ITA: ITALY</td>\n",
       "        <td>5280180.0</td>\n",
       "        <td>15160600.0</td>\n",
       "        <td>118327000.0</td>\n",
       "    </tr>\n",
       "    <tr>\n",
       "        <td>NOR: NORWAY</td>\n",
       "        <td>4175000.0</td>\n",
       "        <td>4175000.0</td>\n",
       "        <td>835023.0</td>\n",
       "    </tr>\n",
       "</table>"
      ],
      "text/plain": [
       "[('SAU: SAUDI ARABIA', 91137200.0, 57900000.0, 60028000.0),\n",
       " ('JPN: JAPAN', 89786300.0, 89905500.0, 209006000.0),\n",
       " ('ARE: UNITED ARAB EMIRATES', 78472500.0, 80277400.0, 80927400.0),\n",
       " ('CAN: CANADA', 54430600.0, 53564700.0, 70558100.0),\n",
       " ('KOR: KOREA, REPUBLIC OF', 42458600.0, 256689000.0, 413913000.0),\n",
       " ('ESP: SPAIN', 38336900.0, 38376300.0, 38686900.0),\n",
       " ('DNK: DENMARK', 32560000.0, 165097000.0, 166631000.0),\n",
       " ('DEU: GERMANY', 27705200.0, 25553100.0, 81762000.0),\n",
       " ('BHR: BAHRAIN', 24218500.0, 22226900.0, 777025000.0),\n",
       " ('GBR: UNITED KINGDOM OF GREAT BRITAIN AND NORTHERN ', 22854000.0, 28773900.0, 41616000.0),\n",
       " ('GRC: GREECE', 19984400.0, 19984400.0, 19984400.0),\n",
       " ('FRA: FRANCE', 11874000.0, 11874000.0, 11529400.0),\n",
       " ('BMU: BERMUDA', 11638100.0, -2402160.0, 0.0),\n",
       " ('NLD: NETHERLANDS', 6027230.0, 27027200.0, 24537800.0),\n",
       " ('MLT: MALTA', 5699510.0, 5699510.0, 58672500.0),\n",
       " ('JOR: JORDAN', 5613800.0, 5358800.0, 10103500.0),\n",
       " ('SWE: SWEDEN', 5496660.0, 5496660.0, 5496660.0),\n",
       " ('AFG: AFGHANISTAN', 5362330.0, 5362330.0, 80403900.0),\n",
       " ('ITA: ITALY', 5280180.0, 15160600.0, 118327000.0),\n",
       " ('NOR: NORWAY', 4175000.0, 4175000.0, 835023.0)]"
      ]
     },
     "execution_count": 60,
     "metadata": {},
     "output_type": "execute_result"
    }
   ],
   "source": [
    "%%sql\n",
    "SELECT \n",
    "    c.vendorcountrycode,\n",
    "    SUM(a.dollarsobligated) AS Total_Obligated,\n",
    "    SUM(a.baseandexercisedoptionsvalue) AS Total_BaseandExercisedOpt,\n",
    "    SUM(a.baseandalloptionsvalue) AS Total_BaseandAllOpt\n",
    "FROM gov_contract_fact a\n",
    "JOIN vendor_dimension c ON a.vendor_key = c.vendor_key\n",
    "WHERE c.vendorcountrycode != 'USA: UNITED STATES OF AMERICA'\n",
    "GROUP BY c.vendorcountrycode\n",
    "ORDER BY SUM(a.dollarsobligated) DESC\n",
    "LIMIT 20;"
   ]
  },
  {
   "cell_type": "markdown",
   "metadata": {},
   "source": [
    "This data shows that vendors based in the United Arab Emirates were awarded the most US federal contracts of non-US based vendors, but vendors in Saudi Arabia earned the most in FY2016."
   ]
  },
  {
   "cell_type": "markdown",
   "metadata": {},
   "source": [
    "** Analyze in Star Schema **\n",
    "Which states have the most contract-awarded vendors?"
   ]
  },
  {
   "cell_type": "code",
   "execution_count": 61,
   "metadata": {},
   "outputs": [
    {
     "name": "stdout",
     "output_type": "stream",
     "text": [
      "20 rows affected.\n"
     ]
    },
    {
     "data": {
      "text/html": [
       "<table>\n",
       "    <tr>\n",
       "        <th>state</th>\n",
       "        <th>count</th>\n",
       "    </tr>\n",
       "    <tr>\n",
       "        <td>IL                                      </td>\n",
       "        <td>28647</td>\n",
       "    </tr>\n",
       "    <tr>\n",
       "        <td>PA                                      </td>\n",
       "        <td>27656</td>\n",
       "    </tr>\n",
       "    <tr>\n",
       "        <td>VA                                      </td>\n",
       "        <td>26557</td>\n",
       "    </tr>\n",
       "    <tr>\n",
       "        <td>CA                                      </td>\n",
       "        <td>20344</td>\n",
       "    </tr>\n",
       "    <tr>\n",
       "        <td>NJ                                      </td>\n",
       "        <td>16011</td>\n",
       "    </tr>\n",
       "    <tr>\n",
       "        <td>TX                                      </td>\n",
       "        <td>11832</td>\n",
       "    </tr>\n",
       "    <tr>\n",
       "        <td>NY                                      </td>\n",
       "        <td>9981</td>\n",
       "    </tr>\n",
       "    <tr>\n",
       "        <td>FL                                      </td>\n",
       "        <td>8835</td>\n",
       "    </tr>\n",
       "    <tr>\n",
       "        <td>MD                                      </td>\n",
       "        <td>7084</td>\n",
       "    </tr>\n",
       "    <tr>\n",
       "        <td>NC                                      </td>\n",
       "        <td>5664</td>\n",
       "    </tr>\n",
       "    <tr>\n",
       "        <td>MI                                      </td>\n",
       "        <td>5323</td>\n",
       "    </tr>\n",
       "    <tr>\n",
       "        <td>WA                                      </td>\n",
       "        <td>5249</td>\n",
       "    </tr>\n",
       "    <tr>\n",
       "        <td>DC                                      </td>\n",
       "        <td>4922</td>\n",
       "    </tr>\n",
       "    <tr>\n",
       "        <td>AL                                      </td>\n",
       "        <td>4173</td>\n",
       "    </tr>\n",
       "    <tr>\n",
       "        <td>GA                                      </td>\n",
       "        <td>4089</td>\n",
       "    </tr>\n",
       "    <tr>\n",
       "        <td>OH                                      </td>\n",
       "        <td>3992</td>\n",
       "    </tr>\n",
       "    <tr>\n",
       "        <td>MA                                      </td>\n",
       "        <td>3800</td>\n",
       "    </tr>\n",
       "    <tr>\n",
       "        <td>TN                                      </td>\n",
       "        <td>3501</td>\n",
       "    </tr>\n",
       "    <tr>\n",
       "        <td>WI                                      </td>\n",
       "        <td>3493</td>\n",
       "    </tr>\n",
       "    <tr>\n",
       "        <td>AZ                                      </td>\n",
       "        <td>3188</td>\n",
       "    </tr>\n",
       "</table>"
      ],
      "text/plain": [
       "[('IL                                      ', 28647),\n",
       " ('PA                                      ', 27656),\n",
       " ('VA                                      ', 26557),\n",
       " ('CA                                      ', 20344),\n",
       " ('NJ                                      ', 16011),\n",
       " ('TX                                      ', 11832),\n",
       " ('NY                                      ', 9981),\n",
       " ('FL                                      ', 8835),\n",
       " ('MD                                      ', 7084),\n",
       " ('NC                                      ', 5664),\n",
       " ('MI                                      ', 5323),\n",
       " ('WA                                      ', 5249),\n",
       " ('DC                                      ', 4922),\n",
       " ('AL                                      ', 4173),\n",
       " ('GA                                      ', 4089),\n",
       " ('OH                                      ', 3992),\n",
       " ('MA                                      ', 3800),\n",
       " ('TN                                      ', 3501),\n",
       " ('WI                                      ', 3493),\n",
       " ('AZ                                      ', 3188)]"
      ]
     },
     "execution_count": 61,
     "metadata": {},
     "output_type": "execute_result"
    }
   ],
   "source": [
    "%%sql\n",
    "SELECT \n",
    "    c.state,\n",
    "    COUNT(*)\n",
    "FROM gov_contract_fact a\n",
    "JOIN gov_agency_dimension b ON a.gov_agency_key = b.gov_agency_key\n",
    "JOIN vendor_dimension c ON a.vendor_key = c.vendor_key\n",
    "JOIN contract_date_dimension d ON a.contract_date_key = d.contract_date_key\n",
    "WHERE c.vendorcountrycode = 'USA: UNITED STATES OF AMERICA'\n",
    "GROUP BY c.state\n",
    "ORDER BY COUNT DESC\n",
    "LIMIT 20;"
   ]
  },
  {
   "cell_type": "markdown",
   "metadata": {},
   "source": [
    "We were surprised to find that neither DC, Maryland, or Virginia received the most contracts. However, these states are the location of the vendor's headquarters, so the contract work may still be completed in the DC metropolitan area."
   ]
  },
  {
   "cell_type": "markdown",
   "metadata": {},
   "source": [
    "** Analyze in Star Schema **\n",
    "What are the products/services of the vendors that have been awarded the most contracts?"
   ]
  },
  {
   "cell_type": "code",
   "execution_count": 62,
   "metadata": {},
   "outputs": [
    {
     "name": "stdout",
     "output_type": "stream",
     "text": [
      "20 rows affected.\n"
     ]
    },
    {
     "data": {
      "text/html": [
       "<table>\n",
       "    <tr>\n",
       "        <th>productorservicecode</th>\n",
       "        <th>count</th>\n",
       "    </tr>\n",
       "    <tr>\n",
       "        <td>6515: MEDICAL AND SURGICAL INSTRUMENTS, EQUIPMENT, AND SUPPLIES                                                                                                                                                                                                </td>\n",
       "        <td>36895</td>\n",
       "    </tr>\n",
       "    <tr>\n",
       "        <td>6505: DRUGS AND BIOLOGICALS                                                                                                                                                                                                                                    </td>\n",
       "        <td>21024</td>\n",
       "    </tr>\n",
       "    <tr>\n",
       "        <td>9130: LIQUID PROPELLANTS AND FUELS, PETROLEUM BASE                                                                                                                                                                                                             </td>\n",
       "        <td>14511</td>\n",
       "    </tr>\n",
       "    <tr>\n",
       "        <td>5340: HARDWARE, COMMERCIAL                                                                                                                                                                                                                                     </td>\n",
       "        <td>7697</td>\n",
       "    </tr>\n",
       "    <tr>\n",
       "        <td>8910: DAIRY FOODS AND EGGS                                                                                                                                                                                                                                     </td>\n",
       "        <td>6390</td>\n",
       "    </tr>\n",
       "    <tr>\n",
       "        <td>8940: SPECIAL DIETARY FOODS AND FOOD SPECIALTY PREPARATIONS                                                                                                                                                                                                    </td>\n",
       "        <td>6342</td>\n",
       "    </tr>\n",
       "    <tr>\n",
       "        <td>3030: BELTING, DRIVE BELTS, FAN BELTS, AND ACCESSORIES                                                                                                                                                                                                         </td>\n",
       "        <td>6073</td>\n",
       "    </tr>\n",
       "    <tr>\n",
       "        <td>5680: MISCELLANEOUS CONSTRUCTION MATERIALS                                                                                                                                                                                                                     </td>\n",
       "        <td>4629</td>\n",
       "    </tr>\n",
       "    <tr>\n",
       "        <td>8915: FRUITS AND VEGETABLES                                                                                                                                                                                                                                    </td>\n",
       "        <td>4130</td>\n",
       "    </tr>\n",
       "    <tr>\n",
       "        <td>6640: LABORATORY EQUIPMENT AND SUPPLIES                                                                                                                                                                                                                        </td>\n",
       "        <td>3826</td>\n",
       "    </tr>\n",
       "    <tr>\n",
       "        <td>R499: SUPPORT- PROFESSIONAL: OTHER                                                                                                                                                                                                                             </td>\n",
       "        <td>3252</td>\n",
       "    </tr>\n",
       "    <tr>\n",
       "        <td>6140: BATTERIES, RECHARGEABLE                                                                                                                                                                                                                                  </td>\n",
       "        <td>2957</td>\n",
       "    </tr>\n",
       "    <tr>\n",
       "        <td>4720: HOSE AND FLEXIBLE TUBING                                                                                                                                                                                                                                 </td>\n",
       "        <td>2874</td>\n",
       "    </tr>\n",
       "    <tr>\n",
       "        <td>6520: DENTAL INSTRUMENTS, EQUIPMENT, AND SUPPLIES                                                                                                                                                                                                              </td>\n",
       "        <td>2772</td>\n",
       "    </tr>\n",
       "    <tr>\n",
       "        <td>2630: TIRES, SOLID AND CUSHION                                                                                                                                                                                                                                 </td>\n",
       "        <td>2491</td>\n",
       "    </tr>\n",
       "    <tr>\n",
       "        <td>R425: SUPPORT- PROFESSIONAL: ENGINEERING/TECHNICAL                                                                                                                                                                                                             </td>\n",
       "        <td>1747</td>\n",
       "    </tr>\n",
       "    <tr>\n",
       "        <td>5920: FUSES, ARRESTORS, ABSORBERS, AND PROTECTORS                                                                                                                                                                                                              </td>\n",
       "        <td>1735</td>\n",
       "    </tr>\n",
       "    <tr>\n",
       "        <td>6530: HOSPITAL FURNITURE, EQUIPMENT, UTENSILS, AND SUPPLIES                                                                                                                                                                                                    </td>\n",
       "        <td>1729</td>\n",
       "    </tr>\n",
       "    <tr>\n",
       "        <td>5330: PACKING AND GASKET MATERIALS                                                                                                                                                                                                                             </td>\n",
       "        <td>1681</td>\n",
       "    </tr>\n",
       "    <tr>\n",
       "        <td>7030: INFORMATION TECHNOLOGY SOFTWARE                                                                                                                                                                                                                          </td>\n",
       "        <td>1595</td>\n",
       "    </tr>\n",
       "</table>"
      ],
      "text/plain": [
       "[('6515: MEDICAL AND SURGICAL INSTRUMENTS, EQUIPMENT, AND SUPPLIES                                                                                                                                                                                                ', 36895),\n",
       " ('6505: DRUGS AND BIOLOGICALS                                                                                                                                                                                                                                    ', 21024),\n",
       " ('9130: LIQUID PROPELLANTS AND FUELS, PETROLEUM BASE                                                                                                                                                                                                             ', 14511),\n",
       " ('5340: HARDWARE, COMMERCIAL                                                                                                                                                                                                                                     ', 7697),\n",
       " ('8910: DAIRY FOODS AND EGGS                                                                                                                                                                                                                                     ', 6390),\n",
       " ('8940: SPECIAL DIETARY FOODS AND FOOD SPECIALTY PREPARATIONS                                                                                                                                                                                                    ', 6342),\n",
       " ('3030: BELTING, DRIVE BELTS, FAN BELTS, AND ACCESSORIES                                                                                                                                                                                                         ', 6073),\n",
       " ('5680: MISCELLANEOUS CONSTRUCTION MATERIALS                                                                                                                                                                                                                     ', 4629),\n",
       " ('8915: FRUITS AND VEGETABLES                                                                                                                                                                                                                                    ', 4130),\n",
       " ('6640: LABORATORY EQUIPMENT AND SUPPLIES                                                                                                                                                                                                                        ', 3826),\n",
       " ('R499: SUPPORT- PROFESSIONAL: OTHER                                                                                                                                                                                                                             ', 3252),\n",
       " ('6140: BATTERIES, RECHARGEABLE                                                                                                                                                                                                                                  ', 2957),\n",
       " ('4720: HOSE AND FLEXIBLE TUBING                                                                                                                                                                                                                                 ', 2874),\n",
       " ('6520: DENTAL INSTRUMENTS, EQUIPMENT, AND SUPPLIES                                                                                                                                                                                                              ', 2772),\n",
       " ('2630: TIRES, SOLID AND CUSHION                                                                                                                                                                                                                                 ', 2491),\n",
       " ('R425: SUPPORT- PROFESSIONAL: ENGINEERING/TECHNICAL                                                                                                                                                                                                             ', 1747),\n",
       " ('5920: FUSES, ARRESTORS, ABSORBERS, AND PROTECTORS                                                                                                                                                                                                              ', 1735),\n",
       " ('6530: HOSPITAL FURNITURE, EQUIPMENT, UTENSILS, AND SUPPLIES                                                                                                                                                                                                    ', 1729),\n",
       " ('5330: PACKING AND GASKET MATERIALS                                                                                                                                                                                                                             ', 1681),\n",
       " ('7030: INFORMATION TECHNOLOGY SOFTWARE                                                                                                                                                                                                                          ', 1595)]"
      ]
     },
     "execution_count": 62,
     "metadata": {},
     "output_type": "execute_result"
    }
   ],
   "source": [
    "%%sql\n",
    "SELECT \n",
    "    c.productorservicecode,\n",
    "    COUNT(*)\n",
    "FROM gov_contract_fact a\n",
    "JOIN gov_agency_dimension b ON a.gov_agency_key = b.gov_agency_key\n",
    "JOIN vendor_dimension c ON a.vendor_key = c.vendor_key\n",
    "JOIN contract_date_dimension d ON a.contract_date_key = d.contract_date_key\n",
    "GROUP BY c.productorservicecode\n",
    "ORDER BY COUNT DESC\n",
    "LIMIT 20;"
   ]
  },
  {
   "cell_type": "markdown",
   "metadata": {},
   "source": [
    "Medical equipment and drugs are the services provided by the most number of FY16 contract awardees."
   ]
  },
  {
   "cell_type": "markdown",
   "metadata": {},
   "source": [
    "** Analyze in Star Schema **\n",
    "What proportion of contracts were awarded to woman-owned vendors?"
   ]
  },
  {
   "cell_type": "code",
   "execution_count": 63,
   "metadata": {},
   "outputs": [
    {
     "name": "stdout",
     "output_type": "stream",
     "text": [
      "2 rows affected.\n"
     ]
    },
    {
     "data": {
      "text/html": [
       "<table>\n",
       "    <tr>\n",
       "        <th>womenownedflag</th>\n",
       "        <th>count</th>\n",
       "    </tr>\n",
       "    <tr>\n",
       "        <td>False</td>\n",
       "        <td>228618</td>\n",
       "    </tr>\n",
       "    <tr>\n",
       "        <td>True</td>\n",
       "        <td>22988</td>\n",
       "    </tr>\n",
       "</table>"
      ],
      "text/plain": [
       "[(False, 228618), (True, 22988)]"
      ]
     },
     "execution_count": 63,
     "metadata": {},
     "output_type": "execute_result"
    }
   ],
   "source": [
    "%%sql\n",
    "SELECT \n",
    "    c.womenownedflag,\n",
    "    COUNT(*)\n",
    "FROM gov_contract_fact a\n",
    "JOIN gov_agency_dimension b ON a.gov_agency_key = b.gov_agency_key\n",
    "JOIN vendor_dimension c ON a.vendor_key = c.vendor_key\n",
    "JOIN contract_date_dimension d ON a.contract_date_key = d.contract_date_key\n",
    "GROUP BY c.womenownedflag\n",
    "ORDER BY COUNT DESC;"
   ]
  },
  {
   "cell_type": "code",
   "execution_count": 64,
   "metadata": {},
   "outputs": [
    {
     "name": "stdout",
     "output_type": "stream",
     "text": [
      "Proportion of contracts awarded to companies owned by women\r\n"
     ]
    },
    {
     "data": {
      "image/png": "[encoded data removed]",
      "text/plain": [
       "<matplotlib.figure.Figure at 0x7f27b1bb45c0>"
      ]
     },
     "metadata": {},
     "output_type": "display_data"
    }
   ],
   "source": [
    "results = _\n",
    "results.pie()\n",
    "!echo 'Proportion of contracts awarded to companies owned by women'  "
   ]
  },
  {
   "cell_type": "markdown",
   "metadata": {},
   "source": [
    "It appears that approximately 10% of the contracts in our sample were awarded to woman-owned vendors."
   ]
  },
  {
   "cell_type": "markdown",
   "metadata": {},
   "source": [
    "** Analyze in Star Schema **\n",
    "What proportion of contracts were awarded to veteran-owned vendors?"
   ]
  },
  {
   "cell_type": "code",
   "execution_count": 65,
   "metadata": {},
   "outputs": [
    {
     "name": "stdout",
     "output_type": "stream",
     "text": [
      "2 rows affected.\n"
     ]
    },
    {
     "data": {
      "text/html": [
       "<table>\n",
       "    <tr>\n",
       "        <th>veteranownedflag</th>\n",
       "        <th>count</th>\n",
       "    </tr>\n",
       "    <tr>\n",
       "        <td>False</td>\n",
       "        <td>234206</td>\n",
       "    </tr>\n",
       "    <tr>\n",
       "        <td>True</td>\n",
       "        <td>17400</td>\n",
       "    </tr>\n",
       "</table>"
      ],
      "text/plain": [
       "[(False, 234206), (True, 17400)]"
      ]
     },
     "execution_count": 65,
     "metadata": {},
     "output_type": "execute_result"
    }
   ],
   "source": [
    "%%sql\n",
    "SELECT \n",
    "    c.veteranownedflag,\n",
    "    COUNT(*)\n",
    "FROM gov_contract_fact a\n",
    "JOIN gov_agency_dimension b ON a.gov_agency_key = b.gov_agency_key\n",
    "JOIN vendor_dimension c ON a.vendor_key = c.vendor_key\n",
    "JOIN contract_date_dimension d ON a.contract_date_key = d.contract_date_key\n",
    "GROUP BY c.veteranownedflag\n",
    "ORDER BY COUNT DESC;"
   ]
  },
  {
   "cell_type": "code",
   "execution_count": 66,
   "metadata": {},
   "outputs": [
    {
     "name": "stdout",
     "output_type": "stream",
     "text": [
      "Proportion of contracts awarded to companies owned by veterans\r\n"
     ]
    },
    {
     "data": {
      "image/png": "[encoded data removed]",
      "text/plain": [
       "<matplotlib.figure.Figure at 0x7f27b1a838d0>"
      ]
     },
     "metadata": {},
     "output_type": "display_data"
    }
   ],
   "source": [
    "results = _\n",
    "results.pie()\n",
    "!echo 'Proportion of contracts awarded to companies owned by veterans'  "
   ]
  },
  {
   "cell_type": "markdown",
   "metadata": {},
   "source": [
    "Just under 10% of the contracts in our sample were awarded to veteran-owned vendors."
   ]
  },
  {
   "cell_type": "markdown",
   "metadata": {},
   "source": [
    "** Analyze in Star Schema **\n",
    "What proportion of contracts were awarded to minority-owned vendors?"
   ]
  },
  {
   "cell_type": "code",
   "execution_count": 67,
   "metadata": {},
   "outputs": [
    {
     "name": "stdout",
     "output_type": "stream",
     "text": [
      "2 rows affected.\n"
     ]
    },
    {
     "data": {
      "text/html": [
       "<table>\n",
       "    <tr>\n",
       "        <th>minorityownedbusinessflag</th>\n",
       "        <th>count</th>\n",
       "    </tr>\n",
       "    <tr>\n",
       "        <td>False</td>\n",
       "        <td>233810</td>\n",
       "    </tr>\n",
       "    <tr>\n",
       "        <td>True</td>\n",
       "        <td>17796</td>\n",
       "    </tr>\n",
       "</table>"
      ],
      "text/plain": [
       "[(False, 233810), (True, 17796)]"
      ]
     },
     "execution_count": 67,
     "metadata": {},
     "output_type": "execute_result"
    }
   ],
   "source": [
    "%%sql\n",
    "SELECT \n",
    "    c.minorityownedbusinessflag,\n",
    "    COUNT(*)\n",
    "FROM gov_contract_fact a\n",
    "JOIN gov_agency_dimension b ON a.gov_agency_key = b.gov_agency_key\n",
    "JOIN vendor_dimension c ON a.vendor_key = c.vendor_key\n",
    "JOIN contract_date_dimension d ON a.contract_date_key = d.contract_date_key\n",
    "GROUP BY c.minorityownedbusinessflag\n",
    "ORDER BY COUNT DESC;"
   ]
  },
  {
   "cell_type": "code",
   "execution_count": 68,
   "metadata": {},
   "outputs": [
    {
     "name": "stdout",
     "output_type": "stream",
     "text": [
      "Proportion of contracts awarded to companies owned by minorities\r\n"
     ]
    },
    {
     "data": {
      "image/png": "[encoded data removed]",
      "text/plain": [
       "<matplotlib.figure.Figure at 0x7f278517bdd8>"
      ]
     },
     "metadata": {},
     "output_type": "display_data"
    }
   ],
   "source": [
    "results = _\n",
    "results.pie()\n",
    "!echo 'Proportion of contracts awarded to companies owned by minorities'  "
   ]
  },
  {
   "cell_type": "markdown",
   "metadata": {},
   "source": [
    "Slightly less than 10% of the contracts in our sample were awarded to minority-owned vendors."
   ]
  },
  {
   "cell_type": "markdown",
   "metadata": {},
   "source": [
    "** Analyze in Star Schema **\n",
    "What proportion of contracts were awarded to nonprofit vendors?"
   ]
  },
  {
   "cell_type": "code",
   "execution_count": 69,
   "metadata": {},
   "outputs": [
    {
     "name": "stdout",
     "output_type": "stream",
     "text": [
      "2 rows affected.\n"
     ]
    },
    {
     "data": {
      "text/html": [
       "<table>\n",
       "    <tr>\n",
       "        <th>nonprofitorganizationflag</th>\n",
       "        <th>count</th>\n",
       "    </tr>\n",
       "    <tr>\n",
       "        <td>False</td>\n",
       "        <td>245736</td>\n",
       "    </tr>\n",
       "    <tr>\n",
       "        <td>True</td>\n",
       "        <td>5870</td>\n",
       "    </tr>\n",
       "</table>"
      ],
      "text/plain": [
       "[(False, 245736), (True, 5870)]"
      ]
     },
     "execution_count": 69,
     "metadata": {},
     "output_type": "execute_result"
    }
   ],
   "source": [
    "%%sql\n",
    "SELECT \n",
    "    c.nonprofitorganizationflag,\n",
    "    COUNT(*)\n",
    "FROM gov_contract_fact a\n",
    "JOIN gov_agency_dimension b ON a.gov_agency_key = b.gov_agency_key\n",
    "JOIN vendor_dimension c ON a.vendor_key = c.vendor_key\n",
    "JOIN contract_date_dimension d ON a.contract_date_key = d.contract_date_key\n",
    "GROUP BY c.nonprofitorganizationflag\n",
    "ORDER BY COUNT DESC;"
   ]
  },
  {
   "cell_type": "code",
   "execution_count": 70,
   "metadata": {},
   "outputs": [
    {
     "name": "stdout",
     "output_type": "stream",
     "text": [
      "Proportion of contracts awarded to non-profit companies\r\n"
     ]
    },
    {
     "data": {
      "image/png": "[encoded data removed]",
      "text/plain": [
       "<matplotlib.figure.Figure at 0x7f27858d8978>"
      ]
     },
     "metadata": {},
     "output_type": "display_data"
    }
   ],
   "source": [
    "results = _\n",
    "results.pie()\n",
    "!echo 'Proportion of contracts awarded to non-profit companies'  "
   ]
  },
  {
   "cell_type": "markdown",
   "metadata": {},
   "source": [
    "A very small proportion of contracts were awarded to nonprofit vendors. It seems that there may exist a quota for woman-, veteran-, and minority-owned vendors, but no quota exists for nonprofit vendors."
   ]
  },
  {
   "cell_type": "markdown",
   "metadata": {},
   "source": [
    "** Analyze in Star Schema **\n",
    "Which agencies awarded the most contracts?"
   ]
  },
  {
   "cell_type": "code",
   "execution_count": 71,
   "metadata": {},
   "outputs": [
    {
     "name": "stdout",
     "output_type": "stream",
     "text": [
      "10 rows affected.\n"
     ]
    },
    {
     "data": {
      "text/html": [
       "<table>\n",
       "    <tr>\n",
       "        <th>maj_agency_cat</th>\n",
       "        <th>count</th>\n",
       "    </tr>\n",
       "    <tr>\n",
       "        <td>9700: Department of Defense                                                                                                                                          </td>\n",
       "        <td>194743</td>\n",
       "    </tr>\n",
       "    <tr>\n",
       "        <td>3600: Department of Veterans Affairs                                                                                                                                 </td>\n",
       "        <td>13584</td>\n",
       "    </tr>\n",
       "    <tr>\n",
       "        <td>4700: General Services Administration                                                                                                                                </td>\n",
       "        <td>9208</td>\n",
       "    </tr>\n",
       "    <tr>\n",
       "        <td>1500: Department of Justice                                                                                                                                          </td>\n",
       "        <td>8128</td>\n",
       "    </tr>\n",
       "    <tr>\n",
       "        <td>1900: Department of State                                                                                                                                            </td>\n",
       "        <td>5421</td>\n",
       "    </tr>\n",
       "    <tr>\n",
       "        <td>7000: Department of Homeland Security                                                                                                                                </td>\n",
       "        <td>5217</td>\n",
       "    </tr>\n",
       "    <tr>\n",
       "        <td>7500: Department of Health and Human Services                                                                                                                        </td>\n",
       "        <td>4987</td>\n",
       "    </tr>\n",
       "    <tr>\n",
       "        <td>1400: Department of the Interior                                                                                                                                     </td>\n",
       "        <td>4477</td>\n",
       "    </tr>\n",
       "    <tr>\n",
       "        <td>1200: Department of Agriculture                                                                                                                                      </td>\n",
       "        <td>4278</td>\n",
       "    </tr>\n",
       "    <tr>\n",
       "        <td>8000: National Aeronautics and Space Administration                                                                                                                  </td>\n",
       "        <td>2452</td>\n",
       "    </tr>\n",
       "</table>"
      ],
      "text/plain": [
       "[('9700: Department of Defense                                                                                                                                          ', 194743),\n",
       " ('3600: Department of Veterans Affairs                                                                                                                                 ', 13584),\n",
       " ('4700: General Services Administration                                                                                                                                ', 9208),\n",
       " ('1500: Department of Justice                                                                                                                                          ', 8128),\n",
       " ('1900: Department of State                                                                                                                                            ', 5421),\n",
       " ('7000: Department of Homeland Security                                                                                                                                ', 5217),\n",
       " ('7500: Department of Health and Human Services                                                                                                                        ', 4987),\n",
       " ('1400: Department of the Interior                                                                                                                                     ', 4477),\n",
       " ('1200: Department of Agriculture                                                                                                                                      ', 4278),\n",
       " ('8000: National Aeronautics and Space Administration                                                                                                                  ', 2452)]"
      ]
     },
     "execution_count": 71,
     "metadata": {},
     "output_type": "execute_result"
    }
   ],
   "source": [
    "%%sql\n",
    "SELECT \n",
    "    b.maj_agency_cat,\n",
    "    COUNT(*)\n",
    "FROM gov_contract_fact a\n",
    "JOIN gov_agency_dimension b ON a.gov_agency_key = b.gov_agency_key\n",
    "GROUP BY b.maj_agency_cat\n",
    "ORDER BY COUNT DESC\n",
    "LIMIT 10;"
   ]
  },
  {
   "cell_type": "code",
   "execution_count": 72,
   "metadata": {},
   "outputs": [
    {
     "name": "stdout",
     "output_type": "stream",
     "text": [
      "Number of contracts awarded by Agency\r\n"
     ]
    },
    {
     "data": {
      "image/png": "[encoded data removed]",
      "text/plain": [
       "<matplotlib.figure.Figure at 0x7f2785977390>"
      ]
     },
     "metadata": {},
     "output_type": "display_data"
    }
   ],
   "source": [
    "results = _\n",
    "results.pie()\n",
    "!echo 'Number of contracts awarded by Agency' "
   ]
  },
  {
   "cell_type": "code",
   "execution_count": 73,
   "metadata": {},
   "outputs": [
    {
     "name": "stdout",
     "output_type": "stream",
     "text": [
      "10 rows affected.\n"
     ]
    },
    {
     "data": {
      "text/html": [
       "<table>\n",
       "    <tr>\n",
       "        <th>maj_agency_cat</th>\n",
       "        <th>sum</th>\n",
       "    </tr>\n",
       "    <tr>\n",
       "        <td>9700: Department of Defense                                                                                                                                          </td>\n",
       "        <td>21197500000.0</td>\n",
       "    </tr>\n",
       "    <tr>\n",
       "        <td>8900: Department of Energy                                                                                                                                           </td>\n",
       "        <td>1658380000.0</td>\n",
       "    </tr>\n",
       "    <tr>\n",
       "        <td>3600: Department of Veterans Affairs                                                                                                                                 </td>\n",
       "        <td>1471140000.0</td>\n",
       "    </tr>\n",
       "    <tr>\n",
       "        <td>7500: Department of Health and Human Services                                                                                                                        </td>\n",
       "        <td>1466000000.0</td>\n",
       "    </tr>\n",
       "    <tr>\n",
       "        <td>8000: National Aeronautics and Space Administration                                                                                                                  </td>\n",
       "        <td>922817000.0</td>\n",
       "    </tr>\n",
       "    <tr>\n",
       "        <td>7000: Department of Homeland Security                                                                                                                                </td>\n",
       "        <td>802900000.0</td>\n",
       "    </tr>\n",
       "    <tr>\n",
       "        <td>1900: Department of State                                                                                                                                            </td>\n",
       "        <td>741400000.0</td>\n",
       "    </tr>\n",
       "    <tr>\n",
       "        <td>4700: General Services Administration                                                                                                                                </td>\n",
       "        <td>508246000.0</td>\n",
       "    </tr>\n",
       "    <tr>\n",
       "        <td>1500: Department of Justice                                                                                                                                          </td>\n",
       "        <td>464512000.0</td>\n",
       "    </tr>\n",
       "    <tr>\n",
       "        <td>1400: Department of the Interior                                                                                                                                     </td>\n",
       "        <td>373701000.0</td>\n",
       "    </tr>\n",
       "</table>"
      ],
      "text/plain": [
       "[('9700: Department of Defense                                                                                                                                          ', 21197500000.0),\n",
       " ('8900: Department of Energy                                                                                                                                           ', 1658380000.0),\n",
       " ('3600: Department of Veterans Affairs                                                                                                                                 ', 1471140000.0),\n",
       " ('7500: Department of Health and Human Services                                                                                                                        ', 1466000000.0),\n",
       " ('8000: National Aeronautics and Space Administration                                                                                                                  ', 922817000.0),\n",
       " ('7000: Department of Homeland Security                                                                                                                                ', 802900000.0),\n",
       " ('1900: Department of State                                                                                                                                            ', 741400000.0),\n",
       " ('4700: General Services Administration                                                                                                                                ', 508246000.0),\n",
       " ('1500: Department of Justice                                                                                                                                          ', 464512000.0),\n",
       " ('1400: Department of the Interior                                                                                                                                     ', 373701000.0)]"
      ]
     },
     "execution_count": 73,
     "metadata": {},
     "output_type": "execute_result"
    }
   ],
   "source": [
    "%%sql\n",
    "SELECT \n",
    "    b.maj_agency_cat,\n",
    "    SUM(a.dollarsobligated)\n",
    "FROM gov_contract_fact a\n",
    "JOIN gov_agency_dimension b ON a.gov_agency_key = b.gov_agency_key\n",
    "GROUP BY b.maj_agency_cat\n",
    "ORDER BY SUM DESC\n",
    "LIMIT 10;"
   ]
  },
  {
   "cell_type": "code",
   "execution_count": 74,
   "metadata": {},
   "outputs": [
    {
     "name": "stdout",
     "output_type": "stream",
     "text": [
      "Total value of contracts awarded by Agency\r\n"
     ]
    },
    {
     "data": {
      "image/png": "[encoded data removed]",
      "text/plain": [
       "<matplotlib.figure.Figure at 0x7f2784f2f860>"
      ]
     },
     "metadata": {},
     "output_type": "display_data"
    }
   ],
   "source": [
    "results = _\n",
    "results.pie()\n",
    "!echo 'Total value of contracts awarded by Agency' "
   ]
  },
  {
   "cell_type": "markdown",
   "metadata": {},
   "source": [
    "We can see from these pie charts that of the top ten agencies letting contracts in FY2016, nearly three-quarters of contracts and about two-thirds of the contract dollars are from agencies in the department of defense."
   ]
  },
  {
   "cell_type": "markdown",
   "metadata": {},
   "source": [
    "** Analyze in Star Schema **\n",
    "What contracting office agencies awarded the most contracts?"
   ]
  },
  {
   "cell_type": "code",
   "execution_count": 75,
   "metadata": {},
   "outputs": [
    {
     "name": "stdout",
     "output_type": "stream",
     "text": [
      "10 rows affected.\n"
     ]
    },
    {
     "data": {
      "text/html": [
       "<table>\n",
       "    <tr>\n",
       "        <th>contractingofficeagencyid</th>\n",
       "        <th>count</th>\n",
       "        <th>total_obligated</th>\n",
       "        <th>total_baseandexercisedopt</th>\n",
       "        <th>total_baseandallopt</th>\n",
       "    </tr>\n",
       "    <tr>\n",
       "        <td>97AS: DEFENSE LOGISTICS AGENCY                                             </td>\n",
       "        <td>160660</td>\n",
       "        <td>1550410000.0</td>\n",
       "        <td>1551200000.0</td>\n",
       "        <td>6397100000.0</td>\n",
       "    </tr>\n",
       "    <tr>\n",
       "        <td>3600: VETERANS AFFAIRS, DEPARTMENT OF                                      </td>\n",
       "        <td>13584</td>\n",
       "        <td>1471140000.0</td>\n",
       "        <td>1519060000.0</td>\n",
       "        <td>36383800000.0</td>\n",
       "    </tr>\n",
       "    <tr>\n",
       "        <td>1700: DEPT OF THE NAVY                                                     </td>\n",
       "        <td>12195</td>\n",
       "        <td>4334700000.0</td>\n",
       "        <td>3578760000.0</td>\n",
       "        <td>171965000000.0</td>\n",
       "    </tr>\n",
       "    <tr>\n",
       "        <td>2100: DEPT OF THE ARMY                                                     </td>\n",
       "        <td>10819</td>\n",
       "        <td>4446930000.0</td>\n",
       "        <td>8141180000.0</td>\n",
       "        <td>-79127300.0</td>\n",
       "    </tr>\n",
       "    <tr>\n",
       "        <td>4732: FEDERAL ACQUISITION SERVICE                                          </td>\n",
       "        <td>7465</td>\n",
       "        <td>316606000.0</td>\n",
       "        <td>283259000.0</td>\n",
       "        <td>52234000000.0</td>\n",
       "    </tr>\n",
       "    <tr>\n",
       "        <td>5700: DEPT OF THE AIR FORCE                                                </td>\n",
       "        <td>6289</td>\n",
       "        <td>8447300000.0</td>\n",
       "        <td>7798350000.0</td>\n",
       "        <td>27457100000.0</td>\n",
       "    </tr>\n",
       "    <tr>\n",
       "        <td>1900: STATE, DEPARTMENT OF                                                 </td>\n",
       "        <td>5355</td>\n",
       "        <td>739183000.0</td>\n",
       "        <td>731996000.0</td>\n",
       "        <td>937031000.0</td>\n",
       "    </tr>\n",
       "    <tr>\n",
       "        <td>8000: NATIONAL AERONAUTICS AND SPACE ADMINISTRATION                        </td>\n",
       "        <td>2452</td>\n",
       "        <td>922817000.0</td>\n",
       "        <td>445183000.0</td>\n",
       "        <td>14594300000.0</td>\n",
       "    </tr>\n",
       "    <tr>\n",
       "        <td>7529: NATIONAL INSTITUTES OF HEALTH                                        </td>\n",
       "        <td>2326</td>\n",
       "        <td>456343000.0</td>\n",
       "        <td>266362000.0</td>\n",
       "        <td>21351800000.0</td>\n",
       "    </tr>\n",
       "    <tr>\n",
       "        <td>1540: FEDERAL PRISON SYSTEM / BUREAU OF PRISONS                            </td>\n",
       "        <td>2319</td>\n",
       "        <td>85088600.0</td>\n",
       "        <td>82678200.0</td>\n",
       "        <td>317801000.0</td>\n",
       "    </tr>\n",
       "</table>"
      ],
      "text/plain": [
       "[('97AS: DEFENSE LOGISTICS AGENCY                                             ', 160660, 1550410000.0, 1551200000.0, 6397100000.0),\n",
       " ('3600: VETERANS AFFAIRS, DEPARTMENT OF                                      ', 13584, 1471140000.0, 1519060000.0, 36383800000.0),\n",
       " ('1700: DEPT OF THE NAVY                                                     ', 12195, 4334700000.0, 3578760000.0, 171965000000.0),\n",
       " ('2100: DEPT OF THE ARMY                                                     ', 10819, 4446930000.0, 8141180000.0, -79127300.0),\n",
       " ('4732: FEDERAL ACQUISITION SERVICE                                          ', 7465, 316606000.0, 283259000.0, 52234000000.0),\n",
       " ('5700: DEPT OF THE AIR FORCE                                                ', 6289, 8447300000.0, 7798350000.0, 27457100000.0),\n",
       " ('1900: STATE, DEPARTMENT OF                                                 ', 5355, 739183000.0, 731996000.0, 937031000.0),\n",
       " ('8000: NATIONAL AERONAUTICS AND SPACE ADMINISTRATION                        ', 2452, 922817000.0, 445183000.0, 14594300000.0),\n",
       " ('7529: NATIONAL INSTITUTES OF HEALTH                                        ', 2326, 456343000.0, 266362000.0, 21351800000.0),\n",
       " ('1540: FEDERAL PRISON SYSTEM / BUREAU OF PRISONS                            ', 2319, 85088600.0, 82678200.0, 317801000.0)]"
      ]
     },
     "execution_count": 75,
     "metadata": {},
     "output_type": "execute_result"
    }
   ],
   "source": [
    "%%sql\n",
    "SELECT \n",
    "    b.contractingofficeagencyid,\n",
    "    COUNT(*),\n",
    "    SUM(a.dollarsobligated) AS Total_Obligated,\n",
    "    SUM(a.baseandexercisedoptionsvalue) AS Total_BaseandExercisedOpt,\n",
    "    SUM(a.baseandalloptionsvalue) AS Total_BaseandAllOpt\n",
    "FROM gov_contract_fact a\n",
    "JOIN gov_agency_dimension b ON a.gov_agency_key = b.gov_agency_key\n",
    "GROUP BY b.contractingofficeagencyid\n",
    "ORDER BY COUNT DESC\n",
    "LIMIT 10;"
   ]
  },
  {
   "cell_type": "markdown",
   "metadata": {},
   "source": [
    "Once again, the Department of Defense reigns supreme in total value of contracts awarded in 2016."
   ]
  },
  {
   "cell_type": "markdown",
   "metadata": {},
   "source": [
    "** Analyze in Star Schema **\n",
    "In what month were most contracts signed?"
   ]
  },
  {
   "cell_type": "code",
   "execution_count": 76,
   "metadata": {},
   "outputs": [
    {
     "name": "stdout",
     "output_type": "stream",
     "text": [
      "12 rows affected.\n"
     ]
    },
    {
     "data": {
      "text/html": [
       "<table>\n",
       "    <tr>\n",
       "        <th>signed_mth</th>\n",
       "        <th>count</th>\n",
       "    </tr>\n",
       "    <tr>\n",
       "        <td>1</td>\n",
       "        <td>20073</td>\n",
       "    </tr>\n",
       "    <tr>\n",
       "        <td>2</td>\n",
       "        <td>22789</td>\n",
       "    </tr>\n",
       "    <tr>\n",
       "        <td>3</td>\n",
       "        <td>27037</td>\n",
       "    </tr>\n",
       "    <tr>\n",
       "        <td>4</td>\n",
       "        <td>24063</td>\n",
       "    </tr>\n",
       "    <tr>\n",
       "        <td>5</td>\n",
       "        <td>23607</td>\n",
       "    </tr>\n",
       "    <tr>\n",
       "        <td>6</td>\n",
       "        <td>24803</td>\n",
       "    </tr>\n",
       "    <tr>\n",
       "        <td>7</td>\n",
       "        <td>22022</td>\n",
       "    </tr>\n",
       "    <tr>\n",
       "        <td>8</td>\n",
       "        <td>20937</td>\n",
       "    </tr>\n",
       "    <tr>\n",
       "        <td>9</td>\n",
       "        <td>8128</td>\n",
       "    </tr>\n",
       "    <tr>\n",
       "        <td>10</td>\n",
       "        <td>20196</td>\n",
       "    </tr>\n",
       "    <tr>\n",
       "        <td>11</td>\n",
       "        <td>18558</td>\n",
       "    </tr>\n",
       "    <tr>\n",
       "        <td>12</td>\n",
       "        <td>19395</td>\n",
       "    </tr>\n",
       "</table>"
      ],
      "text/plain": [
       "[(Decimal('1'), 20073),\n",
       " (Decimal('2'), 22789),\n",
       " (Decimal('3'), 27037),\n",
       " (Decimal('4'), 24063),\n",
       " (Decimal('5'), 23607),\n",
       " (Decimal('6'), 24803),\n",
       " (Decimal('7'), 22022),\n",
       " (Decimal('8'), 20937),\n",
       " (Decimal('9'), 8128),\n",
       " (Decimal('10'), 20196),\n",
       " (Decimal('11'), 18558),\n",
       " (Decimal('12'), 19395)]"
      ]
     },
     "execution_count": 76,
     "metadata": {},
     "output_type": "execute_result"
    }
   ],
   "source": [
    "%%sql\n",
    "SELECT \n",
    "    d.signed_mth,\n",
    "    COUNT(*)\n",
    "FROM gov_contract_fact a\n",
    "JOIN contract_date_dimension d ON a.contract_date_key = d.contract_date_key\n",
    "GROUP BY d.signed_mth\n",
    "ORDER BY d.signed_mth;"
   ]
  },
  {
   "cell_type": "code",
   "execution_count": 77,
   "metadata": {
    "scrolled": true
   },
   "outputs": [
    {
     "name": "stdout",
     "output_type": "stream",
     "text": [
      "Number of contracts signed by Month\r\n"
     ]
    },
    {
     "data": {
      "image/png": "[encoded data removed]",
      "text/plain": [
       "<matplotlib.figure.Figure at 0x7f27851b0b00>"
      ]
     },
     "metadata": {},
     "output_type": "display_data"
    }
   ],
   "source": [
    "results = _\n",
    "results.bar()\n",
    "!echo 'Number of contracts signed by Month' "
   ]
  },
  {
   "cell_type": "code",
   "execution_count": 78,
   "metadata": {},
   "outputs": [
    {
     "name": "stdout",
     "output_type": "stream",
     "text": [
      "12 rows affected.\n"
     ]
    },
    {
     "data": {
      "text/html": [
       "<table>\n",
       "    <tr>\n",
       "        <th>signed_mth</th>\n",
       "        <th>sum</th>\n",
       "    </tr>\n",
       "    <tr>\n",
       "        <td>1</td>\n",
       "        <td>2171760000.0</td>\n",
       "    </tr>\n",
       "    <tr>\n",
       "        <td>2</td>\n",
       "        <td>3658080000.0</td>\n",
       "    </tr>\n",
       "    <tr>\n",
       "        <td>3</td>\n",
       "        <td>5767110000.0</td>\n",
       "    </tr>\n",
       "    <tr>\n",
       "        <td>4</td>\n",
       "        <td>1749270000.0</td>\n",
       "    </tr>\n",
       "    <tr>\n",
       "        <td>5</td>\n",
       "        <td>1488030000.0</td>\n",
       "    </tr>\n",
       "    <tr>\n",
       "        <td>6</td>\n",
       "        <td>1836320000.0</td>\n",
       "    </tr>\n",
       "    <tr>\n",
       "        <td>7</td>\n",
       "        <td>2136730000.0</td>\n",
       "    </tr>\n",
       "    <tr>\n",
       "        <td>8</td>\n",
       "        <td>4711520000.0</td>\n",
       "    </tr>\n",
       "    <tr>\n",
       "        <td>9</td>\n",
       "        <td>1623670000.0</td>\n",
       "    </tr>\n",
       "    <tr>\n",
       "        <td>10</td>\n",
       "        <td>1836030000.0</td>\n",
       "    </tr>\n",
       "    <tr>\n",
       "        <td>11</td>\n",
       "        <td>1531710000.0</td>\n",
       "    </tr>\n",
       "    <tr>\n",
       "        <td>12</td>\n",
       "        <td>2491860000.0</td>\n",
       "    </tr>\n",
       "</table>"
      ],
      "text/plain": [
       "[(Decimal('1'), 2171760000.0),\n",
       " (Decimal('2'), 3658080000.0),\n",
       " (Decimal('3'), 5767110000.0),\n",
       " (Decimal('4'), 1749270000.0),\n",
       " (Decimal('5'), 1488030000.0),\n",
       " (Decimal('6'), 1836320000.0),\n",
       " (Decimal('7'), 2136730000.0),\n",
       " (Decimal('8'), 4711520000.0),\n",
       " (Decimal('9'), 1623670000.0),\n",
       " (Decimal('10'), 1836030000.0),\n",
       " (Decimal('11'), 1531710000.0),\n",
       " (Decimal('12'), 2491860000.0)]"
      ]
     },
     "execution_count": 78,
     "metadata": {},
     "output_type": "execute_result"
    }
   ],
   "source": [
    "%%sql\n",
    "SELECT \n",
    "    d.signed_mth,\n",
    "    SUM(a.dollarsobligated)\n",
    "FROM gov_contract_fact a\n",
    "JOIN contract_date_dimension d ON a.contract_date_key = d.contract_date_key\n",
    "GROUP BY d.signed_mth\n",
    "ORDER BY d.signed_mth;"
   ]
  },
  {
   "cell_type": "code",
   "execution_count": 79,
   "metadata": {},
   "outputs": [
    {
     "name": "stdout",
     "output_type": "stream",
     "text": [
      "Total value of contracts signed by Month\r\n"
     ]
    },
    {
     "data": {
      "image/png": "[encoded data removed]",
      "text/plain": [
       "<matplotlib.figure.Figure at 0x7f27858aa2e8>"
      ]
     },
     "metadata": {},
     "output_type": "display_data"
    }
   ],
   "source": [
    "results = _\n",
    "results.bar()\n",
    "!echo 'Total value of contracts signed by Month' "
   ]
  },
  {
   "cell_type": "markdown",
   "metadata": {
    "collapsed": true
   },
   "source": [
    "Overall, it appears that an approximately equivalent number of contracts are signed each month, with the exception of September, which is the last month in the government fiscal year. Following our initial explorations we anticipated a much higher number of contracts to be signed in October. The relatively even distribution of contracts being signed throughout the year is surprising. There is, however, a significant increase in the value of contracts signed in  March and in August. We speculate that this is likely due to contracting cycles for defense equipment or services."
   ]
  },
  {
   "cell_type": "markdown",
   "metadata": {
    "collapsed": true
   },
   "source": [
    "** Analyze in Star Schema **\n",
    "What were the highest dollar-value contracts?"
   ]
  },
  {
   "cell_type": "code",
   "execution_count": 80,
   "metadata": {},
   "outputs": [
    {
     "name": "stdout",
     "output_type": "stream",
     "text": [
      "10 rows affected.\n"
     ]
    },
    {
     "data": {
      "text/html": [
       "<table>\n",
       "    <tr>\n",
       "        <th>maj_agency_cat</th>\n",
       "        <th>contractingofficeagencyid</th>\n",
       "        <th>vendorname</th>\n",
       "        <th>productorservicecode</th>\n",
       "        <th>principalnaicscode</th>\n",
       "        <th>dollarsobligated</th>\n",
       "        <th>baseandexercisedoptionsvalue</th>\n",
       "        <th>baseandalloptionsvalue</th>\n",
       "        <th>city</th>\n",
       "        <th>state</th>\n",
       "        <th>zipcode</th>\n",
       "    </tr>\n",
       "    <tr>\n",
       "        <td>9700: Department of Defense                                                                                                                                          </td>\n",
       "        <td>5700: DEPT OF THE AIR FORCE                                                </td>\n",
       "        <td>THE BOEING COMPANY                                                                                                                                                                                                                                             </td>\n",
       "        <td>5810: COMMUNICATIONS SECURITY EQUIPMENT AND COMPONENTS                                                                                                                                                                                                         </td>\n",
       "        <td>336411: AIRCRAFT MANUFACTURING                                                                                                                                                                                                                                 </td>\n",
       "        <td>2814820000.0</td>\n",
       "        <td>2814820000.0</td>\n",
       "        <td>2814820000.0</td>\n",
       "        <td>SEATTLE                                                                         </td>\n",
       "        <td>WA                                      </td>\n",
       "        <td>98108</td>\n",
       "    </tr>\n",
       "    <tr>\n",
       "        <td>9700: Department of Defense                                                                                                                                          </td>\n",
       "        <td>5700: DEPT OF THE AIR FORCE                                                </td>\n",
       "        <td>LOCKHEED MARTIN CORPORATION                                                                                                                                                                                                                                    </td>\n",
       "        <td>1510: AIRCRAFT, FIXED WING                                                                                                                                                                                                                                     </td>\n",
       "        <td>336411: AIRCRAFT MANUFACTURING                                                                                                                                                                                                                                 </td>\n",
       "        <td>1899410000.0</td>\n",
       "        <td>1899410000.0</td>\n",
       "        <td>1899410000.0</td>\n",
       "        <td>MARIETTA                                                                        </td>\n",
       "        <td>GA                                      </td>\n",
       "        <td>30063</td>\n",
       "    </tr>\n",
       "    <tr>\n",
       "        <td>9700: Department of Defense                                                                                                                                          </td>\n",
       "        <td>2100: DEPT OF THE ARMY                                                     </td>\n",
       "        <td>THE BOEING COMPANY                                                                                                                                                                                                                                             </td>\n",
       "        <td>1680: MISCELLANEOUS AIRCRAFT ACCESSORIES AND COMPONENTS                                                                                                                                                                                                        </td>\n",
       "        <td>336411: AIRCRAFT MANUFACTURING                                                                                                                                                                                                                                 </td>\n",
       "        <td>896930000.0</td>\n",
       "        <td>896930000.0</td>\n",
       "        <td>0.0</td>\n",
       "        <td>RIDLEY PARK                                                                     </td>\n",
       "        <td>PA                                      </td>\n",
       "        <td>19078</td>\n",
       "    </tr>\n",
       "    <tr>\n",
       "        <td>9700: Department of Defense                                                                                                                                          </td>\n",
       "        <td>1700: DEPT OF THE NAVY                                                     </td>\n",
       "        <td>NORTHROP GRUMMAN SYSTEMS CORPORATION                                                                                                                                                                                                                           </td>\n",
       "        <td>1510: AIRCRAFT, FIXED WING                                                                                                                                                                                                                                     </td>\n",
       "        <td>336411: AIRCRAFT MANUFACTURING                                                                                                                                                                                                                                 </td>\n",
       "        <td>803906000.0</td>\n",
       "        <td>50762900.0</td>\n",
       "        <td>0.0</td>\n",
       "        <td>MELBOURNE                                                                       </td>\n",
       "        <td>FL                                      </td>\n",
       "        <td>32904</td>\n",
       "    </tr>\n",
       "    <tr>\n",
       "        <td>9700: Department of Defense                                                                                                                                          </td>\n",
       "        <td>97DH: DEFENSE HEALTH AGENCY (DHA)                                          </td>\n",
       "        <td>HUMANA MILITARY HEALTHCARE SERVICES, INC.                                                                                                                                                                                                                      </td>\n",
       "        <td>Q201: MEDICAL- GENERAL HEALTH CARE                                                                                                                                                                                                                             </td>\n",
       "        <td>524114: DIRECT HEALTH AND MEDICAL INSURANCE CARRIERS                                                                                                                                                                                                           </td>\n",
       "        <td>522488000.0</td>\n",
       "        <td>191802.0</td>\n",
       "        <td>191802.0</td>\n",
       "        <td>LOUISVILLE                                                                      </td>\n",
       "        <td>KY                                      </td>\n",
       "        <td>40202</td>\n",
       "    </tr>\n",
       "    <tr>\n",
       "        <td>9700: Department of Defense                                                                                                                                          </td>\n",
       "        <td>1700: DEPT OF THE NAVY                                                     </td>\n",
       "        <td>LOCKHEED MARTIN CORPORATION                                                                                                                                                                                                                                    </td>\n",
       "        <td>5841: RADAR EQUIPMENT, AIRBORNE                                                                                                                                                                                                                                </td>\n",
       "        <td>336411: AIRCRAFT MANUFACTURING                                                                                                                                                                                                                                 </td>\n",
       "        <td>473352000.0</td>\n",
       "        <td>473352000.0</td>\n",
       "        <td>473352000.0</td>\n",
       "        <td>FORT WORTH                                                                      </td>\n",
       "        <td>TX                                      </td>\n",
       "        <td>76108</td>\n",
       "    </tr>\n",
       "    <tr>\n",
       "        <td>9700: Department of Defense                                                                                                                                          </td>\n",
       "        <td>97DH: DEFENSE HEALTH AGENCY (DHA)                                          </td>\n",
       "        <td>UNITEDHEALTH MILITARY &amp; VETERANS SERVICES, LLC                                                                                                                                                                                                                 </td>\n",
       "        <td>Q201: MEDICAL- GENERAL HEALTH CARE                                                                                                                                                                                                                             </td>\n",
       "        <td>524114: DIRECT HEALTH AND MEDICAL INSURANCE CARRIERS                                                                                                                                                                                                           </td>\n",
       "        <td>402422000.0</td>\n",
       "        <td>0.0</td>\n",
       "        <td>0.0</td>\n",
       "        <td>MINNETONKA                                                                      </td>\n",
       "        <td>MN                                      </td>\n",
       "        <td>55343</td>\n",
       "    </tr>\n",
       "    <tr>\n",
       "        <td>9700: Department of Defense                                                                                                                                          </td>\n",
       "        <td>97DH: DEFENSE HEALTH AGENCY (DHA)                                          </td>\n",
       "        <td>UNITEDHEALTH MILITARY &amp; VETERANS SERVICES, LLC                                                                                                                                                                                                                 </td>\n",
       "        <td>Q201: MEDICAL- GENERAL HEALTH CARE                                                                                                                                                                                                                             </td>\n",
       "        <td>524114: DIRECT HEALTH AND MEDICAL INSURANCE CARRIERS                                                                                                                                                                                                           </td>\n",
       "        <td>282100000.0</td>\n",
       "        <td>0.0</td>\n",
       "        <td>0.0</td>\n",
       "        <td>MINNETONKA                                                                      </td>\n",
       "        <td>MN                                      </td>\n",
       "        <td>55343</td>\n",
       "    </tr>\n",
       "    <tr>\n",
       "        <td>9700: Department of Defense                                                                                                                                          </td>\n",
       "        <td>5700: DEPT OF THE AIR FORCE                                                </td>\n",
       "        <td>GENERAL ATOMICS AERONAUTICAL SYSTEMS, INC.                                                                                                                                                                                                                     </td>\n",
       "        <td>L017: TECHNICAL REPRESENTATIVE- AIRCRAFT LAUNCHING, LANDING, AND GROUND HANDLING EQUIPMENT                                                                                                                                                                     </td>\n",
       "        <td>336411: AIRCRAFT MANUFACTURING                                                                                                                                                                                                                                 </td>\n",
       "        <td>280143000.0</td>\n",
       "        <td>280143000.0</td>\n",
       "        <td>280143000.0</td>\n",
       "        <td>POWAY                                                                           </td>\n",
       "        <td>CA                                      </td>\n",
       "        <td>92064</td>\n",
       "    </tr>\n",
       "    <tr>\n",
       "        <td>3600: Department of Veterans Affairs                                                                                                                                 </td>\n",
       "        <td>3600: VETERANS AFFAIRS, DEPARTMENT OF                                      </td>\n",
       "        <td>MCKESSON CORPORATION                                                                                                                                                                                                                                           </td>\n",
       "        <td>6505: DRUGS AND BIOLOGICALS                                                                                                                                                                                                                                    </td>\n",
       "        <td>325412: PHARMACEUTICAL PREPARATION MANUFACTURING                                                                                                                                                                                                               </td>\n",
       "        <td>255426000.0</td>\n",
       "        <td>255426000.0</td>\n",
       "        <td>255426000.0</td>\n",
       "        <td>SAN FRANCISCO                                                                   </td>\n",
       "        <td>CA                                      </td>\n",
       "        <td>94104</td>\n",
       "    </tr>\n",
       "</table>"
      ],
      "text/plain": [
       "[('9700: Department of Defense                                                                                                                                          ', '5700: DEPT OF THE AIR FORCE                                                ', 'THE BOEING COMPANY                                                                                                                                                                                                                                             ', '5810: COMMUNICATIONS SECURITY EQUIPMENT AND COMPONENTS                                                                                                                                                                                                         ', '336411: AIRCRAFT MANUFACTURING                                                                                                                                                                                                                                 ', 2814820000.0, 2814820000.0, 2814820000.0, 'SEATTLE                                                                         ', 'WA                                      ', '98108'),\n",
       " ('9700: Department of Defense                                                                                                                                          ', '5700: DEPT OF THE AIR FORCE                                                ', 'LOCKHEED MARTIN CORPORATION                                                                                                                                                                                                                                    ', '1510: AIRCRAFT, FIXED WING                                                                                                                                                                                                                                     ', '336411: AIRCRAFT MANUFACTURING                                                                                                                                                                                                                                 ', 1899410000.0, 1899410000.0, 1899410000.0, 'MARIETTA                                                                        ', 'GA                                      ', '30063'),\n",
       " ('9700: Department of Defense                                                                                                                                          ', '2100: DEPT OF THE ARMY                                                     ', 'THE BOEING COMPANY                                                                                                                                                                                                                                             ', '1680: MISCELLANEOUS AIRCRAFT ACCESSORIES AND COMPONENTS                                                                                                                                                                                                        ', '336411: AIRCRAFT MANUFACTURING                                                                                                                                                                                                                                 ', 896930000.0, 896930000.0, 0.0, 'RIDLEY PARK                                                                     ', 'PA                                      ', '19078'),\n",
       " ('9700: Department of Defense                                                                                                                                          ', '1700: DEPT OF THE NAVY                                                     ', 'NORTHROP GRUMMAN SYSTEMS CORPORATION                                                                                                                                                                                                                           ', '1510: AIRCRAFT, FIXED WING                                                                                                                                                                                                                                     ', '336411: AIRCRAFT MANUFACTURING                                                                                                                                                                                                                                 ', 803906000.0, 50762900.0, 0.0, 'MELBOURNE                                                                       ', 'FL                                      ', '32904'),\n",
       " ('9700: Department of Defense                                                                                                                                          ', '97DH: DEFENSE HEALTH AGENCY (DHA)                                          ', 'HUMANA MILITARY HEALTHCARE SERVICES, INC.                                                                                                                                                                                                                      ', 'Q201: MEDICAL- GENERAL HEALTH CARE                                                                                                                                                                                                                             ', '524114: DIRECT HEALTH AND MEDICAL INSURANCE CARRIERS                                                                                                                                                                                                           ', 522488000.0, 191802.0, 191802.0, 'LOUISVILLE                                                                      ', 'KY                                      ', '40202'),\n",
       " ('9700: Department of Defense                                                                                                                                          ', '1700: DEPT OF THE NAVY                                                     ', 'LOCKHEED MARTIN CORPORATION                                                                                                                                                                                                                                    ', '5841: RADAR EQUIPMENT, AIRBORNE                                                                                                                                                                                                                                ', '336411: AIRCRAFT MANUFACTURING                                                                                                                                                                                                                                 ', 473352000.0, 473352000.0, 473352000.0, 'FORT WORTH                                                                      ', 'TX                                      ', '76108'),\n",
       " ('9700: Department of Defense                                                                                                                                          ', '97DH: DEFENSE HEALTH AGENCY (DHA)                                          ', 'UNITEDHEALTH MILITARY & VETERANS SERVICES, LLC                                                                                                                                                                                                                 ', 'Q201: MEDICAL- GENERAL HEALTH CARE                                                                                                                                                                                                                             ', '524114: DIRECT HEALTH AND MEDICAL INSURANCE CARRIERS                                                                                                                                                                                                           ', 402422000.0, 0.0, 0.0, 'MINNETONKA                                                                      ', 'MN                                      ', '55343'),\n",
       " ('9700: Department of Defense                                                                                                                                          ', '97DH: DEFENSE HEALTH AGENCY (DHA)                                          ', 'UNITEDHEALTH MILITARY & VETERANS SERVICES, LLC                                                                                                                                                                                                                 ', 'Q201: MEDICAL- GENERAL HEALTH CARE                                                                                                                                                                                                                             ', '524114: DIRECT HEALTH AND MEDICAL INSURANCE CARRIERS                                                                                                                                                                                                           ', 282100000.0, 0.0, 0.0, 'MINNETONKA                                                                      ', 'MN                                      ', '55343'),\n",
       " ('9700: Department of Defense                                                                                                                                          ', '5700: DEPT OF THE AIR FORCE                                                ', 'GENERAL ATOMICS AERONAUTICAL SYSTEMS, INC.                                                                                                                                                                                                                     ', 'L017: TECHNICAL REPRESENTATIVE- AIRCRAFT LAUNCHING, LANDING, AND GROUND HANDLING EQUIPMENT                                                                                                                                                                     ', '336411: AIRCRAFT MANUFACTURING                                                                                                                                                                                                                                 ', 280143000.0, 280143000.0, 280143000.0, 'POWAY                                                                           ', 'CA                                      ', '92064'),\n",
       " ('3600: Department of Veterans Affairs                                                                                                                                 ', '3600: VETERANS AFFAIRS, DEPARTMENT OF                                      ', 'MCKESSON CORPORATION                                                                                                                                                                                                                                           ', '6505: DRUGS AND BIOLOGICALS                                                                                                                                                                                                                                    ', '325412: PHARMACEUTICAL PREPARATION MANUFACTURING                                                                                                                                                                                                               ', 255426000.0, 255426000.0, 255426000.0, 'SAN FRANCISCO                                                                   ', 'CA                                      ', '94104')]"
      ]
     },
     "execution_count": 80,
     "metadata": {},
     "output_type": "execute_result"
    }
   ],
   "source": [
    "%%sql\n",
    "SELECT \n",
    "    b.maj_agency_cat,\n",
    "    b.contractingofficeagencyid,\n",
    "    c.vendorname,\n",
    "    c.productorservicecode,\n",
    "    c.principalnaicscode,\n",
    "    a.dollarsobligated,\n",
    "    a.baseandexercisedoptionsvalue,\n",
    "    a.baseandalloptionsvalue,\n",
    "    c.city,\n",
    "    c.state,\n",
    "    c.zipcode\n",
    "FROM gov_contract_fact a\n",
    "JOIN gov_agency_dimension b ON a.gov_agency_key = b.gov_agency_key\n",
    "JOIN vendor_dimension c ON a.vendor_key = c.vendor_key\n",
    "ORDER BY a.dollarsobligated DESC\n",
    "LIMIT 10;"
   ]
  },
  {
   "cell_type": "markdown",
   "metadata": {
    "collapsed": true
   },
   "source": [
    "The top four highest-value contracts in 2016 (based on our sample) were awarded to companies whose principal NAICS code was Aircraft Manufacturing. Note that the highest value contract in our sample (to Boeing for $2.8b) represents almost 10% of total contracted dollars in FY2016."
   ]
  },
  {
   "cell_type": "markdown",
   "metadata": {},
   "source": [
    "## Conclusion\n",
    "\n",
    "Our sample of data, from the 2016 Federal Contracts data set on usaspending.gov, displays a clear story of federal government contract spending for fiscal year 2016. By far, the highest number of contracts and the highest-value contracts were awarded by the Department of Defense. The contract budget for the Department of Defense may be as much as the contract budget for all other departments combined. The individual contracts awarded in fiscal year 2016 with the highest base value were awarded to companies such as Boeing and Lockheed Martin, whose principal NAICS code is Aircraft Manufacturing. This indicates that the federal government is spending a great deal of contract money on equipment to be used by the Department of Defense."
   ]
  }
 ],
 "metadata": {
  "anaconda-cloud": {},
  "kernelspec": {
   "display_name": "Python 3",
   "language": "python",
   "name": "python3"
  },
  "language_info": {
   "codemirror_mode": {
    "name": "ipython",
    "version": 3
   },
   "file_extension": ".py",
   "mimetype": "text/x-python",
   "name": "python",
   "nbconvert_exporter": "python",
   "pygments_lexer": "ipython3",
   "version": "3.6.1"
  }
 },
 "nbformat": 4,
 "nbformat_minor": 1
}
